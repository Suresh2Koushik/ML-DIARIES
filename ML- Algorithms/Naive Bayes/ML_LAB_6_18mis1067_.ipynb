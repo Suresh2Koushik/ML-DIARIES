{
  "nbformat": 4,
  "nbformat_minor": 0,
  "metadata": {
    "colab": {
      "name": "ML LAB-6-18mis1067 .ipynb",
      "provenance": [],
      "collapsed_sections": []
    },
    "kernelspec": {
      "name": "python3",
      "display_name": "Python 3"
    },
    "language_info": {
      "name": "python"
    }
  },
  "cells": [
    {
      "cell_type": "markdown",
      "metadata": {
        "id": "sYM7pqkYMPXY"
      },
      "source": [
        "SURESH KANNA P\n",
        "18MIS1067\n",
        "SWE4012\n",
        "MACHINE LEARNING\n",
        "MACHINE LEARNING-6"
      ]
    },
    {
      "cell_type": "markdown",
      "metadata": {
        "id": "uyVTw8kfMYUh"
      },
      "source": [
        "Import the required packages and the dataset"
      ]
    },
    {
      "cell_type": "code",
      "metadata": {
        "id": "UXssahr7aH-k"
      },
      "source": [
        "#import the packages\n",
        "\n",
        "import pandas as pd\n",
        "import numpy as np"
      ],
      "execution_count": 60,
      "outputs": []
    },
    {
      "cell_type": "code",
      "metadata": {
        "id": "Hb-Dui_je_nU"
      },
      "source": [
        "#Get the dataset\n",
        "#Tennis Datsets\n",
        "\n",
        "dataset = pd.read_csv(\"PlayTennis.csv\")\n"
      ],
      "execution_count": 61,
      "outputs": []
    },
    {
      "cell_type": "code",
      "metadata": {
        "colab": {
          "base_uri": "https://localhost:8080/",
          "height": 483
        },
        "id": "09dRps94e_09",
        "outputId": "178173d1-f99d-48fb-b093-678936695093"
      },
      "source": [
        "#printing the datasets\n",
        "dataset"
      ],
      "execution_count": 62,
      "outputs": [
        {
          "output_type": "execute_result",
          "data": {
            "text/html": [
              "<div>\n",
              "<style scoped>\n",
              "    .dataframe tbody tr th:only-of-type {\n",
              "        vertical-align: middle;\n",
              "    }\n",
              "\n",
              "    .dataframe tbody tr th {\n",
              "        vertical-align: top;\n",
              "    }\n",
              "\n",
              "    .dataframe thead th {\n",
              "        text-align: right;\n",
              "    }\n",
              "</style>\n",
              "<table border=\"1\" class=\"dataframe\">\n",
              "  <thead>\n",
              "    <tr style=\"text-align: right;\">\n",
              "      <th></th>\n",
              "      <th>Outlook</th>\n",
              "      <th>Temperature</th>\n",
              "      <th>Humidity</th>\n",
              "      <th>Wind</th>\n",
              "      <th>Play Tennis</th>\n",
              "    </tr>\n",
              "  </thead>\n",
              "  <tbody>\n",
              "    <tr>\n",
              "      <th>0</th>\n",
              "      <td>Sunny</td>\n",
              "      <td>Hot</td>\n",
              "      <td>High</td>\n",
              "      <td>Weak</td>\n",
              "      <td>No</td>\n",
              "    </tr>\n",
              "    <tr>\n",
              "      <th>1</th>\n",
              "      <td>Sunny</td>\n",
              "      <td>Hot</td>\n",
              "      <td>High</td>\n",
              "      <td>Strong</td>\n",
              "      <td>No</td>\n",
              "    </tr>\n",
              "    <tr>\n",
              "      <th>2</th>\n",
              "      <td>Overcast</td>\n",
              "      <td>Hot</td>\n",
              "      <td>High</td>\n",
              "      <td>Weak</td>\n",
              "      <td>Yes</td>\n",
              "    </tr>\n",
              "    <tr>\n",
              "      <th>3</th>\n",
              "      <td>Rain</td>\n",
              "      <td>Mild</td>\n",
              "      <td>High</td>\n",
              "      <td>Weak</td>\n",
              "      <td>Yes</td>\n",
              "    </tr>\n",
              "    <tr>\n",
              "      <th>4</th>\n",
              "      <td>Rain</td>\n",
              "      <td>Cool</td>\n",
              "      <td>Normal</td>\n",
              "      <td>Weak</td>\n",
              "      <td>Yes</td>\n",
              "    </tr>\n",
              "    <tr>\n",
              "      <th>5</th>\n",
              "      <td>Rain</td>\n",
              "      <td>Cool</td>\n",
              "      <td>Normal</td>\n",
              "      <td>Strong</td>\n",
              "      <td>No</td>\n",
              "    </tr>\n",
              "    <tr>\n",
              "      <th>6</th>\n",
              "      <td>Overcast</td>\n",
              "      <td>Cool</td>\n",
              "      <td>Normal</td>\n",
              "      <td>Strong</td>\n",
              "      <td>Yes</td>\n",
              "    </tr>\n",
              "    <tr>\n",
              "      <th>7</th>\n",
              "      <td>Sunny</td>\n",
              "      <td>Mild</td>\n",
              "      <td>High</td>\n",
              "      <td>Weak</td>\n",
              "      <td>No</td>\n",
              "    </tr>\n",
              "    <tr>\n",
              "      <th>8</th>\n",
              "      <td>Sunny</td>\n",
              "      <td>Cool</td>\n",
              "      <td>Normal</td>\n",
              "      <td>Weak</td>\n",
              "      <td>Yes</td>\n",
              "    </tr>\n",
              "    <tr>\n",
              "      <th>9</th>\n",
              "      <td>Rain</td>\n",
              "      <td>Mild</td>\n",
              "      <td>Normal</td>\n",
              "      <td>Weak</td>\n",
              "      <td>Yes</td>\n",
              "    </tr>\n",
              "    <tr>\n",
              "      <th>10</th>\n",
              "      <td>Sunny</td>\n",
              "      <td>Mild</td>\n",
              "      <td>Normal</td>\n",
              "      <td>Strong</td>\n",
              "      <td>Yes</td>\n",
              "    </tr>\n",
              "    <tr>\n",
              "      <th>11</th>\n",
              "      <td>Overcast</td>\n",
              "      <td>Mild</td>\n",
              "      <td>High</td>\n",
              "      <td>Strong</td>\n",
              "      <td>Yes</td>\n",
              "    </tr>\n",
              "    <tr>\n",
              "      <th>12</th>\n",
              "      <td>Overcast</td>\n",
              "      <td>Hot</td>\n",
              "      <td>Normal</td>\n",
              "      <td>Weak</td>\n",
              "      <td>Yes</td>\n",
              "    </tr>\n",
              "    <tr>\n",
              "      <th>13</th>\n",
              "      <td>Rain</td>\n",
              "      <td>Mild</td>\n",
              "      <td>High</td>\n",
              "      <td>Strong</td>\n",
              "      <td>No</td>\n",
              "    </tr>\n",
              "  </tbody>\n",
              "</table>\n",
              "</div>"
            ],
            "text/plain": [
              "     Outlook Temperature Humidity    Wind Play Tennis\n",
              "0      Sunny         Hot     High    Weak          No\n",
              "1      Sunny         Hot     High  Strong          No\n",
              "2   Overcast         Hot     High    Weak         Yes\n",
              "3       Rain        Mild     High    Weak         Yes\n",
              "4       Rain        Cool   Normal    Weak         Yes\n",
              "5       Rain        Cool   Normal  Strong          No\n",
              "6   Overcast        Cool   Normal  Strong         Yes\n",
              "7      Sunny        Mild     High    Weak          No\n",
              "8      Sunny        Cool   Normal    Weak         Yes\n",
              "9       Rain        Mild   Normal    Weak         Yes\n",
              "10     Sunny        Mild   Normal  Strong         Yes\n",
              "11  Overcast        Mild     High  Strong         Yes\n",
              "12  Overcast         Hot   Normal    Weak         Yes\n",
              "13      Rain        Mild     High  Strong          No"
            ]
          },
          "metadata": {},
          "execution_count": 62
        }
      ]
    },
    {
      "cell_type": "markdown",
      "metadata": {
        "id": "e9Worg_FMljB"
      },
      "source": [
        "Preprocessing the data"
      ]
    },
    {
      "cell_type": "code",
      "metadata": {
        "colab": {
          "base_uri": "https://localhost:8080/",
          "height": 0
        },
        "id": "_t-uQ-AdfAMo",
        "outputId": "df051820-502c-4ec8-f715-0ae87a8bb78c"
      },
      "source": [
        "#dataset. shape\n",
        "#the following commands returns the shape- rows and columns of the dataset\n",
        "dataset.shape"
      ],
      "execution_count": 63,
      "outputs": [
        {
          "output_type": "execute_result",
          "data": {
            "text/plain": [
              "(14, 5)"
            ]
          },
          "metadata": {},
          "execution_count": 63
        }
      ]
    },
    {
      "cell_type": "code",
      "metadata": {
        "id": "PGRqjUSdhZAO"
      },
      "source": [
        "#extracting the values x and y\n",
        "x= dataset.iloc[:, [0,1,2,3]].values  \n",
        "y= dataset.iloc[:, 4].values  "
      ],
      "execution_count": 64,
      "outputs": []
    },
    {
      "cell_type": "code",
      "metadata": {
        "colab": {
          "base_uri": "https://localhost:8080/",
          "height": 0
        },
        "id": "ySj578kphnYY",
        "outputId": "a02e217c-ddc2-410e-ff59-b0fc9dc59db5"
      },
      "source": [
        "#print(x)\n",
        "x"
      ],
      "execution_count": 65,
      "outputs": [
        {
          "output_type": "execute_result",
          "data": {
            "text/plain": [
              "array([['Sunny', 'Hot', 'High', 'Weak'],\n",
              "       ['Sunny', 'Hot', 'High', 'Strong'],\n",
              "       ['Overcast', 'Hot', 'High', 'Weak'],\n",
              "       ['Rain', 'Mild', 'High', 'Weak'],\n",
              "       ['Rain', 'Cool', 'Normal', 'Weak'],\n",
              "       ['Rain', 'Cool', 'Normal', 'Strong'],\n",
              "       ['Overcast', 'Cool', 'Normal', 'Strong'],\n",
              "       ['Sunny', 'Mild', 'High', 'Weak'],\n",
              "       ['Sunny', 'Cool', 'Normal', 'Weak'],\n",
              "       ['Rain', 'Mild', 'Normal', 'Weak'],\n",
              "       ['Sunny', 'Mild', 'Normal', 'Strong'],\n",
              "       ['Overcast', 'Mild', 'High', 'Strong'],\n",
              "       ['Overcast', 'Hot', 'Normal', 'Weak'],\n",
              "       ['Rain', 'Mild', 'High', 'Strong']], dtype=object)"
            ]
          },
          "metadata": {},
          "execution_count": 65
        }
      ]
    },
    {
      "cell_type": "code",
      "metadata": {
        "colab": {
          "base_uri": "https://localhost:8080/",
          "height": 0
        },
        "id": "DGjIaOI8hobu",
        "outputId": "c9ffb8f2-8a54-4042-9459-9ef3e6a42daf"
      },
      "source": [
        "#print(y)\n",
        "y"
      ],
      "execution_count": 66,
      "outputs": [
        {
          "output_type": "execute_result",
          "data": {
            "text/plain": [
              "array(['No', 'No', 'Yes', 'Yes', 'Yes', 'No', 'Yes', 'No', 'Yes', 'Yes',\n",
              "       'Yes', 'Yes', 'Yes', 'No'], dtype=object)"
            ]
          },
          "metadata": {},
          "execution_count": 66
        }
      ]
    },
    {
      "cell_type": "code",
      "metadata": {
        "id": "-isLIkRVhrNr"
      },
      "source": [
        "#labelEncoder\n",
        "\n",
        "#using lablel enconder to convert string to int\n",
        "\n",
        "from sklearn import preprocessing \n",
        "le = preprocessing.LabelEncoder()\n"
      ],
      "execution_count": 67,
      "outputs": []
    },
    {
      "cell_type": "code",
      "metadata": {
        "colab": {
          "base_uri": "https://localhost:8080/",
          "height": 483
        },
        "id": "XvdoTGnvib31",
        "outputId": "860c5963-87af-42f6-c27e-10731c20bdcb"
      },
      "source": [
        "dataset"
      ],
      "execution_count": 68,
      "outputs": [
        {
          "output_type": "execute_result",
          "data": {
            "text/html": [
              "<div>\n",
              "<style scoped>\n",
              "    .dataframe tbody tr th:only-of-type {\n",
              "        vertical-align: middle;\n",
              "    }\n",
              "\n",
              "    .dataframe tbody tr th {\n",
              "        vertical-align: top;\n",
              "    }\n",
              "\n",
              "    .dataframe thead th {\n",
              "        text-align: right;\n",
              "    }\n",
              "</style>\n",
              "<table border=\"1\" class=\"dataframe\">\n",
              "  <thead>\n",
              "    <tr style=\"text-align: right;\">\n",
              "      <th></th>\n",
              "      <th>Outlook</th>\n",
              "      <th>Temperature</th>\n",
              "      <th>Humidity</th>\n",
              "      <th>Wind</th>\n",
              "      <th>Play Tennis</th>\n",
              "    </tr>\n",
              "  </thead>\n",
              "  <tbody>\n",
              "    <tr>\n",
              "      <th>0</th>\n",
              "      <td>Sunny</td>\n",
              "      <td>Hot</td>\n",
              "      <td>High</td>\n",
              "      <td>Weak</td>\n",
              "      <td>No</td>\n",
              "    </tr>\n",
              "    <tr>\n",
              "      <th>1</th>\n",
              "      <td>Sunny</td>\n",
              "      <td>Hot</td>\n",
              "      <td>High</td>\n",
              "      <td>Strong</td>\n",
              "      <td>No</td>\n",
              "    </tr>\n",
              "    <tr>\n",
              "      <th>2</th>\n",
              "      <td>Overcast</td>\n",
              "      <td>Hot</td>\n",
              "      <td>High</td>\n",
              "      <td>Weak</td>\n",
              "      <td>Yes</td>\n",
              "    </tr>\n",
              "    <tr>\n",
              "      <th>3</th>\n",
              "      <td>Rain</td>\n",
              "      <td>Mild</td>\n",
              "      <td>High</td>\n",
              "      <td>Weak</td>\n",
              "      <td>Yes</td>\n",
              "    </tr>\n",
              "    <tr>\n",
              "      <th>4</th>\n",
              "      <td>Rain</td>\n",
              "      <td>Cool</td>\n",
              "      <td>Normal</td>\n",
              "      <td>Weak</td>\n",
              "      <td>Yes</td>\n",
              "    </tr>\n",
              "    <tr>\n",
              "      <th>5</th>\n",
              "      <td>Rain</td>\n",
              "      <td>Cool</td>\n",
              "      <td>Normal</td>\n",
              "      <td>Strong</td>\n",
              "      <td>No</td>\n",
              "    </tr>\n",
              "    <tr>\n",
              "      <th>6</th>\n",
              "      <td>Overcast</td>\n",
              "      <td>Cool</td>\n",
              "      <td>Normal</td>\n",
              "      <td>Strong</td>\n",
              "      <td>Yes</td>\n",
              "    </tr>\n",
              "    <tr>\n",
              "      <th>7</th>\n",
              "      <td>Sunny</td>\n",
              "      <td>Mild</td>\n",
              "      <td>High</td>\n",
              "      <td>Weak</td>\n",
              "      <td>No</td>\n",
              "    </tr>\n",
              "    <tr>\n",
              "      <th>8</th>\n",
              "      <td>Sunny</td>\n",
              "      <td>Cool</td>\n",
              "      <td>Normal</td>\n",
              "      <td>Weak</td>\n",
              "      <td>Yes</td>\n",
              "    </tr>\n",
              "    <tr>\n",
              "      <th>9</th>\n",
              "      <td>Rain</td>\n",
              "      <td>Mild</td>\n",
              "      <td>Normal</td>\n",
              "      <td>Weak</td>\n",
              "      <td>Yes</td>\n",
              "    </tr>\n",
              "    <tr>\n",
              "      <th>10</th>\n",
              "      <td>Sunny</td>\n",
              "      <td>Mild</td>\n",
              "      <td>Normal</td>\n",
              "      <td>Strong</td>\n",
              "      <td>Yes</td>\n",
              "    </tr>\n",
              "    <tr>\n",
              "      <th>11</th>\n",
              "      <td>Overcast</td>\n",
              "      <td>Mild</td>\n",
              "      <td>High</td>\n",
              "      <td>Strong</td>\n",
              "      <td>Yes</td>\n",
              "    </tr>\n",
              "    <tr>\n",
              "      <th>12</th>\n",
              "      <td>Overcast</td>\n",
              "      <td>Hot</td>\n",
              "      <td>Normal</td>\n",
              "      <td>Weak</td>\n",
              "      <td>Yes</td>\n",
              "    </tr>\n",
              "    <tr>\n",
              "      <th>13</th>\n",
              "      <td>Rain</td>\n",
              "      <td>Mild</td>\n",
              "      <td>High</td>\n",
              "      <td>Strong</td>\n",
              "      <td>No</td>\n",
              "    </tr>\n",
              "  </tbody>\n",
              "</table>\n",
              "</div>"
            ],
            "text/plain": [
              "     Outlook Temperature Humidity    Wind Play Tennis\n",
              "0      Sunny         Hot     High    Weak          No\n",
              "1      Sunny         Hot     High  Strong          No\n",
              "2   Overcast         Hot     High    Weak         Yes\n",
              "3       Rain        Mild     High    Weak         Yes\n",
              "4       Rain        Cool   Normal    Weak         Yes\n",
              "5       Rain        Cool   Normal  Strong          No\n",
              "6   Overcast        Cool   Normal  Strong         Yes\n",
              "7      Sunny        Mild     High    Weak          No\n",
              "8      Sunny        Cool   Normal    Weak         Yes\n",
              "9       Rain        Mild   Normal    Weak         Yes\n",
              "10     Sunny        Mild   Normal  Strong         Yes\n",
              "11  Overcast        Mild     High  Strong         Yes\n",
              "12  Overcast         Hot   Normal    Weak         Yes\n",
              "13      Rain        Mild     High  Strong          No"
            ]
          },
          "metadata": {},
          "execution_count": 68
        }
      ]
    },
    {
      "cell_type": "code",
      "metadata": {
        "id": "YD9Xed_RiHWL"
      },
      "source": [
        "##using lablel enconder to convert string data to int data\n",
        "dataset[\"Outlook\"] = le.fit_transform(dataset[\"Outlook\"].astype(str))\n",
        "dataset[\"Temperature\"] = le.fit_transform(dataset[\"Temperature\"].astype(str))\n",
        "dataset[\"Humidity\"] = le.fit_transform(dataset[\"Humidity\"].astype(str))\n",
        "dataset[\"Wind\"] = le.fit_transform(dataset[\"Wind\"].astype(str))\n",
        "dataset[\"Play Tennis\"] = le.fit_transform(dataset[\"Play Tennis\"].astype(str))"
      ],
      "execution_count": 69,
      "outputs": []
    },
    {
      "cell_type": "code",
      "metadata": {
        "colab": {
          "base_uri": "https://localhost:8080/",
          "height": 0
        },
        "id": "E5WAiBtfi7ql",
        "outputId": "5e261a72-9375-4088-b569-29cd6f016175"
      },
      "source": [
        "#printing the dataset after processing with the labelencoder\n",
        "print(dataset)"
      ],
      "execution_count": 70,
      "outputs": [
        {
          "output_type": "stream",
          "name": "stdout",
          "text": [
            "    Outlook  Temperature  Humidity  Wind  Play Tennis\n",
            "0         2            1         0     1            0\n",
            "1         2            1         0     0            0\n",
            "2         0            1         0     1            1\n",
            "3         1            2         0     1            1\n",
            "4         1            0         1     1            1\n",
            "5         1            0         1     0            0\n",
            "6         0            0         1     0            1\n",
            "7         2            2         0     1            0\n",
            "8         2            0         1     1            1\n",
            "9         1            2         1     1            1\n",
            "10        2            2         1     0            1\n",
            "11        0            2         0     0            1\n",
            "12        0            1         1     1            1\n",
            "13        1            2         0     0            0\n"
          ]
        }
      ]
    },
    {
      "cell_type": "code",
      "metadata": {
        "id": "Fsq9jCY3i7Vu"
      },
      "source": [
        "#Learning phase and testing phase\n",
        "\n",
        "#step-1- learning phase"
      ],
      "execution_count": 43,
      "outputs": []
    },
    {
      "cell_type": "code",
      "metadata": {
        "id": "VhW1khjBjfnY"
      },
      "source": [
        "#attributes of the datasets\n",
        "\n",
        "#attributes-Outllok,Temperature, Humiditym, WInd\n",
        "\n",
        "#condition- Play tennis or not"
      ],
      "execution_count": 44,
      "outputs": []
    },
    {
      "cell_type": "code",
      "metadata": {
        "id": "XLiBWm2bjfVE"
      },
      "source": [
        "attributes = [\"Outlook\", \"Temperature\", \"Humidity\", \"Wind\"]\n",
        "\n",
        "condition = \"Play Tennis\"\n"
      ],
      "execution_count": 71,
      "outputs": []
    },
    {
      "cell_type": "code",
      "metadata": {
        "colab": {
          "base_uri": "https://localhost:8080/",
          "height": 0
        },
        "id": "_43k6AEQje-_",
        "outputId": "3ba3dea1-1852-4391-f4a0-e99ed6aa9cb3"
      },
      "source": [
        "attributes"
      ],
      "execution_count": 72,
      "outputs": [
        {
          "output_type": "execute_result",
          "data": {
            "text/plain": [
              "['Outlook', 'Temperature', 'Humidity', 'Wind']"
            ]
          },
          "metadata": {},
          "execution_count": 72
        }
      ]
    },
    {
      "cell_type": "code",
      "metadata": {
        "colab": {
          "base_uri": "https://localhost:8080/",
          "height": 35
        },
        "id": "yb_oPBbHkc2J",
        "outputId": "ee875779-56d1-49a1-ded7-2fa24d2f09aa"
      },
      "source": [
        "condition"
      ],
      "execution_count": 73,
      "outputs": [
        {
          "output_type": "execute_result",
          "data": {
            "application/vnd.google.colaboratory.intrinsic+json": {
              "type": "string"
            },
            "text/plain": [
              "'Play Tennis'"
            ]
          },
          "metadata": {},
          "execution_count": 73
        }
      ]
    },
    {
      "cell_type": "code",
      "metadata": {
        "colab": {
          "base_uri": "https://localhost:8080/",
          "height": 0
        },
        "id": "m_J08fg48Uyz",
        "outputId": "2a1b0970-ce5f-4f15-9dea-b2aa08634aaf"
      },
      "source": [
        "print(dataset)"
      ],
      "execution_count": 74,
      "outputs": [
        {
          "output_type": "stream",
          "name": "stdout",
          "text": [
            "    Outlook  Temperature  Humidity  Wind  Play Tennis\n",
            "0         2            1         0     1            0\n",
            "1         2            1         0     0            0\n",
            "2         0            1         0     1            1\n",
            "3         1            2         0     1            1\n",
            "4         1            0         1     1            1\n",
            "5         1            0         1     0            0\n",
            "6         0            0         1     0            1\n",
            "7         2            2         0     1            0\n",
            "8         2            0         1     1            1\n",
            "9         1            2         1     1            1\n",
            "10        2            2         1     0            1\n",
            "11        0            2         0     0            1\n",
            "12        0            1         1     1            1\n",
            "13        1            2         0     0            0\n"
          ]
        }
      ]
    },
    {
      "cell_type": "code",
      "metadata": {
        "id": "70y9KeqN7adG"
      },
      "source": [
        "#dataset converted to integers using above notations\n",
        "dataset = [\n",
        "           [2,1,0,1,0],\n",
        "           [2,1,0,0,0],\n",
        "           [1,2,0,1,1],\n",
        "           [1,0,1,1,1],\n",
        "           [1,0,1,0,0],\n",
        "           [0,0,1,0,0],\n",
        "           [2,2,0,1,0],\n",
        "           [2,0,1,1,1],\n",
        "           [1,2,1,0,1],\n",
        "           [1,2,1,1,1],\n",
        "           [2,2,1,0,1],\n",
        "           [0,2,0,0,1],\n",
        "           [0,1,1,1,1],\n",
        "           [1,2,0,0,0]\n",
        "           ]"
      ],
      "execution_count": 75,
      "outputs": []
    },
    {
      "cell_type": "markdown",
      "metadata": {
        "id": "pg4ERcBCNA7F"
      },
      "source": [
        "Condition--Play tennis or not\n",
        "Sepearte the data--Play Tennis -Yes or No?"
      ]
    },
    {
      "cell_type": "code",
      "metadata": {
        "colab": {
          "base_uri": "https://localhost:8080/",
          "height": 0
        },
        "id": "qcHrq6U-8cym",
        "outputId": "0632fc36-1475-4582-8dce-4cd99a7b61b9"
      },
      "source": [
        "#Now we have to separate the data according to the Play Golf column (which is ‘y’ since this is what we have to predict). \n",
        "#For this, we will create a dictionary and append the list into it.\n",
        "\n",
        "#creating the dictionary\n",
        "play = dict()\n",
        "for i in range(len(dataset)):\n",
        "    row = dataset[i]\n",
        "    y = row[-1]\n",
        "    if (y not in play):\n",
        "        play[y] = list()\n",
        "    play[y].append(row)\n",
        "for label in play:\n",
        "    print(label)\n",
        "    for row in play[label]:\n",
        "        print(row)\n",
        "  #printing the yes or no data"
      ],
      "execution_count": 77,
      "outputs": [
        {
          "output_type": "stream",
          "name": "stdout",
          "text": [
            "0\n",
            "[2, 1, 0, 1, 0]\n",
            "[2, 1, 0, 0, 0]\n",
            "[1, 0, 1, 0, 0]\n",
            "[0, 0, 1, 0, 0]\n",
            "[2, 2, 0, 1, 0]\n",
            "[1, 2, 0, 0, 0]\n",
            "1\n",
            "[1, 2, 0, 1, 1]\n",
            "[1, 0, 1, 1, 1]\n",
            "[2, 0, 1, 1, 1]\n",
            "[1, 2, 1, 0, 1]\n",
            "[1, 2, 1, 1, 1]\n",
            "[2, 2, 1, 0, 1]\n",
            "[0, 2, 0, 0, 1]\n",
            "[0, 1, 1, 1, 1]\n"
          ]
        }
      ]
    },
    {
      "cell_type": "markdown",
      "metadata": {
        "id": "bazXvvnbNvLf"
      },
      "source": [
        "Testing the data"
      ]
    },
    {
      "cell_type": "code",
      "metadata": {
        "id": "ttlrWeiy8hhY"
      },
      "source": [
        "#testing the data\n",
        "#Outlook  Temperature  Humidity  Wind  Play Tennis\n",
        "#0         2            1         0     0            0\n",
        "\n",
        "#when outlook=1, temperature=2, humidity=0, wind=0\n",
        "test = [1,2,0,0]"
      ],
      "execution_count": 78,
      "outputs": []
    },
    {
      "cell_type": "markdown",
      "metadata": {
        "id": "_GtMFLl3Nzr4"
      },
      "source": [
        "Applying the Naive Bayes"
      ]
    },
    {
      "cell_type": "code",
      "metadata": {
        "colab": {
          "base_uri": "https://localhost:8080/",
          "height": 0
        },
        "id": "qNLD1imx8g3b",
        "outputId": "898e7cd7-8c19-45a8-f1cc-aa6d4b179926"
      },
      "source": [
        "#when probaility of playing tennis is equal to yes\n",
        "probYes = 1\n",
        "\n",
        "count = 0\n",
        "total = 0\n",
        "for row in dataset:\n",
        "    if(row[-1] == 1):\n",
        "        count+=1\n",
        "    total+=1\n",
        "print(\"Total yes: \"+str(count)+\" / \"+str(total))\n",
        "probYes *= count/total\n",
        "for i in range(len(test)):\n",
        "    count = 0\n",
        "    total = 0\n",
        "    for row in play[1]:\n",
        "        if(test[i] == row[i]):\n",
        "            count += 1\n",
        "        total += 1\n",
        "    print('For the attribute '+str(i+1))\n",
        "    print(str(count)+\" / \"+str(total))\n",
        "    probYes *= count/total\n"
      ],
      "execution_count": 79,
      "outputs": [
        {
          "output_type": "stream",
          "name": "stdout",
          "text": [
            "Total yes: 8 / 14\n",
            "For the attribute 1\n",
            "4 / 8\n",
            "For the attribute 2\n",
            "5 / 8\n",
            "For the attribute 3\n",
            "2 / 8\n",
            "For the attribute 4\n",
            "3 / 8\n"
          ]
        }
      ]
    },
    {
      "cell_type": "code",
      "metadata": {
        "colab": {
          "base_uri": "https://localhost:8080/",
          "height": 0
        },
        "id": "L6i62JJ3MCLx",
        "outputId": "b570677c-25f6-4fa5-cec6-c303aee6ef41"
      },
      "source": [
        "probNo = 1\n",
        "count = 0\n",
        "total = 0\n",
        "for row in dataset:\n",
        "    if(row[-1] == 0):\n",
        "        count+=1\n",
        "    total+=1\n",
        "probNo *= count/total\n",
        "print(\"Total no: \"+str(count)+\" / \"+str(total))\n",
        "for i in range(len(test)):\n",
        "    count = 0\n",
        "    total = 0\n",
        "    for row in mp[0]:\n",
        "        if(test[i] == row[i]):\n",
        "            count += 1\n",
        "        total += 1\n",
        "    print('for feature '+str(i+1))\n",
        "    print(str(count)+\" / \"+str(total))\n",
        "    probNo *= count/total"
      ],
      "execution_count": 81,
      "outputs": [
        {
          "output_type": "stream",
          "name": "stdout",
          "text": [
            "Total no: 6 / 14\n",
            "for feature 1\n",
            "2 / 6\n",
            "for feature 2\n",
            "2 / 6\n",
            "for feature 3\n",
            "4 / 6\n",
            "for feature 4\n",
            "4 / 6\n"
          ]
        }
      ]
    },
    {
      "cell_type": "code",
      "metadata": {
        "colab": {
          "base_uri": "https://localhost:8080/",
          "height": 0
        },
        "id": "ndolHC738gY4",
        "outputId": "d7fa23f5-6486-44c7-832b-ab8e086050d1"
      },
      "source": [
        "print(probYes)\n",
        "print(probNo)"
      ],
      "execution_count": 82,
      "outputs": [
        {
          "output_type": "stream",
          "name": "stdout",
          "text": [
            "0.016741071428571425\n",
            "0.021164021164021163\n"
          ]
        }
      ]
    },
    {
      "cell_type": "code",
      "metadata": {
        "colab": {
          "base_uri": "https://localhost:8080/",
          "height": 0
        },
        "id": "YJJddqxA8f4L",
        "outputId": "91917844-4819-4108-8e22-5704a17fa178"
      },
      "source": [
        "prob = probYes/(probYes+probNo)\n",
        "print(\"Probability of playing Tennis: \"+str(prob*100)+\"%\")"
      ],
      "execution_count": 83,
      "outputs": [
        {
          "output_type": "stream",
          "name": "stdout",
          "text": [
            "Probability of playing Tennis: 44.165757906215916%\n"
          ]
        }
      ]
    }
  ]
}