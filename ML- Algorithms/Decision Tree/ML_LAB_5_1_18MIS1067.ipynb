{
  "nbformat": 4,
  "nbformat_minor": 0,
  "metadata": {
    "anaconda-cloud": {},
    "kernelspec": {
      "display_name": "Python 3",
      "language": "python",
      "name": "python3"
    },
    "language_info": {
      "codemirror_mode": {
        "name": "ipython",
        "version": 3
      },
      "file_extension": ".py",
      "mimetype": "text/x-python",
      "name": "python",
      "nbconvert_exporter": "python",
      "pygments_lexer": "ipython3",
      "version": "3.8.8"
    },
    "toc": {
      "nav_menu": {},
      "number_sections": true,
      "sideBar": true,
      "skip_h1_title": false,
      "title_cell": "Table of Contents",
      "title_sidebar": "Contents",
      "toc_cell": false,
      "toc_position": {},
      "toc_section_display": true,
      "toc_window_display": false
    },
    "colab": {
      "name": "ML-LAB-5.1-18MIS1067",
      "provenance": []
    }
  },
  "cells": [
    {
      "cell_type": "markdown",
      "metadata": {
        "id": "J_ERHUB87Y5N"
      },
      "source": [
        "SURESH KANNA P\n",
        "18MIS1067\n",
        "SWE4012\n",
        "MACHINE LEARNING LAB-5\n"
      ]
    },
    {
      "cell_type": "markdown",
      "metadata": {
        "id": "VYyWqRMj7sJh"
      },
      "source": [
        "Import the required packages and define the dataset"
      ]
    },
    {
      "cell_type": "code",
      "metadata": {
        "id": "Sb0tVQM335Xu"
      },
      "source": [
        "#import the required packages\n",
        "\n",
        "import numpy as np\n",
        "import pandas as pd\n",
        "\n",
        "#‘eps’ here is the smallest representable number. At times we get log(0) or 0 in the denominator, to avoid that we are going to use this.\n",
        "\n",
        "eps = np.finfo(float).eps\n",
        "from numpy import log2 as log\n",
        "import pprint\n",
        "\n",
        "#define the datasets\n",
        "\n",
        "outlook = 'overcast,overcast,overcast,overcast,rainy,rainy,rainy,rainy,rainy,sunny,sunny,sunny,sunny,sunny'.split(',')\n",
        "temp = 'hot,cool,mild,hot,mild,cool,cool,mild,mild,hot,hot,mild,cool,mild'.split(',')\n",
        "humidity = 'high,normal,high,normal,high,normal,normal,normal,high,high,high,high,normal,normal'.split(',')\n",
        "windy = 'FALSE,TRUE,TRUE,FALSE,FALSE,FALSE,TRUE,FALSE,TRUE,FALSE,TRUE,FALSE,FALSE,TRUE'.split(',')\n",
        "play = 'yes,yes,yes,yes,yes,yes,no,yes,no,no,no,no,yes,yes'.split(',')\n",
        "\n",
        "#creating the pandas dataframe\n",
        "dataset ={'outlook':outlook,'temp':temp,'humidity':humidity,'windy':windy,'play':play}\n",
        "df = pd.DataFrame(dataset,columns=['outlook','temp','humidity','windy','play'])"
      ],
      "execution_count": 13,
      "outputs": []
    },
    {
      "cell_type": "code",
      "metadata": {
        "colab": {
          "base_uri": "https://localhost:8080/",
          "height": 483
        },
        "id": "0zY0tyrY46q2",
        "outputId": "8df58199-f5be-4467-d8e2-a17163f9105b"
      },
      "source": [
        "df"
      ],
      "execution_count": 14,
      "outputs": [
        {
          "output_type": "execute_result",
          "data": {
            "text/html": [
              "<div>\n",
              "<style scoped>\n",
              "    .dataframe tbody tr th:only-of-type {\n",
              "        vertical-align: middle;\n",
              "    }\n",
              "\n",
              "    .dataframe tbody tr th {\n",
              "        vertical-align: top;\n",
              "    }\n",
              "\n",
              "    .dataframe thead th {\n",
              "        text-align: right;\n",
              "    }\n",
              "</style>\n",
              "<table border=\"1\" class=\"dataframe\">\n",
              "  <thead>\n",
              "    <tr style=\"text-align: right;\">\n",
              "      <th></th>\n",
              "      <th>outlook</th>\n",
              "      <th>temp</th>\n",
              "      <th>humidity</th>\n",
              "      <th>windy</th>\n",
              "      <th>play</th>\n",
              "    </tr>\n",
              "  </thead>\n",
              "  <tbody>\n",
              "    <tr>\n",
              "      <th>0</th>\n",
              "      <td>overcast</td>\n",
              "      <td>hot</td>\n",
              "      <td>high</td>\n",
              "      <td>FALSE</td>\n",
              "      <td>yes</td>\n",
              "    </tr>\n",
              "    <tr>\n",
              "      <th>1</th>\n",
              "      <td>overcast</td>\n",
              "      <td>cool</td>\n",
              "      <td>normal</td>\n",
              "      <td>TRUE</td>\n",
              "      <td>yes</td>\n",
              "    </tr>\n",
              "    <tr>\n",
              "      <th>2</th>\n",
              "      <td>overcast</td>\n",
              "      <td>mild</td>\n",
              "      <td>high</td>\n",
              "      <td>TRUE</td>\n",
              "      <td>yes</td>\n",
              "    </tr>\n",
              "    <tr>\n",
              "      <th>3</th>\n",
              "      <td>overcast</td>\n",
              "      <td>hot</td>\n",
              "      <td>normal</td>\n",
              "      <td>FALSE</td>\n",
              "      <td>yes</td>\n",
              "    </tr>\n",
              "    <tr>\n",
              "      <th>4</th>\n",
              "      <td>rainy</td>\n",
              "      <td>mild</td>\n",
              "      <td>high</td>\n",
              "      <td>FALSE</td>\n",
              "      <td>yes</td>\n",
              "    </tr>\n",
              "    <tr>\n",
              "      <th>5</th>\n",
              "      <td>rainy</td>\n",
              "      <td>cool</td>\n",
              "      <td>normal</td>\n",
              "      <td>FALSE</td>\n",
              "      <td>yes</td>\n",
              "    </tr>\n",
              "    <tr>\n",
              "      <th>6</th>\n",
              "      <td>rainy</td>\n",
              "      <td>cool</td>\n",
              "      <td>normal</td>\n",
              "      <td>TRUE</td>\n",
              "      <td>no</td>\n",
              "    </tr>\n",
              "    <tr>\n",
              "      <th>7</th>\n",
              "      <td>rainy</td>\n",
              "      <td>mild</td>\n",
              "      <td>normal</td>\n",
              "      <td>FALSE</td>\n",
              "      <td>yes</td>\n",
              "    </tr>\n",
              "    <tr>\n",
              "      <th>8</th>\n",
              "      <td>rainy</td>\n",
              "      <td>mild</td>\n",
              "      <td>high</td>\n",
              "      <td>TRUE</td>\n",
              "      <td>no</td>\n",
              "    </tr>\n",
              "    <tr>\n",
              "      <th>9</th>\n",
              "      <td>sunny</td>\n",
              "      <td>hot</td>\n",
              "      <td>high</td>\n",
              "      <td>FALSE</td>\n",
              "      <td>no</td>\n",
              "    </tr>\n",
              "    <tr>\n",
              "      <th>10</th>\n",
              "      <td>sunny</td>\n",
              "      <td>hot</td>\n",
              "      <td>high</td>\n",
              "      <td>TRUE</td>\n",
              "      <td>no</td>\n",
              "    </tr>\n",
              "    <tr>\n",
              "      <th>11</th>\n",
              "      <td>sunny</td>\n",
              "      <td>mild</td>\n",
              "      <td>high</td>\n",
              "      <td>FALSE</td>\n",
              "      <td>no</td>\n",
              "    </tr>\n",
              "    <tr>\n",
              "      <th>12</th>\n",
              "      <td>sunny</td>\n",
              "      <td>cool</td>\n",
              "      <td>normal</td>\n",
              "      <td>FALSE</td>\n",
              "      <td>yes</td>\n",
              "    </tr>\n",
              "    <tr>\n",
              "      <th>13</th>\n",
              "      <td>sunny</td>\n",
              "      <td>mild</td>\n",
              "      <td>normal</td>\n",
              "      <td>TRUE</td>\n",
              "      <td>yes</td>\n",
              "    </tr>\n",
              "  </tbody>\n",
              "</table>\n",
              "</div>"
            ],
            "text/plain": [
              "     outlook  temp humidity  windy play\n",
              "0   overcast   hot     high  FALSE  yes\n",
              "1   overcast  cool   normal   TRUE  yes\n",
              "2   overcast  mild     high   TRUE  yes\n",
              "3   overcast   hot   normal  FALSE  yes\n",
              "4      rainy  mild     high  FALSE  yes\n",
              "5      rainy  cool   normal  FALSE  yes\n",
              "6      rainy  cool   normal   TRUE   no\n",
              "7      rainy  mild   normal  FALSE  yes\n",
              "8      rainy  mild     high   TRUE   no\n",
              "9      sunny   hot     high  FALSE   no\n",
              "10     sunny   hot     high   TRUE   no\n",
              "11     sunny  mild     high  FALSE   no\n",
              "12     sunny  cool   normal  FALSE  yes\n",
              "13     sunny  mild   normal   TRUE  yes"
            ]
          },
          "metadata": {},
          "execution_count": 14
        }
      ]
    },
    {
      "cell_type": "markdown",
      "metadata": {
        "id": "NVvf6kTX8k8h"
      },
      "source": [
        "1. Compute the entropy for data-set\n",
        "2. For every attribute/feature:\n",
        "       1.Calculate entropy for all categorical values\n",
        "       2.Take average information entropy for the current attribute\n",
        "       3.Calculate gain for the current attribute\n",
        "3. Pick the highest gain attribute.\n",
        "\n",
        "4. Repeat until we get the tree we desired"
      ]
    },
    {
      "cell_type": "markdown",
      "metadata": {
        "id": "4nvhxK-T88VJ"
      },
      "source": [
        "Find the Entropy and then Information Gain for splitting the data set![image.png](data:image/png;base64,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)\n"
      ]
    },
    {
      "cell_type": "code",
      "metadata": {
        "id": "MrDwiqw835X0"
      },
      "source": [
        "\n",
        "#1. claculate entropy to the entire dataset\n",
        "def info(df):\n",
        "    Class = df.keys()[-1]   \n",
        "    infD = 0\n",
        "    values = df[Class].unique()\n",
        "    for value in values:\n",
        "        prob = df[Class].value_counts()[value]/len(df[Class])\n",
        "        infD += -prob*np.log2(prob)\n",
        "    return infD"
      ],
      "execution_count": 15,
      "outputs": []
    },
    {
      "cell_type": "markdown",
      "metadata": {
        "id": "PAJaQ6vC9V4Y"
      },
      "source": [
        " Then define a function {ent} to calculate entropy of each attributes \n"
      ]
    },
    {
      "cell_type": "code",
      "metadata": {
        "id": "-N-lXAaZ35YF"
      },
      "source": [
        "def info_attribute(df,attribute):\n",
        "  Class = df.keys()[-1]  \n",
        "  Class_values = df[Class].unique()  \n",
        "  att_values = df[attribute].unique()    \n",
        "  info0 = 0\n",
        "  for att_value in att_values:\n",
        "      info = 0\n",
        "      for Class_value in Class_values:\n",
        "          num = len(df[attribute][df[attribute]==att_value][df[Class] ==Class_value])\n",
        "          den = len(df[attribute][df[attribute]==att_value])\n",
        "          prob = num/(den+eps)\n",
        "          info += -prob*log(prob+eps)\n",
        "      prob0 = den/len(df)\n",
        "      info0 += -prob0*info\n",
        "  return abs(info0)"
      ],
      "execution_count": 16,
      "outputs": []
    },
    {
      "cell_type": "markdown",
      "metadata": {
        "id": "DoY8kO7H9rx5"
      },
      "source": [
        ""
      ]
    },
    {
      "cell_type": "markdown",
      "metadata": {
        "id": "Xc-WtIIw9sBV"
      },
      "source": [
        " Then define a function to find the nodes of the tree\n"
      ]
    },
    {
      "cell_type": "code",
      "metadata": {
        "id": "tZFs8wcs35YK"
      },
      "source": [
        "def find_node(df):\n",
        "    info_gain = []\n",
        "    for key in df.keys()[:-1]:\n",
        "        info_gain.append(info(df)-info_attribute(df,key))\n",
        "    return df.keys()[:-1][np.argmax(info_gain)]"
      ],
      "execution_count": 17,
      "outputs": []
    },
    {
      "cell_type": "code",
      "metadata": {
        "id": "s1iei-MF35YP"
      },
      "source": [
        "def get_subtable(df, node,value):\n",
        "  return df[df[node] == value].reset_index(drop=True)"
      ],
      "execution_count": 18,
      "outputs": []
    },
    {
      "cell_type": "markdown",
      "metadata": {
        "id": "hmnn6GkI995X"
      },
      "source": [
        ""
      ]
    },
    {
      "cell_type": "markdown",
      "metadata": {
        "id": "C7z0n-UZ9_Wy"
      },
      "source": [
        " Then define a function to build the tree\n"
      ]
    },
    {
      "cell_type": "code",
      "metadata": {
        "id": "yEGr0F5735YV"
      },
      "source": [
        "def buildTree(df,tree=None): \n",
        "    Class = df.keys()[-1]  \n",
        "    \n",
        "     #Get attribute with maximum information gain\n",
        "    node = find_node(df)\n",
        "    #Get distinct value of that attribute\n",
        "    attValue = np.unique(df[node])\n",
        "     #Create an empty dictionary to create the tree   \n",
        "    if tree is None:                    \n",
        "        tree={}\n",
        "        tree[node] = {}\n",
        " #We make loop to construct a tree by calling this function recursively. \n",
        "    for value in attValue:\n",
        "        \n",
        "        subtable = get_subtable(df,node,value)\n",
        "        class_value,counts = np.unique(subtable['play'],return_counts=True)                        \n",
        "        \n",
        "        if len(counts)==1:\n",
        "            tree[node][value] = class_value[0]                                                    \n",
        "        else:        \n",
        "            tree[node][value] = buildTree(subtable) \n",
        "                   \n",
        "    return tree"
      ],
      "execution_count": 19,
      "outputs": []
    },
    {
      "cell_type": "markdown",
      "metadata": {
        "id": "SS-VU_Ly-fYo"
      },
      "source": [
        "Call and print the function\n"
      ]
    },
    {
      "cell_type": "code",
      "metadata": {
        "colab": {
          "base_uri": "https://localhost:8080/",
          "height": 0
        },
        "id": "Rf4wMzNQ35YX",
        "outputId": "7e1c6ab0-b406-4631-a2f5-3a0c26594100"
      },
      "source": [
        "tree = buildTree(df)\n",
        "pprint.pprint(tree)"
      ],
      "execution_count": 20,
      "outputs": [
        {
          "output_type": "stream",
          "name": "stdout",
          "text": [
            "{'outlook': {'overcast': 'yes',\n",
            "             'rainy': {'windy': {'FALSE': 'yes', 'TRUE': 'no'}},\n",
            "             'sunny': {'humidity': {'high': 'no', 'normal': 'yes'}}}}\n"
          ]
        }
      ]
    },
    {
      "cell_type": "markdown",
      "metadata": {
        "id": "FisUcc1e7XgY"
      },
      "source": [
        ""
      ]
    }
  ]
}