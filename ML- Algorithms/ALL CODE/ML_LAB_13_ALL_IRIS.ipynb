{
  "nbformat": 4,
  "nbformat_minor": 0,
  "metadata": {
    "colab": {
      "name": "ML LAB-13-ALL-IRIS",
      "provenance": [],
      "collapsed_sections": []
    },
    "kernelspec": {
      "display_name": "Python 3",
      "name": "python3"
    },
    "language_info": {
      "name": "python"
    }
  },
  "cells": [
    {
      "cell_type": "markdown",
      "metadata": {
        "id": "zmhNkl1rP8_c"
      },
      "source": [
        "\n",
        "\n",
        "```\n",
        "`# This is formatted as code`\n",
        "```\n",
        "\n",
        "#SURESH KANNNA P\n",
        "##18MIS1067\n",
        "##SWE4021\n",
        "##ML LAB-13\n",
        "\n",
        "\n",
        "\n"
      ]
    },
    {
      "cell_type": "markdown",
      "metadata": {
        "id": "AgvQhkKUQnCI"
      },
      "source": [
        "Importing the required packages and dataset"
      ]
    },
    {
      "cell_type": "code",
      "metadata": {
        "id": "5t7MWR-GlAmE"
      },
      "source": [
        "\n",
        "#Import required packages\n",
        "import numpy as np\n",
        "import pandas as pd\n",
        "import matplotlib.pyplot as plt\n",
        "from sklearn import datasets\n",
        "import seaborn as sns\n",
        "sns.set(style=\"white\", color_codes=True)\n",
        "\n",
        "\n"
      ],
      "execution_count": 1,
      "outputs": []
    },
    {
      "cell_type": "code",
      "metadata": {
        "id": "pQ464VNhDTvS"
      },
      "source": [
        "#importing the dataset\n",
        "\n",
        "iris = datasets.load_iris()"
      ],
      "execution_count": 2,
      "outputs": []
    },
    {
      "cell_type": "code",
      "metadata": {
        "colab": {
          "base_uri": "https://localhost:8080/"
        },
        "id": "EiRfjjP2DTdD",
        "outputId": "164c14a7-b781-49c2-f297-161757b32450"
      },
      "source": [
        "iris"
      ],
      "execution_count": 3,
      "outputs": [
        {
          "output_type": "execute_result",
          "data": {
            "text/plain": [
              "{'DESCR': '.. _iris_dataset:\\n\\nIris plants dataset\\n--------------------\\n\\n**Data Set Characteristics:**\\n\\n    :Number of Instances: 150 (50 in each of three classes)\\n    :Number of Attributes: 4 numeric, predictive attributes and the class\\n    :Attribute Information:\\n        - sepal length in cm\\n        - sepal width in cm\\n        - petal length in cm\\n        - petal width in cm\\n        - class:\\n                - Iris-Setosa\\n                - Iris-Versicolour\\n                - Iris-Virginica\\n                \\n    :Summary Statistics:\\n\\n    ============== ==== ==== ======= ===== ====================\\n                    Min  Max   Mean    SD   Class Correlation\\n    ============== ==== ==== ======= ===== ====================\\n    sepal length:   4.3  7.9   5.84   0.83    0.7826\\n    sepal width:    2.0  4.4   3.05   0.43   -0.4194\\n    petal length:   1.0  6.9   3.76   1.76    0.9490  (high!)\\n    petal width:    0.1  2.5   1.20   0.76    0.9565  (high!)\\n    ============== ==== ==== ======= ===== ====================\\n\\n    :Missing Attribute Values: None\\n    :Class Distribution: 33.3% for each of 3 classes.\\n    :Creator: R.A. Fisher\\n    :Donor: Michael Marshall (MARSHALL%PLU@io.arc.nasa.gov)\\n    :Date: July, 1988\\n\\nThe famous Iris database, first used by Sir R.A. Fisher. The dataset is taken\\nfrom Fisher\\'s paper. Note that it\\'s the same as in R, but not as in the UCI\\nMachine Learning Repository, which has two wrong data points.\\n\\nThis is perhaps the best known database to be found in the\\npattern recognition literature.  Fisher\\'s paper is a classic in the field and\\nis referenced frequently to this day.  (See Duda & Hart, for example.)  The\\ndata set contains 3 classes of 50 instances each, where each class refers to a\\ntype of iris plant.  One class is linearly separable from the other 2; the\\nlatter are NOT linearly separable from each other.\\n\\n.. topic:: References\\n\\n   - Fisher, R.A. \"The use of multiple measurements in taxonomic problems\"\\n     Annual Eugenics, 7, Part II, 179-188 (1936); also in \"Contributions to\\n     Mathematical Statistics\" (John Wiley, NY, 1950).\\n   - Duda, R.O., & Hart, P.E. (1973) Pattern Classification and Scene Analysis.\\n     (Q327.D83) John Wiley & Sons.  ISBN 0-471-22361-1.  See page 218.\\n   - Dasarathy, B.V. (1980) \"Nosing Around the Neighborhood: A New System\\n     Structure and Classification Rule for Recognition in Partially Exposed\\n     Environments\".  IEEE Transactions on Pattern Analysis and Machine\\n     Intelligence, Vol. PAMI-2, No. 1, 67-71.\\n   - Gates, G.W. (1972) \"The Reduced Nearest Neighbor Rule\".  IEEE Transactions\\n     on Information Theory, May 1972, 431-433.\\n   - See also: 1988 MLC Proceedings, 54-64.  Cheeseman et al\"s AUTOCLASS II\\n     conceptual clustering system finds 3 classes in the data.\\n   - Many, many more ...',\n",
              " 'data': array([[5.1, 3.5, 1.4, 0.2],\n",
              "        [4.9, 3. , 1.4, 0.2],\n",
              "        [4.7, 3.2, 1.3, 0.2],\n",
              "        [4.6, 3.1, 1.5, 0.2],\n",
              "        [5. , 3.6, 1.4, 0.2],\n",
              "        [5.4, 3.9, 1.7, 0.4],\n",
              "        [4.6, 3.4, 1.4, 0.3],\n",
              "        [5. , 3.4, 1.5, 0.2],\n",
              "        [4.4, 2.9, 1.4, 0.2],\n",
              "        [4.9, 3.1, 1.5, 0.1],\n",
              "        [5.4, 3.7, 1.5, 0.2],\n",
              "        [4.8, 3.4, 1.6, 0.2],\n",
              "        [4.8, 3. , 1.4, 0.1],\n",
              "        [4.3, 3. , 1.1, 0.1],\n",
              "        [5.8, 4. , 1.2, 0.2],\n",
              "        [5.7, 4.4, 1.5, 0.4],\n",
              "        [5.4, 3.9, 1.3, 0.4],\n",
              "        [5.1, 3.5, 1.4, 0.3],\n",
              "        [5.7, 3.8, 1.7, 0.3],\n",
              "        [5.1, 3.8, 1.5, 0.3],\n",
              "        [5.4, 3.4, 1.7, 0.2],\n",
              "        [5.1, 3.7, 1.5, 0.4],\n",
              "        [4.6, 3.6, 1. , 0.2],\n",
              "        [5.1, 3.3, 1.7, 0.5],\n",
              "        [4.8, 3.4, 1.9, 0.2],\n",
              "        [5. , 3. , 1.6, 0.2],\n",
              "        [5. , 3.4, 1.6, 0.4],\n",
              "        [5.2, 3.5, 1.5, 0.2],\n",
              "        [5.2, 3.4, 1.4, 0.2],\n",
              "        [4.7, 3.2, 1.6, 0.2],\n",
              "        [4.8, 3.1, 1.6, 0.2],\n",
              "        [5.4, 3.4, 1.5, 0.4],\n",
              "        [5.2, 4.1, 1.5, 0.1],\n",
              "        [5.5, 4.2, 1.4, 0.2],\n",
              "        [4.9, 3.1, 1.5, 0.2],\n",
              "        [5. , 3.2, 1.2, 0.2],\n",
              "        [5.5, 3.5, 1.3, 0.2],\n",
              "        [4.9, 3.6, 1.4, 0.1],\n",
              "        [4.4, 3. , 1.3, 0.2],\n",
              "        [5.1, 3.4, 1.5, 0.2],\n",
              "        [5. , 3.5, 1.3, 0.3],\n",
              "        [4.5, 2.3, 1.3, 0.3],\n",
              "        [4.4, 3.2, 1.3, 0.2],\n",
              "        [5. , 3.5, 1.6, 0.6],\n",
              "        [5.1, 3.8, 1.9, 0.4],\n",
              "        [4.8, 3. , 1.4, 0.3],\n",
              "        [5.1, 3.8, 1.6, 0.2],\n",
              "        [4.6, 3.2, 1.4, 0.2],\n",
              "        [5.3, 3.7, 1.5, 0.2],\n",
              "        [5. , 3.3, 1.4, 0.2],\n",
              "        [7. , 3.2, 4.7, 1.4],\n",
              "        [6.4, 3.2, 4.5, 1.5],\n",
              "        [6.9, 3.1, 4.9, 1.5],\n",
              "        [5.5, 2.3, 4. , 1.3],\n",
              "        [6.5, 2.8, 4.6, 1.5],\n",
              "        [5.7, 2.8, 4.5, 1.3],\n",
              "        [6.3, 3.3, 4.7, 1.6],\n",
              "        [4.9, 2.4, 3.3, 1. ],\n",
              "        [6.6, 2.9, 4.6, 1.3],\n",
              "        [5.2, 2.7, 3.9, 1.4],\n",
              "        [5. , 2. , 3.5, 1. ],\n",
              "        [5.9, 3. , 4.2, 1.5],\n",
              "        [6. , 2.2, 4. , 1. ],\n",
              "        [6.1, 2.9, 4.7, 1.4],\n",
              "        [5.6, 2.9, 3.6, 1.3],\n",
              "        [6.7, 3.1, 4.4, 1.4],\n",
              "        [5.6, 3. , 4.5, 1.5],\n",
              "        [5.8, 2.7, 4.1, 1. ],\n",
              "        [6.2, 2.2, 4.5, 1.5],\n",
              "        [5.6, 2.5, 3.9, 1.1],\n",
              "        [5.9, 3.2, 4.8, 1.8],\n",
              "        [6.1, 2.8, 4. , 1.3],\n",
              "        [6.3, 2.5, 4.9, 1.5],\n",
              "        [6.1, 2.8, 4.7, 1.2],\n",
              "        [6.4, 2.9, 4.3, 1.3],\n",
              "        [6.6, 3. , 4.4, 1.4],\n",
              "        [6.8, 2.8, 4.8, 1.4],\n",
              "        [6.7, 3. , 5. , 1.7],\n",
              "        [6. , 2.9, 4.5, 1.5],\n",
              "        [5.7, 2.6, 3.5, 1. ],\n",
              "        [5.5, 2.4, 3.8, 1.1],\n",
              "        [5.5, 2.4, 3.7, 1. ],\n",
              "        [5.8, 2.7, 3.9, 1.2],\n",
              "        [6. , 2.7, 5.1, 1.6],\n",
              "        [5.4, 3. , 4.5, 1.5],\n",
              "        [6. , 3.4, 4.5, 1.6],\n",
              "        [6.7, 3.1, 4.7, 1.5],\n",
              "        [6.3, 2.3, 4.4, 1.3],\n",
              "        [5.6, 3. , 4.1, 1.3],\n",
              "        [5.5, 2.5, 4. , 1.3],\n",
              "        [5.5, 2.6, 4.4, 1.2],\n",
              "        [6.1, 3. , 4.6, 1.4],\n",
              "        [5.8, 2.6, 4. , 1.2],\n",
              "        [5. , 2.3, 3.3, 1. ],\n",
              "        [5.6, 2.7, 4.2, 1.3],\n",
              "        [5.7, 3. , 4.2, 1.2],\n",
              "        [5.7, 2.9, 4.2, 1.3],\n",
              "        [6.2, 2.9, 4.3, 1.3],\n",
              "        [5.1, 2.5, 3. , 1.1],\n",
              "        [5.7, 2.8, 4.1, 1.3],\n",
              "        [6.3, 3.3, 6. , 2.5],\n",
              "        [5.8, 2.7, 5.1, 1.9],\n",
              "        [7.1, 3. , 5.9, 2.1],\n",
              "        [6.3, 2.9, 5.6, 1.8],\n",
              "        [6.5, 3. , 5.8, 2.2],\n",
              "        [7.6, 3. , 6.6, 2.1],\n",
              "        [4.9, 2.5, 4.5, 1.7],\n",
              "        [7.3, 2.9, 6.3, 1.8],\n",
              "        [6.7, 2.5, 5.8, 1.8],\n",
              "        [7.2, 3.6, 6.1, 2.5],\n",
              "        [6.5, 3.2, 5.1, 2. ],\n",
              "        [6.4, 2.7, 5.3, 1.9],\n",
              "        [6.8, 3. , 5.5, 2.1],\n",
              "        [5.7, 2.5, 5. , 2. ],\n",
              "        [5.8, 2.8, 5.1, 2.4],\n",
              "        [6.4, 3.2, 5.3, 2.3],\n",
              "        [6.5, 3. , 5.5, 1.8],\n",
              "        [7.7, 3.8, 6.7, 2.2],\n",
              "        [7.7, 2.6, 6.9, 2.3],\n",
              "        [6. , 2.2, 5. , 1.5],\n",
              "        [6.9, 3.2, 5.7, 2.3],\n",
              "        [5.6, 2.8, 4.9, 2. ],\n",
              "        [7.7, 2.8, 6.7, 2. ],\n",
              "        [6.3, 2.7, 4.9, 1.8],\n",
              "        [6.7, 3.3, 5.7, 2.1],\n",
              "        [7.2, 3.2, 6. , 1.8],\n",
              "        [6.2, 2.8, 4.8, 1.8],\n",
              "        [6.1, 3. , 4.9, 1.8],\n",
              "        [6.4, 2.8, 5.6, 2.1],\n",
              "        [7.2, 3. , 5.8, 1.6],\n",
              "        [7.4, 2.8, 6.1, 1.9],\n",
              "        [7.9, 3.8, 6.4, 2. ],\n",
              "        [6.4, 2.8, 5.6, 2.2],\n",
              "        [6.3, 2.8, 5.1, 1.5],\n",
              "        [6.1, 2.6, 5.6, 1.4],\n",
              "        [7.7, 3. , 6.1, 2.3],\n",
              "        [6.3, 3.4, 5.6, 2.4],\n",
              "        [6.4, 3.1, 5.5, 1.8],\n",
              "        [6. , 3. , 4.8, 1.8],\n",
              "        [6.9, 3.1, 5.4, 2.1],\n",
              "        [6.7, 3.1, 5.6, 2.4],\n",
              "        [6.9, 3.1, 5.1, 2.3],\n",
              "        [5.8, 2.7, 5.1, 1.9],\n",
              "        [6.8, 3.2, 5.9, 2.3],\n",
              "        [6.7, 3.3, 5.7, 2.5],\n",
              "        [6.7, 3. , 5.2, 2.3],\n",
              "        [6.3, 2.5, 5. , 1.9],\n",
              "        [6.5, 3. , 5.2, 2. ],\n",
              "        [6.2, 3.4, 5.4, 2.3],\n",
              "        [5.9, 3. , 5.1, 1.8]]),\n",
              " 'data_module': 'sklearn.datasets.data',\n",
              " 'feature_names': ['sepal length (cm)',\n",
              "  'sepal width (cm)',\n",
              "  'petal length (cm)',\n",
              "  'petal width (cm)'],\n",
              " 'filename': 'iris.csv',\n",
              " 'frame': None,\n",
              " 'target': array([0, 0, 0, 0, 0, 0, 0, 0, 0, 0, 0, 0, 0, 0, 0, 0, 0, 0, 0, 0, 0, 0,\n",
              "        0, 0, 0, 0, 0, 0, 0, 0, 0, 0, 0, 0, 0, 0, 0, 0, 0, 0, 0, 0, 0, 0,\n",
              "        0, 0, 0, 0, 0, 0, 1, 1, 1, 1, 1, 1, 1, 1, 1, 1, 1, 1, 1, 1, 1, 1,\n",
              "        1, 1, 1, 1, 1, 1, 1, 1, 1, 1, 1, 1, 1, 1, 1, 1, 1, 1, 1, 1, 1, 1,\n",
              "        1, 1, 1, 1, 1, 1, 1, 1, 1, 1, 1, 1, 2, 2, 2, 2, 2, 2, 2, 2, 2, 2,\n",
              "        2, 2, 2, 2, 2, 2, 2, 2, 2, 2, 2, 2, 2, 2, 2, 2, 2, 2, 2, 2, 2, 2,\n",
              "        2, 2, 2, 2, 2, 2, 2, 2, 2, 2, 2, 2, 2, 2, 2, 2, 2, 2]),\n",
              " 'target_names': array(['setosa', 'versicolor', 'virginica'], dtype='<U10')}"
            ]
          },
          "metadata": {},
          "execution_count": 3
        }
      ]
    },
    {
      "cell_type": "markdown",
      "metadata": {
        "id": "6z2R63ALyBmY"
      },
      "source": [
        "Pre-Processing\n"
      ]
    },
    {
      "cell_type": "code",
      "metadata": {
        "id": "qpw_wtJ6DTLh"
      },
      "source": [
        "#Extracting the value for x and y\n",
        "\n",
        "X = iris.data[:, :2]\n",
        "y = iris.target"
      ],
      "execution_count": 4,
      "outputs": []
    },
    {
      "cell_type": "code",
      "metadata": {
        "colab": {
          "base_uri": "https://localhost:8080/"
        },
        "id": "THkpLr8-DS3M",
        "outputId": "ce9ec11c-72e0-4c10-df0a-00fc54e40bd3"
      },
      "source": [
        "#printing the value of X and y\n",
        "X"
      ],
      "execution_count": 5,
      "outputs": [
        {
          "output_type": "execute_result",
          "data": {
            "text/plain": [
              "array([[5.1, 3.5],\n",
              "       [4.9, 3. ],\n",
              "       [4.7, 3.2],\n",
              "       [4.6, 3.1],\n",
              "       [5. , 3.6],\n",
              "       [5.4, 3.9],\n",
              "       [4.6, 3.4],\n",
              "       [5. , 3.4],\n",
              "       [4.4, 2.9],\n",
              "       [4.9, 3.1],\n",
              "       [5.4, 3.7],\n",
              "       [4.8, 3.4],\n",
              "       [4.8, 3. ],\n",
              "       [4.3, 3. ],\n",
              "       [5.8, 4. ],\n",
              "       [5.7, 4.4],\n",
              "       [5.4, 3.9],\n",
              "       [5.1, 3.5],\n",
              "       [5.7, 3.8],\n",
              "       [5.1, 3.8],\n",
              "       [5.4, 3.4],\n",
              "       [5.1, 3.7],\n",
              "       [4.6, 3.6],\n",
              "       [5.1, 3.3],\n",
              "       [4.8, 3.4],\n",
              "       [5. , 3. ],\n",
              "       [5. , 3.4],\n",
              "       [5.2, 3.5],\n",
              "       [5.2, 3.4],\n",
              "       [4.7, 3.2],\n",
              "       [4.8, 3.1],\n",
              "       [5.4, 3.4],\n",
              "       [5.2, 4.1],\n",
              "       [5.5, 4.2],\n",
              "       [4.9, 3.1],\n",
              "       [5. , 3.2],\n",
              "       [5.5, 3.5],\n",
              "       [4.9, 3.6],\n",
              "       [4.4, 3. ],\n",
              "       [5.1, 3.4],\n",
              "       [5. , 3.5],\n",
              "       [4.5, 2.3],\n",
              "       [4.4, 3.2],\n",
              "       [5. , 3.5],\n",
              "       [5.1, 3.8],\n",
              "       [4.8, 3. ],\n",
              "       [5.1, 3.8],\n",
              "       [4.6, 3.2],\n",
              "       [5.3, 3.7],\n",
              "       [5. , 3.3],\n",
              "       [7. , 3.2],\n",
              "       [6.4, 3.2],\n",
              "       [6.9, 3.1],\n",
              "       [5.5, 2.3],\n",
              "       [6.5, 2.8],\n",
              "       [5.7, 2.8],\n",
              "       [6.3, 3.3],\n",
              "       [4.9, 2.4],\n",
              "       [6.6, 2.9],\n",
              "       [5.2, 2.7],\n",
              "       [5. , 2. ],\n",
              "       [5.9, 3. ],\n",
              "       [6. , 2.2],\n",
              "       [6.1, 2.9],\n",
              "       [5.6, 2.9],\n",
              "       [6.7, 3.1],\n",
              "       [5.6, 3. ],\n",
              "       [5.8, 2.7],\n",
              "       [6.2, 2.2],\n",
              "       [5.6, 2.5],\n",
              "       [5.9, 3.2],\n",
              "       [6.1, 2.8],\n",
              "       [6.3, 2.5],\n",
              "       [6.1, 2.8],\n",
              "       [6.4, 2.9],\n",
              "       [6.6, 3. ],\n",
              "       [6.8, 2.8],\n",
              "       [6.7, 3. ],\n",
              "       [6. , 2.9],\n",
              "       [5.7, 2.6],\n",
              "       [5.5, 2.4],\n",
              "       [5.5, 2.4],\n",
              "       [5.8, 2.7],\n",
              "       [6. , 2.7],\n",
              "       [5.4, 3. ],\n",
              "       [6. , 3.4],\n",
              "       [6.7, 3.1],\n",
              "       [6.3, 2.3],\n",
              "       [5.6, 3. ],\n",
              "       [5.5, 2.5],\n",
              "       [5.5, 2.6],\n",
              "       [6.1, 3. ],\n",
              "       [5.8, 2.6],\n",
              "       [5. , 2.3],\n",
              "       [5.6, 2.7],\n",
              "       [5.7, 3. ],\n",
              "       [5.7, 2.9],\n",
              "       [6.2, 2.9],\n",
              "       [5.1, 2.5],\n",
              "       [5.7, 2.8],\n",
              "       [6.3, 3.3],\n",
              "       [5.8, 2.7],\n",
              "       [7.1, 3. ],\n",
              "       [6.3, 2.9],\n",
              "       [6.5, 3. ],\n",
              "       [7.6, 3. ],\n",
              "       [4.9, 2.5],\n",
              "       [7.3, 2.9],\n",
              "       [6.7, 2.5],\n",
              "       [7.2, 3.6],\n",
              "       [6.5, 3.2],\n",
              "       [6.4, 2.7],\n",
              "       [6.8, 3. ],\n",
              "       [5.7, 2.5],\n",
              "       [5.8, 2.8],\n",
              "       [6.4, 3.2],\n",
              "       [6.5, 3. ],\n",
              "       [7.7, 3.8],\n",
              "       [7.7, 2.6],\n",
              "       [6. , 2.2],\n",
              "       [6.9, 3.2],\n",
              "       [5.6, 2.8],\n",
              "       [7.7, 2.8],\n",
              "       [6.3, 2.7],\n",
              "       [6.7, 3.3],\n",
              "       [7.2, 3.2],\n",
              "       [6.2, 2.8],\n",
              "       [6.1, 3. ],\n",
              "       [6.4, 2.8],\n",
              "       [7.2, 3. ],\n",
              "       [7.4, 2.8],\n",
              "       [7.9, 3.8],\n",
              "       [6.4, 2.8],\n",
              "       [6.3, 2.8],\n",
              "       [6.1, 2.6],\n",
              "       [7.7, 3. ],\n",
              "       [6.3, 3.4],\n",
              "       [6.4, 3.1],\n",
              "       [6. , 3. ],\n",
              "       [6.9, 3.1],\n",
              "       [6.7, 3.1],\n",
              "       [6.9, 3.1],\n",
              "       [5.8, 2.7],\n",
              "       [6.8, 3.2],\n",
              "       [6.7, 3.3],\n",
              "       [6.7, 3. ],\n",
              "       [6.3, 2.5],\n",
              "       [6.5, 3. ],\n",
              "       [6.2, 3.4],\n",
              "       [5.9, 3. ]])"
            ]
          },
          "metadata": {},
          "execution_count": 5
        }
      ]
    },
    {
      "cell_type": "code",
      "metadata": {
        "colab": {
          "base_uri": "https://localhost:8080/"
        },
        "id": "saUNrvhfDSml",
        "outputId": "1e3d9fb4-bf95-4170-a867-8988ef62dcba"
      },
      "source": [
        "y"
      ],
      "execution_count": 6,
      "outputs": [
        {
          "output_type": "execute_result",
          "data": {
            "text/plain": [
              "array([0, 0, 0, 0, 0, 0, 0, 0, 0, 0, 0, 0, 0, 0, 0, 0, 0, 0, 0, 0, 0, 0,\n",
              "       0, 0, 0, 0, 0, 0, 0, 0, 0, 0, 0, 0, 0, 0, 0, 0, 0, 0, 0, 0, 0, 0,\n",
              "       0, 0, 0, 0, 0, 0, 1, 1, 1, 1, 1, 1, 1, 1, 1, 1, 1, 1, 1, 1, 1, 1,\n",
              "       1, 1, 1, 1, 1, 1, 1, 1, 1, 1, 1, 1, 1, 1, 1, 1, 1, 1, 1, 1, 1, 1,\n",
              "       1, 1, 1, 1, 1, 1, 1, 1, 1, 1, 1, 1, 2, 2, 2, 2, 2, 2, 2, 2, 2, 2,\n",
              "       2, 2, 2, 2, 2, 2, 2, 2, 2, 2, 2, 2, 2, 2, 2, 2, 2, 2, 2, 2, 2, 2,\n",
              "       2, 2, 2, 2, 2, 2, 2, 2, 2, 2, 2, 2, 2, 2, 2, 2, 2, 2])"
            ]
          },
          "metadata": {},
          "execution_count": 6
        }
      ]
    },
    {
      "cell_type": "code",
      "metadata": {
        "colab": {
          "base_uri": "https://localhost:8080/",
          "height": 309
        },
        "id": "WFAbWATlDSZg",
        "outputId": "b438cd3a-f93a-4743-b5ce-98746884d04f"
      },
      "source": [
        "#Analyzing our data through a scatter plot.\n",
        "\n",
        "plt.scatter(X[:,0], X[:,1], c=y, cmap='gist_rainbow')\n",
        "plt.xlabel('Spea1 Length', fontsize=18)\n",
        "plt.ylabel('Sepal Width', fontsize=18)"
      ],
      "execution_count": 7,
      "outputs": [
        {
          "output_type": "execute_result",
          "data": {
            "text/plain": [
              "Text(0, 0.5, 'Sepal Width')"
            ]
          },
          "metadata": {},
          "execution_count": 7
        },
        {
          "output_type": "display_data",
          "data": {
            "image/png": "[encoded data removed]",
            "text/plain": [
              "<Figure size 432x288 with 1 Axes>"
            ]
          },
          "metadata": {
            "needs_background": "light"
          }
        }
      ]
    },
    {
      "cell_type": "code",
      "metadata": {
        "id": "X6F8OF0Q2YdL"
      },
      "source": [
        "from sklearn.model_selection import train_test_split\n",
        "\n",
        "X_train, X_test, y_train, y_test = train_test_split(X, y, test_size=0.3, random_state=1, stratify=y)"
      ],
      "execution_count": 8,
      "outputs": []
    },
    {
      "cell_type": "markdown",
      "metadata": {
        "id": "5xGc0Z_H2-hT"
      },
      "source": [
        "LOGISTIC REGRESSION"
      ]
    },
    {
      "cell_type": "code",
      "metadata": {
        "id": "LNe93UCU0urY"
      },
      "source": [
        "#LogisticRegression\n",
        "from sklearn.linear_model import LogisticRegression\n",
        "classifier = LogisticRegression()\n",
        "classifier.fit(X_train, y_train)\n",
        "\n",
        "y_pred = classifier.predict(X_test)\n"
      ],
      "execution_count": 9,
      "outputs": []
    },
    {
      "cell_type": "code",
      "metadata": {
        "colab": {
          "base_uri": "https://localhost:8080/"
        },
        "id": "qLRLrrkPHiOf",
        "outputId": "30d2bf5e-1d32-4035-da09-935670abfdf6"
      },
      "source": [
        "from sklearn.metrics import confusion_matrix\n",
        "cm = confusion_matrix(y_test, y_pred)\n",
        "  \n",
        "print (\"Confusion Matrix : \\n\", cm)"
      ],
      "execution_count": 10,
      "outputs": [
        {
          "output_type": "stream",
          "name": "stdout",
          "text": [
            "Confusion Matrix : \n",
            " [[15  0  0]\n",
            " [ 0  8  7]\n",
            " [ 0  5 10]]\n"
          ]
        }
      ]
    },
    {
      "cell_type": "code",
      "metadata": {
        "colab": {
          "base_uri": "https://localhost:8080/"
        },
        "id": "YXF1rNsHHroZ",
        "outputId": "bbec80c4-963a-4e77-ef9c-7b21a30720d4"
      },
      "source": [
        "from sklearn.metrics import classification_report\n",
        "print(classification_report(y_test, y_pred))\n"
      ],
      "execution_count": 11,
      "outputs": [
        {
          "output_type": "stream",
          "name": "stdout",
          "text": [
            "              precision    recall  f1-score   support\n",
            "\n",
            "           0       1.00      1.00      1.00        15\n",
            "           1       0.62      0.53      0.57        15\n",
            "           2       0.59      0.67      0.62        15\n",
            "\n",
            "    accuracy                           0.73        45\n",
            "   macro avg       0.73      0.73      0.73        45\n",
            "weighted avg       0.73      0.73      0.73        45\n",
            "\n"
          ]
        }
      ]
    },
    {
      "cell_type": "code",
      "metadata": {
        "colab": {
          "base_uri": "https://localhost:8080/"
        },
        "id": "6eElBRdaHzMB",
        "outputId": "6f64dd66-d707-419e-b114-c6c6149e2918"
      },
      "source": [
        "from sklearn.metrics import accuracy_score\n",
        "print (\"Accuracy : \", accuracy_score(y_test, y_pred))"
      ],
      "execution_count": 12,
      "outputs": [
        {
          "output_type": "stream",
          "name": "stdout",
          "text": [
            "Accuracy :  0.7333333333333333\n"
          ]
        }
      ]
    },
    {
      "cell_type": "code",
      "metadata": {
        "colab": {
          "base_uri": "https://localhost:8080/",
          "height": 340
        },
        "id": "DWmr4tvz1_u1",
        "outputId": "dba90a88-7d6a-409b-f613-cd5fbea50274"
      },
      "source": [
        "from sklearn.metrics import plot_confusion_matrix\n",
        "plot_confusion_matrix(classifier, X_test, y_test) \n",
        "plt.show()"
      ],
      "execution_count": 13,
      "outputs": [
        {
          "output_type": "stream",
          "name": "stderr",
          "text": [
            "/usr/local/lib/python3.7/dist-packages/sklearn/utils/deprecation.py:87: FutureWarning: Function plot_confusion_matrix is deprecated; Function `plot_confusion_matrix` is deprecated in 1.0 and will be removed in 1.2. Use one of the class methods: ConfusionMatrixDisplay.from_predictions or ConfusionMatrixDisplay.from_estimator.\n",
            "  warnings.warn(msg, category=FutureWarning)\n"
          ]
        },
        {
          "output_type": "display_data",
          "data": {
            "image/png": "[encoded data removed]",
            "text/plain": [
              "<Figure size 432x288 with 2 Axes>"
            ]
          },
          "metadata": {
            "needs_background": "light"
          }
        }
      ]
    },
    {
      "cell_type": "code",
      "metadata": {
        "colab": {
          "base_uri": "https://localhost:8080/"
        },
        "id": "R9FIIW23H191",
        "outputId": "e99f4f18-7c29-4b26-c005-58f632437e5a"
      },
      "source": [
        "from sklearn import metrics \n",
        "print(\"The Accuarcy of Logistic Regression model is: \", metrics.accuracy_score(y_test, y_pred))"
      ],
      "execution_count": 14,
      "outputs": [
        {
          "output_type": "stream",
          "name": "stdout",
          "text": [
            "The Accuarcy of Logistic Regression model is:  0.7333333333333333\n"
          ]
        }
      ]
    },
    {
      "cell_type": "code",
      "metadata": {
        "id": "BQBuQR200ujg"
      },
      "source": [
        " #Gaussian Naive Bayes\n",
        "from sklearn.naive_bayes import GaussianNB\n",
        "classifier = GaussianNB()\n",
        "classifier.fit(X_train, y_train)\n",
        "\n",
        "y_pred = classifier.predict(X_test)\n"
      ],
      "execution_count": 15,
      "outputs": []
    },
    {
      "cell_type": "code",
      "metadata": {
        "colab": {
          "base_uri": "https://localhost:8080/"
        },
        "id": "6O9I5YXIIlq4",
        "outputId": "a0f20fe7-8e46-40c4-dec8-b5093540137a"
      },
      "source": [
        "from sklearn.metrics import confusion_matrix\n",
        "cm = confusion_matrix(y_test, y_pred)\n",
        "  \n",
        "print (\"Confusion Matrix : \\n\", cm)"
      ],
      "execution_count": 16,
      "outputs": [
        {
          "output_type": "stream",
          "name": "stdout",
          "text": [
            "Confusion Matrix : \n",
            " [[15  0  0]\n",
            " [ 0  8  7]\n",
            " [ 0  6  9]]\n"
          ]
        }
      ]
    },
    {
      "cell_type": "code",
      "metadata": {
        "colab": {
          "base_uri": "https://localhost:8080/"
        },
        "id": "aXpoeG6LIuZH",
        "outputId": "507e00b9-3aa3-43b6-d481-bf518c6ee52c"
      },
      "source": [
        "from sklearn.metrics import classification_report\n",
        "print(classification_report(y_test, y_pred))\n"
      ],
      "execution_count": 17,
      "outputs": [
        {
          "output_type": "stream",
          "name": "stdout",
          "text": [
            "              precision    recall  f1-score   support\n",
            "\n",
            "           0       1.00      1.00      1.00        15\n",
            "           1       0.57      0.53      0.55        15\n",
            "           2       0.56      0.60      0.58        15\n",
            "\n",
            "    accuracy                           0.71        45\n",
            "   macro avg       0.71      0.71      0.71        45\n",
            "weighted avg       0.71      0.71      0.71        45\n",
            "\n"
          ]
        }
      ]
    },
    {
      "cell_type": "code",
      "metadata": {
        "colab": {
          "base_uri": "https://localhost:8080/"
        },
        "id": "haFnTl9GIt54",
        "outputId": "10ca923e-f361-4a27-9dde-27ea04a89ddb"
      },
      "source": [
        "from sklearn.metrics import accuracy_score\n",
        "print (\"Accuracy : \", accuracy_score(y_test, y_pred))"
      ],
      "execution_count": 18,
      "outputs": [
        {
          "output_type": "stream",
          "name": "stdout",
          "text": [
            "Accuracy :  0.7111111111111111\n"
          ]
        }
      ]
    },
    {
      "cell_type": "code",
      "metadata": {
        "colab": {
          "base_uri": "https://localhost:8080/",
          "height": 340
        },
        "id": "52HE2RvqI6FC",
        "outputId": "b64fa65f-3471-4ef0-fe21-c16daffb0261"
      },
      "source": [
        "from sklearn.metrics import plot_confusion_matrix\n",
        "plot_confusion_matrix(classifier, X_test, y_test) \n",
        "plt.show()"
      ],
      "execution_count": 19,
      "outputs": [
        {
          "output_type": "stream",
          "name": "stderr",
          "text": [
            "/usr/local/lib/python3.7/dist-packages/sklearn/utils/deprecation.py:87: FutureWarning: Function plot_confusion_matrix is deprecated; Function `plot_confusion_matrix` is deprecated in 1.0 and will be removed in 1.2. Use one of the class methods: ConfusionMatrixDisplay.from_predictions or ConfusionMatrixDisplay.from_estimator.\n",
            "  warnings.warn(msg, category=FutureWarning)\n"
          ]
        },
        {
          "output_type": "display_data",
          "data": {
            "image/png": "[encoded data removed]",
            "text/plain": [
              "<Figure size 432x288 with 2 Axes>"
            ]
          },
          "metadata": {
            "needs_background": "light"
          }
        }
      ]
    },
    {
      "cell_type": "code",
      "metadata": {
        "colab": {
          "base_uri": "https://localhost:8080/"
        },
        "id": "vGOHFngUPo40",
        "outputId": "9cd0f3a5-543e-44c9-9e2b-ef7beb299cfa"
      },
      "source": [
        "from sklearn import metrics \n",
        "print(\"The Accuarcy of Naive Bayes model is: \", metrics.accuracy_score(y_test, y_pred))"
      ],
      "execution_count": 20,
      "outputs": [
        {
          "output_type": "stream",
          "name": "stdout",
          "text": [
            "The Accuarcy of Naive Bayes model is:  0.7111111111111111\n"
          ]
        }
      ]
    },
    {
      "cell_type": "markdown",
      "metadata": {
        "id": "on8RSVkr2xUm"
      },
      "source": [
        "DECISION TREE "
      ]
    },
    {
      "cell_type": "code",
      "metadata": {
        "id": "eJHCDThF0uaK"
      },
      "source": [
        "# Decision Tree\n",
        "from sklearn.tree import DecisionTreeClassifier\n",
        "\n",
        "classifier = DecisionTreeClassifier()\n",
        "\n",
        "classifier.fit(X_train, y_train)\n",
        "\n",
        "y_pred = classifier.predict(X_test)\n",
        "\n"
      ],
      "execution_count": 21,
      "outputs": []
    },
    {
      "cell_type": "code",
      "metadata": {
        "colab": {
          "base_uri": "https://localhost:8080/"
        },
        "id": "Ty3GXOcCJnPO",
        "outputId": "e5e2888d-b18d-44c3-e8a2-484458211cf7"
      },
      "source": [
        "from sklearn.metrics import confusion_matrix\n",
        "cm = confusion_matrix(y_test, y_pred)\n",
        "  \n",
        "print (\"Confusion Matrix : \\n\", cm)"
      ],
      "execution_count": 22,
      "outputs": [
        {
          "output_type": "stream",
          "name": "stdout",
          "text": [
            "Confusion Matrix : \n",
            " [[15  0  0]\n",
            " [ 0  9  6]\n",
            " [ 0  9  6]]\n"
          ]
        }
      ]
    },
    {
      "cell_type": "code",
      "metadata": {
        "colab": {
          "base_uri": "https://localhost:8080/"
        },
        "id": "X3qy4CPFJm6l",
        "outputId": "318cb5fe-3fd4-441b-d22e-e6c0db03bd6d"
      },
      "source": [
        "from sklearn.metrics import classification_report\n",
        "print(classification_report(y_test, y_pred))\n"
      ],
      "execution_count": 23,
      "outputs": [
        {
          "output_type": "stream",
          "name": "stdout",
          "text": [
            "              precision    recall  f1-score   support\n",
            "\n",
            "           0       1.00      1.00      1.00        15\n",
            "           1       0.50      0.60      0.55        15\n",
            "           2       0.50      0.40      0.44        15\n",
            "\n",
            "    accuracy                           0.67        45\n",
            "   macro avg       0.67      0.67      0.66        45\n",
            "weighted avg       0.67      0.67      0.66        45\n",
            "\n"
          ]
        }
      ]
    },
    {
      "cell_type": "code",
      "metadata": {
        "colab": {
          "base_uri": "https://localhost:8080/"
        },
        "id": "-fj4hXHQJmkI",
        "outputId": "962ba7d9-f502-4f9a-99f5-607dec2a52b7"
      },
      "source": [
        "from sklearn.metrics import accuracy_score\n",
        "print (\"Accuracy : \", accuracy_score(y_test, y_pred))"
      ],
      "execution_count": 24,
      "outputs": [
        {
          "output_type": "stream",
          "name": "stdout",
          "text": [
            "Accuracy :  0.6666666666666666\n"
          ]
        }
      ]
    },
    {
      "cell_type": "code",
      "metadata": {
        "colab": {
          "base_uri": "https://localhost:8080/",
          "height": 340
        },
        "id": "R3Eo8Wfi0uSs",
        "outputId": "f1af2e24-23d3-4a81-a052-9e6b4efb1bcd"
      },
      "source": [
        "from sklearn.metrics import plot_confusion_matrix\n",
        "plot_confusion_matrix(classifier, X_test, y_test) \n",
        "plt.show()"
      ],
      "execution_count": 25,
      "outputs": [
        {
          "output_type": "stream",
          "name": "stderr",
          "text": [
            "/usr/local/lib/python3.7/dist-packages/sklearn/utils/deprecation.py:87: FutureWarning: Function plot_confusion_matrix is deprecated; Function `plot_confusion_matrix` is deprecated in 1.0 and will be removed in 1.2. Use one of the class methods: ConfusionMatrixDisplay.from_predictions or ConfusionMatrixDisplay.from_estimator.\n",
            "  warnings.warn(msg, category=FutureWarning)\n"
          ]
        },
        {
          "output_type": "display_data",
          "data": {
            "image/png": "[encoded data removed]",
            "text/plain": [
              "<Figure size 432x288 with 2 Axes>"
            ]
          },
          "metadata": {
            "needs_background": "light"
          }
        }
      ]
    },
    {
      "cell_type": "code",
      "metadata": {
        "colab": {
          "base_uri": "https://localhost:8080/"
        },
        "id": "7qBuhidJP11m",
        "outputId": "d0f279c9-5ecf-4560-8a5b-029049056982"
      },
      "source": [
        "from sklearn import metrics \n",
        "print(\"The Accuarcy of Decision tree is: \", metrics.accuracy_score(y_test, y_pred))"
      ],
      "execution_count": 26,
      "outputs": [
        {
          "output_type": "stream",
          "name": "stdout",
          "text": [
            "The Accuarcy of Decision tree is:  0.6666666666666666\n"
          ]
        }
      ]
    },
    {
      "cell_type": "markdown",
      "metadata": {
        "id": "42ox-beo2pko"
      },
      "source": [
        "K-NEAREST NEIGHBOUR"
      ]
    },
    {
      "cell_type": "code",
      "metadata": {
        "id": "hNGHfQta0uMO"
      },
      "source": [
        "# K-Nearest Neighbours\n",
        "from sklearn.neighbors import KNeighborsClassifier\n",
        "\n",
        "classifier = KNeighborsClassifier(n_neighbors=8)\n",
        "classifier.fit(X_train, y_train)\n",
        "\n",
        "y_pred = classifier.predict(X_test)\n"
      ],
      "execution_count": 27,
      "outputs": []
    },
    {
      "cell_type": "code",
      "metadata": {
        "colab": {
          "base_uri": "https://localhost:8080/"
        },
        "id": "JHIRkZ_QLOhl",
        "outputId": "bcf41e3a-2535-4edb-c902-c4314365b6c7"
      },
      "source": [
        "from sklearn.metrics import confusion_matrix\n",
        "cm = confusion_matrix(y_test, y_pred)\n",
        "  \n",
        "print (\"Confusion Matrix : \\n\", cm)"
      ],
      "execution_count": 28,
      "outputs": [
        {
          "output_type": "stream",
          "name": "stdout",
          "text": [
            "Confusion Matrix : \n",
            " [[15  0  0]\n",
            " [ 0  9  6]\n",
            " [ 0  6  9]]\n"
          ]
        }
      ]
    },
    {
      "cell_type": "code",
      "metadata": {
        "colab": {
          "base_uri": "https://localhost:8080/"
        },
        "id": "56VN_LctLZez",
        "outputId": "239ff459-d2bd-4ce2-926c-ff4f30b2bed4"
      },
      "source": [
        "from sklearn.metrics import classification_report\n",
        "print(classification_report(y_test, y_pred))\n"
      ],
      "execution_count": 29,
      "outputs": [
        {
          "output_type": "stream",
          "name": "stdout",
          "text": [
            "              precision    recall  f1-score   support\n",
            "\n",
            "           0       1.00      1.00      1.00        15\n",
            "           1       0.60      0.60      0.60        15\n",
            "           2       0.60      0.60      0.60        15\n",
            "\n",
            "    accuracy                           0.73        45\n",
            "   macro avg       0.73      0.73      0.73        45\n",
            "weighted avg       0.73      0.73      0.73        45\n",
            "\n"
          ]
        }
      ]
    },
    {
      "cell_type": "code",
      "metadata": {
        "colab": {
          "base_uri": "https://localhost:8080/"
        },
        "id": "J9R_DDwzL3-L",
        "outputId": "c12585e2-41c1-420d-a795-bd7866ec98ac"
      },
      "source": [
        "from sklearn.metrics import accuracy_score\n",
        "print (\"Accuracy : \", accuracy_score(y_test, y_pred))"
      ],
      "execution_count": 30,
      "outputs": [
        {
          "output_type": "stream",
          "name": "stdout",
          "text": [
            "Accuracy :  0.7333333333333333\n"
          ]
        }
      ]
    },
    {
      "cell_type": "code",
      "metadata": {
        "colab": {
          "base_uri": "https://localhost:8080/",
          "height": 340
        },
        "id": "qdFmBscG0uFF",
        "outputId": "03d86eca-ef01-4115-9ab8-c5970a8e7b48"
      },
      "source": [
        "from sklearn.metrics import plot_confusion_matrix\n",
        "plot_confusion_matrix(classifier, X_test, y_test) \n",
        "plt.show()"
      ],
      "execution_count": 31,
      "outputs": [
        {
          "output_type": "stream",
          "name": "stderr",
          "text": [
            "/usr/local/lib/python3.7/dist-packages/sklearn/utils/deprecation.py:87: FutureWarning: Function plot_confusion_matrix is deprecated; Function `plot_confusion_matrix` is deprecated in 1.0 and will be removed in 1.2. Use one of the class methods: ConfusionMatrixDisplay.from_predictions or ConfusionMatrixDisplay.from_estimator.\n",
            "  warnings.warn(msg, category=FutureWarning)\n"
          ]
        },
        {
          "output_type": "display_data",
          "data": {
            "image/png": "[encoded data removed]",
            "text/plain": [
              "<Figure size 432x288 with 2 Axes>"
            ]
          },
          "metadata": {
            "needs_background": "light"
          }
        }
      ]
    },
    {
      "cell_type": "code",
      "metadata": {
        "colab": {
          "base_uri": "https://localhost:8080/"
        },
        "id": "XwnBzqdfQAGD",
        "outputId": "c2939b65-9678-478a-ad83-5fcb524f6f3e"
      },
      "source": [
        "from sklearn import metrics \n",
        "print(\"The Accuarcy of KNN Model is: \", metrics.accuracy_score(y_test, y_pred))"
      ],
      "execution_count": 32,
      "outputs": [
        {
          "output_type": "stream",
          "name": "stdout",
          "text": [
            "The Accuarcy of KNN Model is:  0.7333333333333333\n"
          ]
        }
      ]
    },
    {
      "cell_type": "markdown",
      "metadata": {
        "id": "Ls0TAQQBOZuo"
      },
      "source": [
        "K-MEANS"
      ]
    },
    {
      "cell_type": "code",
      "metadata": {
        "id": "ldWEmfpmOZAa"
      },
      "source": [
        "from sklearn.cluster import KMeans"
      ],
      "execution_count": 33,
      "outputs": []
    },
    {
      "cell_type": "code",
      "metadata": {
        "colab": {
          "base_uri": "https://localhost:8080/"
        },
        "id": "uD7Xsf2vOY42",
        "outputId": "8c73d0ca-e35b-45b2-c2fb-1ce4e21514d2"
      },
      "source": [
        "kmeans = KMeans(n_clusters=3, random_state=0).fit(X_train)\n",
        "\n",
        "kmeans.fit(X_train, y_train)"
      ],
      "execution_count": 34,
      "outputs": [
        {
          "output_type": "execute_result",
          "data": {
            "text/plain": [
              "KMeans(n_clusters=3, random_state=0)"
            ]
          },
          "metadata": {},
          "execution_count": 34
        }
      ]
    },
    {
      "cell_type": "code",
      "metadata": {
        "id": "p8WErNlwOYyG"
      },
      "source": [
        "y_pred = kmeans.predict(X_test)"
      ],
      "execution_count": 35,
      "outputs": []
    },
    {
      "cell_type": "code",
      "metadata": {
        "colab": {
          "base_uri": "https://localhost:8080/"
        },
        "id": "zZCy8aNYOYku",
        "outputId": "af23faeb-28be-4b3e-d73b-ee6c270a7c39"
      },
      "source": [
        "from sklearn.metrics import confusion_matrix\n",
        "cm=confusion_matrix(y_test, y_pred)\n",
        "print(\"The Confusion Matrix for this model is:\",cm)"
      ],
      "execution_count": 36,
      "outputs": [
        {
          "output_type": "stream",
          "name": "stdout",
          "text": [
            "The Confusion Matrix for this model is: [[15  0  0]\n",
            " [ 0  6  9]\n",
            " [ 1  8  6]]\n"
          ]
        }
      ]
    },
    {
      "cell_type": "code",
      "metadata": {
        "colab": {
          "base_uri": "https://localhost:8080/"
        },
        "id": "Te_awtwyPDRq",
        "outputId": "0acfa7a2-f8aa-4231-e486-ec9571e51ab1"
      },
      "source": [
        "from sklearn.metrics import classification_report\n",
        "print(classification_report(y_test, y_pred))\n"
      ],
      "execution_count": 37,
      "outputs": [
        {
          "output_type": "stream",
          "name": "stdout",
          "text": [
            "              precision    recall  f1-score   support\n",
            "\n",
            "           0       0.94      1.00      0.97        15\n",
            "           1       0.43      0.40      0.41        15\n",
            "           2       0.40      0.40      0.40        15\n",
            "\n",
            "    accuracy                           0.60        45\n",
            "   macro avg       0.59      0.60      0.59        45\n",
            "weighted avg       0.59      0.60      0.59        45\n",
            "\n"
          ]
        }
      ]
    },
    {
      "cell_type": "code",
      "metadata": {
        "colab": {
          "base_uri": "https://localhost:8080/"
        },
        "id": "v4C_-mNNPAe_",
        "outputId": "44ca35bc-b2d1-4594-81ab-abf5de9e145e"
      },
      "source": [
        "from sklearn.metrics import accuracy_score\n",
        "print (\"Accuracy : \", accuracy_score(y_test, y_pred))"
      ],
      "execution_count": 38,
      "outputs": [
        {
          "output_type": "stream",
          "name": "stdout",
          "text": [
            "Accuracy :  0.6\n"
          ]
        }
      ]
    },
    {
      "cell_type": "code",
      "metadata": {
        "colab": {
          "base_uri": "https://localhost:8080/",
          "height": 340
        },
        "id": "x_cRxLtbOX0k",
        "outputId": "8a732e68-1a54-496e-83c1-e38e49850211"
      },
      "source": [
        "from sklearn.metrics import plot_confusion_matrix\n",
        "plot_confusion_matrix(classifier, X_test, y_test) \n",
        "plt.show()"
      ],
      "execution_count": 39,
      "outputs": [
        {
          "output_type": "stream",
          "name": "stderr",
          "text": [
            "/usr/local/lib/python3.7/dist-packages/sklearn/utils/deprecation.py:87: FutureWarning: Function plot_confusion_matrix is deprecated; Function `plot_confusion_matrix` is deprecated in 1.0 and will be removed in 1.2. Use one of the class methods: ConfusionMatrixDisplay.from_predictions or ConfusionMatrixDisplay.from_estimator.\n",
            "  warnings.warn(msg, category=FutureWarning)\n"
          ]
        },
        {
          "output_type": "display_data",
          "data": {
            "image/png": "[encoded data removed]",
            "text/plain": [
              "<Figure size 432x288 with 2 Axes>"
            ]
          },
          "metadata": {
            "needs_background": "light"
          }
        }
      ]
    },
    {
      "cell_type": "code",
      "metadata": {
        "colab": {
          "base_uri": "https://localhost:8080/"
        },
        "id": "0viBMJ2SQFfK",
        "outputId": "612ebcba-d5a9-4af2-b61f-9618b73ac110"
      },
      "source": [
        "from sklearn import metrics \n",
        "print(\"The Accuarcy of K-Means model  is: \", metrics.accuracy_score(y_test, y_pred))"
      ],
      "execution_count": 40,
      "outputs": [
        {
          "output_type": "stream",
          "name": "stdout",
          "text": [
            "The Accuarcy of K-Means model  is:  0.6\n"
          ]
        }
      ]
    },
    {
      "cell_type": "markdown",
      "metadata": {
        "id": "KFMgcoxNPP3B"
      },
      "source": [
        "COMPARSSION REPORT"
      ]
    },
    {
      "cell_type": "code",
      "metadata": {
        "colab": {
          "base_uri": "https://localhost:8080/"
        },
        "id": "PB1OPAru0t92",
        "outputId": "26acf3d9-1bb5-4df4-faf6-62cc51cb2207"
      },
      "source": [
        "from sklearn.metrics import accuracy_score, log_loss\n",
        "classifiers = [\n",
        "GaussianNB(),\n",
        "LogisticRegression(),\n",
        "KNeighborsClassifier(),\n",
        "DecisionTreeClassifier(),\n",
        "KMeans()\n",
        "\n",
        "\n",
        "]\n",
        " \n",
        "# Logging for Visual Comparison\n",
        "log_cols=[\"Classifier\", \"Accuracy\", \"Log Loss\"]\n",
        "log = pd.DataFrame(columns=log_cols)\n",
        " \n",
        "for clf in classifiers:\n",
        "    clf.fit(X_train, y_train)\n",
        "    name = clf.__class__.__name__\n",
        "    \n",
        "    print(\"=\"*30)\n",
        "    print(name)\n",
        "    \n",
        "    print('****Results****')\n",
        "    train_predictions = clf.predict(X_test)\n",
        "    acc = accuracy_score(y_test, train_predictions)\n",
        "    print(\"Accuracy: {:.4%}\".format(acc))\n",
        "    \n",
        "    log_entry = pd.DataFrame([[name, acc*100, 11]], columns=log_cols)\n",
        "    log = log.append(log_entry)\n",
        "    \n",
        "    print(\"=\"*30)"
      ],
      "execution_count": 41,
      "outputs": [
        {
          "output_type": "stream",
          "name": "stdout",
          "text": [
            "==============================\n",
            "GaussianNB\n",
            "****Results****\n",
            "Accuracy: 71.1111%\n",
            "==============================\n",
            "==============================\n",
            "LogisticRegression\n",
            "****Results****\n",
            "Accuracy: 73.3333%\n",
            "==============================\n",
            "==============================\n",
            "KNeighborsClassifier\n",
            "****Results****\n",
            "Accuracy: 71.1111%\n",
            "==============================\n",
            "==============================\n",
            "DecisionTreeClassifier\n",
            "****Results****\n",
            "Accuracy: 66.6667%\n",
            "==============================\n",
            "==============================\n",
            "KMeans\n",
            "****Results****\n",
            "Accuracy: 4.4444%\n",
            "==============================\n"
          ]
        }
      ]
    },
    {
      "cell_type": "code",
      "metadata": {
        "colab": {
          "base_uri": "https://localhost:8080/",
          "height": 318
        },
        "id": "42gqfq0D0t3I",
        "outputId": "e6e04cc8-d16d-40b3-b3a5-41824622ffbc"
      },
      "source": [
        "sns.set_color_codes(\"muted\")\n",
        "sns.barplot(x='Accuracy', y='Classifier', data=log, color=\"b\")\n",
        "\n",
        "plt.xlabel('Accuracy %')\n",
        "plt.title('Classifier Accuracy')"
      ],
      "execution_count": 42,
      "outputs": [
        {
          "output_type": "execute_result",
          "data": {
            "text/plain": [
              "Text(0.5, 1.0, 'Classifier Accuracy')"
            ]
          },
          "metadata": {},
          "execution_count": 42
        },
        {
          "output_type": "display_data",
          "data": {
            "image/png": "[encoded data removed]",
            "text/plain": [
              "<Figure size 432x288 with 1 Axes>"
            ]
          },
          "metadata": {
            "needs_background": "light"
          }
        }
      ]
    },
    {
      "cell_type": "markdown",
      "metadata": {
        "id": "vJfPRrOyR7vf"
      },
      "source": [
        "Based on the accuracy, we can conclude that Navie Bayes has better accucarcy comapred to other algorithms"
      ]
    }
  ]
}