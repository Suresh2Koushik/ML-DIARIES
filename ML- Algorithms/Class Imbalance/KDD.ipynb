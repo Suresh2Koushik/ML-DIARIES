{
  "nbformat": 4,
  "nbformat_minor": 5,
  "metadata": {
    "kernelspec": {
      "display_name": "Python 3",
      "language": "python",
      "name": "python3"
    },
    "language_info": {
      "codemirror_mode": {
        "name": "ipython",
        "version": 3
      },
      "file_extension": ".py",
      "mimetype": "text/x-python",
      "name": "python",
      "nbconvert_exporter": "python",
      "pygments_lexer": "ipython3",
      "version": "3.8.8"
    },
    "colab": {
      "name": "KDD.ipynb",
      "provenance": [],
      "collapsed_sections": []
    }
  },
  "cells": [
    {
      "cell_type": "markdown",
      "metadata": {
        "id": "iPw6JQwsflJO"
      },
      "source": [
        "SURESH KANNA P\n",
        "18MIS1067\n",
        "SWE4012\n",
        "MACHINE LEARNING\n",
        "LAB-9"
      ],
      "id": "iPw6JQwsflJO"
    },
    {
      "cell_type": "markdown",
      "metadata": {
        "id": "dz4QIS_ogFT1"
      },
      "source": [
        "Importing the datasets and packages"
      ],
      "id": "dz4QIS_ogFT1"
    },
    {
      "cell_type": "code",
      "metadata": {
        "id": "4ceeecc2"
      },
      "source": [
        "#Import the required Packages\n",
        "import pandas as pd\n",
        "import numpy as np\n",
        "import matplotlib.pyplot as plt\n",
        "\n",
        "#Import the dataset\n",
        "\n",
        "dataset = pd.read_csv('kddcup99.csv')"
      ],
      "id": "4ceeecc2",
      "execution_count": 1,
      "outputs": []
    },
    {
      "cell_type": "code",
      "metadata": {
        "id": "Wt9P66MhO5Nt",
        "colab": {
          "base_uri": "https://localhost:8080/"
        },
        "outputId": "460a8eff-d5ab-48b5-cc41-36fa917efa99"
      },
      "source": [
        "#Import the required Packages\n",
        "\n",
        "from collections import Counter\n",
        "from sklearn.datasets import make_classification\n",
        "from imblearn.under_sampling import RandomUnderSampler\n",
        "import imblearn\n",
        "from imblearn.under_sampling import RandomUnderSampler\n"
      ],
      "id": "Wt9P66MhO5Nt",
      "execution_count": 2,
      "outputs": [
        {
          "output_type": "stream",
          "name": "stderr",
          "text": [
            "/usr/local/lib/python3.7/dist-packages/sklearn/externals/six.py:31: FutureWarning: The module is deprecated in version 0.21 and will be removed in version 0.23 since we've dropped support for Python 2.7. Please rely on the official version of six (https://pypi.org/project/six/).\n",
            "  \"(https://pypi.org/project/six/).\", FutureWarning)\n",
            "/usr/local/lib/python3.7/dist-packages/sklearn/utils/deprecation.py:144: FutureWarning: The sklearn.neighbors.base module is  deprecated in version 0.22 and will be removed in version 0.24. The corresponding classes / functions should instead be imported from sklearn.neighbors. Anything that cannot be imported from sklearn.neighbors is now part of the private API.\n",
            "  warnings.warn(message, FutureWarning)\n"
          ]
        }
      ]
    },
    {
      "cell_type": "code",
      "metadata": {
        "colab": {
          "base_uri": "https://localhost:8080/",
          "height": 439
        },
        "id": "dm8cwl9VnZeL",
        "outputId": "7e332f8f-587f-4993-b8f5-ab72e9a87b17"
      },
      "source": [
        "dataset"
      ],
      "id": "dm8cwl9VnZeL",
      "execution_count": 3,
      "outputs": [
        {
          "output_type": "execute_result",
          "data": {
            "text/html": [
              "<div>\n",
              "<style scoped>\n",
              "    .dataframe tbody tr th:only-of-type {\n",
              "        vertical-align: middle;\n",
              "    }\n",
              "\n",
              "    .dataframe tbody tr th {\n",
              "        vertical-align: top;\n",
              "    }\n",
              "\n",
              "    .dataframe thead th {\n",
              "        text-align: right;\n",
              "    }\n",
              "</style>\n",
              "<table border=\"1\" class=\"dataframe\">\n",
              "  <thead>\n",
              "    <tr style=\"text-align: right;\">\n",
              "      <th></th>\n",
              "      <th>duration</th>\n",
              "      <th>protocol_type</th>\n",
              "      <th>service</th>\n",
              "      <th>flag</th>\n",
              "      <th>src_bytes</th>\n",
              "      <th>dst_bytes</th>\n",
              "      <th>land</th>\n",
              "      <th>wrong_fragment</th>\n",
              "      <th>urgent</th>\n",
              "      <th>hot</th>\n",
              "      <th>num_failed_logins</th>\n",
              "      <th>logged_in</th>\n",
              "      <th>lnum_compromised</th>\n",
              "      <th>lroot_shell</th>\n",
              "      <th>lsu_attempted</th>\n",
              "      <th>lnum_root</th>\n",
              "      <th>lnum_file_creations</th>\n",
              "      <th>lnum_shells</th>\n",
              "      <th>lnum_access_files</th>\n",
              "      <th>lnum_outbound_cmds</th>\n",
              "      <th>is_host_login</th>\n",
              "      <th>is_guest_login</th>\n",
              "      <th>count</th>\n",
              "      <th>srv_count</th>\n",
              "      <th>serror_rate</th>\n",
              "      <th>srv_serror_rate</th>\n",
              "      <th>rerror_rate</th>\n",
              "      <th>srv_rerror_rate</th>\n",
              "      <th>same_srv_rate</th>\n",
              "      <th>diff_srv_rate</th>\n",
              "      <th>srv_diff_host_rate</th>\n",
              "      <th>dst_host_count</th>\n",
              "      <th>dst_host_srv_count</th>\n",
              "      <th>dst_host_same_srv_rate</th>\n",
              "      <th>dst_host_diff_srv_rate</th>\n",
              "      <th>dst_host_same_src_port_rate</th>\n",
              "      <th>dst_host_srv_diff_host_rate</th>\n",
              "      <th>dst_host_serror_rate</th>\n",
              "      <th>dst_host_srv_serror_rate</th>\n",
              "      <th>dst_host_rerror_rate</th>\n",
              "      <th>dst_host_srv_rerror_rate</th>\n",
              "      <th>label</th>\n",
              "    </tr>\n",
              "  </thead>\n",
              "  <tbody>\n",
              "    <tr>\n",
              "      <th>0</th>\n",
              "      <td>0</td>\n",
              "      <td>tcp</td>\n",
              "      <td>http</td>\n",
              "      <td>SF</td>\n",
              "      <td>181</td>\n",
              "      <td>5450</td>\n",
              "      <td>0</td>\n",
              "      <td>0</td>\n",
              "      <td>0</td>\n",
              "      <td>0</td>\n",
              "      <td>0</td>\n",
              "      <td>1</td>\n",
              "      <td>0</td>\n",
              "      <td>0</td>\n",
              "      <td>0</td>\n",
              "      <td>0</td>\n",
              "      <td>0</td>\n",
              "      <td>0</td>\n",
              "      <td>0</td>\n",
              "      <td>0</td>\n",
              "      <td>0</td>\n",
              "      <td>0</td>\n",
              "      <td>8</td>\n",
              "      <td>8</td>\n",
              "      <td>0.00</td>\n",
              "      <td>0.00</td>\n",
              "      <td>0.0</td>\n",
              "      <td>0.0</td>\n",
              "      <td>1.0</td>\n",
              "      <td>0.0</td>\n",
              "      <td>0.00</td>\n",
              "      <td>9</td>\n",
              "      <td>9</td>\n",
              "      <td>1.0</td>\n",
              "      <td>0.0</td>\n",
              "      <td>0.11</td>\n",
              "      <td>0.00</td>\n",
              "      <td>0.00</td>\n",
              "      <td>0.00</td>\n",
              "      <td>0.0</td>\n",
              "      <td>0.0</td>\n",
              "      <td>normal</td>\n",
              "    </tr>\n",
              "    <tr>\n",
              "      <th>1</th>\n",
              "      <td>0</td>\n",
              "      <td>tcp</td>\n",
              "      <td>http</td>\n",
              "      <td>SF</td>\n",
              "      <td>239</td>\n",
              "      <td>486</td>\n",
              "      <td>0</td>\n",
              "      <td>0</td>\n",
              "      <td>0</td>\n",
              "      <td>0</td>\n",
              "      <td>0</td>\n",
              "      <td>1</td>\n",
              "      <td>0</td>\n",
              "      <td>0</td>\n",
              "      <td>0</td>\n",
              "      <td>0</td>\n",
              "      <td>0</td>\n",
              "      <td>0</td>\n",
              "      <td>0</td>\n",
              "      <td>0</td>\n",
              "      <td>0</td>\n",
              "      <td>0</td>\n",
              "      <td>8</td>\n",
              "      <td>8</td>\n",
              "      <td>0.00</td>\n",
              "      <td>0.00</td>\n",
              "      <td>0.0</td>\n",
              "      <td>0.0</td>\n",
              "      <td>1.0</td>\n",
              "      <td>0.0</td>\n",
              "      <td>0.00</td>\n",
              "      <td>19</td>\n",
              "      <td>19</td>\n",
              "      <td>1.0</td>\n",
              "      <td>0.0</td>\n",
              "      <td>0.05</td>\n",
              "      <td>0.00</td>\n",
              "      <td>0.00</td>\n",
              "      <td>0.00</td>\n",
              "      <td>0.0</td>\n",
              "      <td>0.0</td>\n",
              "      <td>normal</td>\n",
              "    </tr>\n",
              "    <tr>\n",
              "      <th>2</th>\n",
              "      <td>0</td>\n",
              "      <td>tcp</td>\n",
              "      <td>http</td>\n",
              "      <td>SF</td>\n",
              "      <td>235</td>\n",
              "      <td>1337</td>\n",
              "      <td>0</td>\n",
              "      <td>0</td>\n",
              "      <td>0</td>\n",
              "      <td>0</td>\n",
              "      <td>0</td>\n",
              "      <td>1</td>\n",
              "      <td>0</td>\n",
              "      <td>0</td>\n",
              "      <td>0</td>\n",
              "      <td>0</td>\n",
              "      <td>0</td>\n",
              "      <td>0</td>\n",
              "      <td>0</td>\n",
              "      <td>0</td>\n",
              "      <td>0</td>\n",
              "      <td>0</td>\n",
              "      <td>8</td>\n",
              "      <td>8</td>\n",
              "      <td>0.00</td>\n",
              "      <td>0.00</td>\n",
              "      <td>0.0</td>\n",
              "      <td>0.0</td>\n",
              "      <td>1.0</td>\n",
              "      <td>0.0</td>\n",
              "      <td>0.00</td>\n",
              "      <td>29</td>\n",
              "      <td>29</td>\n",
              "      <td>1.0</td>\n",
              "      <td>0.0</td>\n",
              "      <td>0.03</td>\n",
              "      <td>0.00</td>\n",
              "      <td>0.00</td>\n",
              "      <td>0.00</td>\n",
              "      <td>0.0</td>\n",
              "      <td>0.0</td>\n",
              "      <td>normal</td>\n",
              "    </tr>\n",
              "    <tr>\n",
              "      <th>3</th>\n",
              "      <td>0</td>\n",
              "      <td>tcp</td>\n",
              "      <td>http</td>\n",
              "      <td>SF</td>\n",
              "      <td>219</td>\n",
              "      <td>1337</td>\n",
              "      <td>0</td>\n",
              "      <td>0</td>\n",
              "      <td>0</td>\n",
              "      <td>0</td>\n",
              "      <td>0</td>\n",
              "      <td>1</td>\n",
              "      <td>0</td>\n",
              "      <td>0</td>\n",
              "      <td>0</td>\n",
              "      <td>0</td>\n",
              "      <td>0</td>\n",
              "      <td>0</td>\n",
              "      <td>0</td>\n",
              "      <td>0</td>\n",
              "      <td>0</td>\n",
              "      <td>0</td>\n",
              "      <td>6</td>\n",
              "      <td>6</td>\n",
              "      <td>0.00</td>\n",
              "      <td>0.00</td>\n",
              "      <td>0.0</td>\n",
              "      <td>0.0</td>\n",
              "      <td>1.0</td>\n",
              "      <td>0.0</td>\n",
              "      <td>0.00</td>\n",
              "      <td>39</td>\n",
              "      <td>39</td>\n",
              "      <td>1.0</td>\n",
              "      <td>0.0</td>\n",
              "      <td>0.03</td>\n",
              "      <td>0.00</td>\n",
              "      <td>0.00</td>\n",
              "      <td>0.00</td>\n",
              "      <td>0.0</td>\n",
              "      <td>0.0</td>\n",
              "      <td>normal</td>\n",
              "    </tr>\n",
              "    <tr>\n",
              "      <th>4</th>\n",
              "      <td>0</td>\n",
              "      <td>tcp</td>\n",
              "      <td>http</td>\n",
              "      <td>SF</td>\n",
              "      <td>217</td>\n",
              "      <td>2032</td>\n",
              "      <td>0</td>\n",
              "      <td>0</td>\n",
              "      <td>0</td>\n",
              "      <td>0</td>\n",
              "      <td>0</td>\n",
              "      <td>1</td>\n",
              "      <td>0</td>\n",
              "      <td>0</td>\n",
              "      <td>0</td>\n",
              "      <td>0</td>\n",
              "      <td>0</td>\n",
              "      <td>0</td>\n",
              "      <td>0</td>\n",
              "      <td>0</td>\n",
              "      <td>0</td>\n",
              "      <td>0</td>\n",
              "      <td>6</td>\n",
              "      <td>6</td>\n",
              "      <td>0.00</td>\n",
              "      <td>0.00</td>\n",
              "      <td>0.0</td>\n",
              "      <td>0.0</td>\n",
              "      <td>1.0</td>\n",
              "      <td>0.0</td>\n",
              "      <td>0.00</td>\n",
              "      <td>49</td>\n",
              "      <td>49</td>\n",
              "      <td>1.0</td>\n",
              "      <td>0.0</td>\n",
              "      <td>0.02</td>\n",
              "      <td>0.00</td>\n",
              "      <td>0.00</td>\n",
              "      <td>0.00</td>\n",
              "      <td>0.0</td>\n",
              "      <td>0.0</td>\n",
              "      <td>normal</td>\n",
              "    </tr>\n",
              "    <tr>\n",
              "      <th>...</th>\n",
              "      <td>...</td>\n",
              "      <td>...</td>\n",
              "      <td>...</td>\n",
              "      <td>...</td>\n",
              "      <td>...</td>\n",
              "      <td>...</td>\n",
              "      <td>...</td>\n",
              "      <td>...</td>\n",
              "      <td>...</td>\n",
              "      <td>...</td>\n",
              "      <td>...</td>\n",
              "      <td>...</td>\n",
              "      <td>...</td>\n",
              "      <td>...</td>\n",
              "      <td>...</td>\n",
              "      <td>...</td>\n",
              "      <td>...</td>\n",
              "      <td>...</td>\n",
              "      <td>...</td>\n",
              "      <td>...</td>\n",
              "      <td>...</td>\n",
              "      <td>...</td>\n",
              "      <td>...</td>\n",
              "      <td>...</td>\n",
              "      <td>...</td>\n",
              "      <td>...</td>\n",
              "      <td>...</td>\n",
              "      <td>...</td>\n",
              "      <td>...</td>\n",
              "      <td>...</td>\n",
              "      <td>...</td>\n",
              "      <td>...</td>\n",
              "      <td>...</td>\n",
              "      <td>...</td>\n",
              "      <td>...</td>\n",
              "      <td>...</td>\n",
              "      <td>...</td>\n",
              "      <td>...</td>\n",
              "      <td>...</td>\n",
              "      <td>...</td>\n",
              "      <td>...</td>\n",
              "      <td>...</td>\n",
              "    </tr>\n",
              "    <tr>\n",
              "      <th>494015</th>\n",
              "      <td>0</td>\n",
              "      <td>tcp</td>\n",
              "      <td>http</td>\n",
              "      <td>SF</td>\n",
              "      <td>310</td>\n",
              "      <td>1881</td>\n",
              "      <td>0</td>\n",
              "      <td>0</td>\n",
              "      <td>0</td>\n",
              "      <td>0</td>\n",
              "      <td>0</td>\n",
              "      <td>1</td>\n",
              "      <td>0</td>\n",
              "      <td>0</td>\n",
              "      <td>0</td>\n",
              "      <td>0</td>\n",
              "      <td>0</td>\n",
              "      <td>0</td>\n",
              "      <td>0</td>\n",
              "      <td>0</td>\n",
              "      <td>0</td>\n",
              "      <td>0</td>\n",
              "      <td>4</td>\n",
              "      <td>5</td>\n",
              "      <td>0.00</td>\n",
              "      <td>0.00</td>\n",
              "      <td>0.0</td>\n",
              "      <td>0.0</td>\n",
              "      <td>1.0</td>\n",
              "      <td>0.0</td>\n",
              "      <td>0.40</td>\n",
              "      <td>86</td>\n",
              "      <td>255</td>\n",
              "      <td>1.0</td>\n",
              "      <td>0.0</td>\n",
              "      <td>0.01</td>\n",
              "      <td>0.05</td>\n",
              "      <td>0.00</td>\n",
              "      <td>0.01</td>\n",
              "      <td>0.0</td>\n",
              "      <td>0.0</td>\n",
              "      <td>normal</td>\n",
              "    </tr>\n",
              "    <tr>\n",
              "      <th>494016</th>\n",
              "      <td>0</td>\n",
              "      <td>tcp</td>\n",
              "      <td>http</td>\n",
              "      <td>SF</td>\n",
              "      <td>282</td>\n",
              "      <td>2286</td>\n",
              "      <td>0</td>\n",
              "      <td>0</td>\n",
              "      <td>0</td>\n",
              "      <td>0</td>\n",
              "      <td>0</td>\n",
              "      <td>1</td>\n",
              "      <td>0</td>\n",
              "      <td>0</td>\n",
              "      <td>0</td>\n",
              "      <td>0</td>\n",
              "      <td>0</td>\n",
              "      <td>0</td>\n",
              "      <td>0</td>\n",
              "      <td>0</td>\n",
              "      <td>0</td>\n",
              "      <td>0</td>\n",
              "      <td>6</td>\n",
              "      <td>6</td>\n",
              "      <td>0.00</td>\n",
              "      <td>0.00</td>\n",
              "      <td>0.0</td>\n",
              "      <td>0.0</td>\n",
              "      <td>1.0</td>\n",
              "      <td>0.0</td>\n",
              "      <td>0.00</td>\n",
              "      <td>6</td>\n",
              "      <td>255</td>\n",
              "      <td>1.0</td>\n",
              "      <td>0.0</td>\n",
              "      <td>0.17</td>\n",
              "      <td>0.05</td>\n",
              "      <td>0.00</td>\n",
              "      <td>0.01</td>\n",
              "      <td>0.0</td>\n",
              "      <td>0.0</td>\n",
              "      <td>normal</td>\n",
              "    </tr>\n",
              "    <tr>\n",
              "      <th>494017</th>\n",
              "      <td>0</td>\n",
              "      <td>tcp</td>\n",
              "      <td>http</td>\n",
              "      <td>SF</td>\n",
              "      <td>203</td>\n",
              "      <td>1200</td>\n",
              "      <td>0</td>\n",
              "      <td>0</td>\n",
              "      <td>0</td>\n",
              "      <td>0</td>\n",
              "      <td>0</td>\n",
              "      <td>1</td>\n",
              "      <td>0</td>\n",
              "      <td>0</td>\n",
              "      <td>0</td>\n",
              "      <td>0</td>\n",
              "      <td>0</td>\n",
              "      <td>0</td>\n",
              "      <td>0</td>\n",
              "      <td>0</td>\n",
              "      <td>0</td>\n",
              "      <td>0</td>\n",
              "      <td>6</td>\n",
              "      <td>18</td>\n",
              "      <td>0.17</td>\n",
              "      <td>0.11</td>\n",
              "      <td>0.0</td>\n",
              "      <td>0.0</td>\n",
              "      <td>1.0</td>\n",
              "      <td>0.0</td>\n",
              "      <td>0.17</td>\n",
              "      <td>16</td>\n",
              "      <td>255</td>\n",
              "      <td>1.0</td>\n",
              "      <td>0.0</td>\n",
              "      <td>0.06</td>\n",
              "      <td>0.05</td>\n",
              "      <td>0.06</td>\n",
              "      <td>0.01</td>\n",
              "      <td>0.0</td>\n",
              "      <td>0.0</td>\n",
              "      <td>normal</td>\n",
              "    </tr>\n",
              "    <tr>\n",
              "      <th>494018</th>\n",
              "      <td>0</td>\n",
              "      <td>tcp</td>\n",
              "      <td>http</td>\n",
              "      <td>SF</td>\n",
              "      <td>291</td>\n",
              "      <td>1200</td>\n",
              "      <td>0</td>\n",
              "      <td>0</td>\n",
              "      <td>0</td>\n",
              "      <td>0</td>\n",
              "      <td>0</td>\n",
              "      <td>1</td>\n",
              "      <td>0</td>\n",
              "      <td>0</td>\n",
              "      <td>0</td>\n",
              "      <td>0</td>\n",
              "      <td>0</td>\n",
              "      <td>0</td>\n",
              "      <td>0</td>\n",
              "      <td>0</td>\n",
              "      <td>0</td>\n",
              "      <td>0</td>\n",
              "      <td>6</td>\n",
              "      <td>12</td>\n",
              "      <td>0.00</td>\n",
              "      <td>0.00</td>\n",
              "      <td>0.0</td>\n",
              "      <td>0.0</td>\n",
              "      <td>1.0</td>\n",
              "      <td>0.0</td>\n",
              "      <td>0.17</td>\n",
              "      <td>26</td>\n",
              "      <td>255</td>\n",
              "      <td>1.0</td>\n",
              "      <td>0.0</td>\n",
              "      <td>0.04</td>\n",
              "      <td>0.05</td>\n",
              "      <td>0.04</td>\n",
              "      <td>0.01</td>\n",
              "      <td>0.0</td>\n",
              "      <td>0.0</td>\n",
              "      <td>normal</td>\n",
              "    </tr>\n",
              "    <tr>\n",
              "      <th>494019</th>\n",
              "      <td>0</td>\n",
              "      <td>tcp</td>\n",
              "      <td>http</td>\n",
              "      <td>SF</td>\n",
              "      <td>219</td>\n",
              "      <td>1234</td>\n",
              "      <td>0</td>\n",
              "      <td>0</td>\n",
              "      <td>0</td>\n",
              "      <td>0</td>\n",
              "      <td>0</td>\n",
              "      <td>1</td>\n",
              "      <td>0</td>\n",
              "      <td>0</td>\n",
              "      <td>0</td>\n",
              "      <td>0</td>\n",
              "      <td>0</td>\n",
              "      <td>0</td>\n",
              "      <td>0</td>\n",
              "      <td>0</td>\n",
              "      <td>0</td>\n",
              "      <td>0</td>\n",
              "      <td>6</td>\n",
              "      <td>35</td>\n",
              "      <td>0.00</td>\n",
              "      <td>0.00</td>\n",
              "      <td>0.0</td>\n",
              "      <td>0.0</td>\n",
              "      <td>1.0</td>\n",
              "      <td>0.0</td>\n",
              "      <td>0.14</td>\n",
              "      <td>6</td>\n",
              "      <td>255</td>\n",
              "      <td>1.0</td>\n",
              "      <td>0.0</td>\n",
              "      <td>0.17</td>\n",
              "      <td>0.05</td>\n",
              "      <td>0.00</td>\n",
              "      <td>0.01</td>\n",
              "      <td>0.0</td>\n",
              "      <td>0.0</td>\n",
              "      <td>normal</td>\n",
              "    </tr>\n",
              "  </tbody>\n",
              "</table>\n",
              "<p>494020 rows × 42 columns</p>\n",
              "</div>"
            ],
            "text/plain": [
              "        duration protocol_type  ... dst_host_srv_rerror_rate   label\n",
              "0              0           tcp  ...                      0.0  normal\n",
              "1              0           tcp  ...                      0.0  normal\n",
              "2              0           tcp  ...                      0.0  normal\n",
              "3              0           tcp  ...                      0.0  normal\n",
              "4              0           tcp  ...                      0.0  normal\n",
              "...          ...           ...  ...                      ...     ...\n",
              "494015         0           tcp  ...                      0.0  normal\n",
              "494016         0           tcp  ...                      0.0  normal\n",
              "494017         0           tcp  ...                      0.0  normal\n",
              "494018         0           tcp  ...                      0.0  normal\n",
              "494019         0           tcp  ...                      0.0  normal\n",
              "\n",
              "[494020 rows x 42 columns]"
            ]
          },
          "metadata": {},
          "execution_count": 3
        }
      ]
    },
    {
      "cell_type": "markdown",
      "metadata": {
        "id": "udH0iqF0gdH4"
      },
      "source": [
        "Pre-processing the data"
      ],
      "id": "udH0iqF0gdH4"
    },
    {
      "cell_type": "code",
      "metadata": {
        "colab": {
          "base_uri": "https://localhost:8080/",
          "height": 224
        },
        "id": "YoErCo2Enm0U",
        "outputId": "7d424f1f-3d61-44f8-c9d6-c29e2856f188"
      },
      "source": [
        "dataset.head(5)"
      ],
      "id": "YoErCo2Enm0U",
      "execution_count": 4,
      "outputs": [
        {
          "output_type": "execute_result",
          "data": {
            "text/html": [
              "<div>\n",
              "<style scoped>\n",
              "    .dataframe tbody tr th:only-of-type {\n",
              "        vertical-align: middle;\n",
              "    }\n",
              "\n",
              "    .dataframe tbody tr th {\n",
              "        vertical-align: top;\n",
              "    }\n",
              "\n",
              "    .dataframe thead th {\n",
              "        text-align: right;\n",
              "    }\n",
              "</style>\n",
              "<table border=\"1\" class=\"dataframe\">\n",
              "  <thead>\n",
              "    <tr style=\"text-align: right;\">\n",
              "      <th></th>\n",
              "      <th>duration</th>\n",
              "      <th>protocol_type</th>\n",
              "      <th>service</th>\n",
              "      <th>flag</th>\n",
              "      <th>src_bytes</th>\n",
              "      <th>dst_bytes</th>\n",
              "      <th>land</th>\n",
              "      <th>wrong_fragment</th>\n",
              "      <th>urgent</th>\n",
              "      <th>hot</th>\n",
              "      <th>num_failed_logins</th>\n",
              "      <th>logged_in</th>\n",
              "      <th>lnum_compromised</th>\n",
              "      <th>lroot_shell</th>\n",
              "      <th>lsu_attempted</th>\n",
              "      <th>lnum_root</th>\n",
              "      <th>lnum_file_creations</th>\n",
              "      <th>lnum_shells</th>\n",
              "      <th>lnum_access_files</th>\n",
              "      <th>lnum_outbound_cmds</th>\n",
              "      <th>is_host_login</th>\n",
              "      <th>is_guest_login</th>\n",
              "      <th>count</th>\n",
              "      <th>srv_count</th>\n",
              "      <th>serror_rate</th>\n",
              "      <th>srv_serror_rate</th>\n",
              "      <th>rerror_rate</th>\n",
              "      <th>srv_rerror_rate</th>\n",
              "      <th>same_srv_rate</th>\n",
              "      <th>diff_srv_rate</th>\n",
              "      <th>srv_diff_host_rate</th>\n",
              "      <th>dst_host_count</th>\n",
              "      <th>dst_host_srv_count</th>\n",
              "      <th>dst_host_same_srv_rate</th>\n",
              "      <th>dst_host_diff_srv_rate</th>\n",
              "      <th>dst_host_same_src_port_rate</th>\n",
              "      <th>dst_host_srv_diff_host_rate</th>\n",
              "      <th>dst_host_serror_rate</th>\n",
              "      <th>dst_host_srv_serror_rate</th>\n",
              "      <th>dst_host_rerror_rate</th>\n",
              "      <th>dst_host_srv_rerror_rate</th>\n",
              "      <th>label</th>\n",
              "    </tr>\n",
              "  </thead>\n",
              "  <tbody>\n",
              "    <tr>\n",
              "      <th>0</th>\n",
              "      <td>0</td>\n",
              "      <td>tcp</td>\n",
              "      <td>http</td>\n",
              "      <td>SF</td>\n",
              "      <td>181</td>\n",
              "      <td>5450</td>\n",
              "      <td>0</td>\n",
              "      <td>0</td>\n",
              "      <td>0</td>\n",
              "      <td>0</td>\n",
              "      <td>0</td>\n",
              "      <td>1</td>\n",
              "      <td>0</td>\n",
              "      <td>0</td>\n",
              "      <td>0</td>\n",
              "      <td>0</td>\n",
              "      <td>0</td>\n",
              "      <td>0</td>\n",
              "      <td>0</td>\n",
              "      <td>0</td>\n",
              "      <td>0</td>\n",
              "      <td>0</td>\n",
              "      <td>8</td>\n",
              "      <td>8</td>\n",
              "      <td>0.0</td>\n",
              "      <td>0.0</td>\n",
              "      <td>0.0</td>\n",
              "      <td>0.0</td>\n",
              "      <td>1.0</td>\n",
              "      <td>0.0</td>\n",
              "      <td>0.0</td>\n",
              "      <td>9</td>\n",
              "      <td>9</td>\n",
              "      <td>1.0</td>\n",
              "      <td>0.0</td>\n",
              "      <td>0.11</td>\n",
              "      <td>0.0</td>\n",
              "      <td>0.0</td>\n",
              "      <td>0.0</td>\n",
              "      <td>0.0</td>\n",
              "      <td>0.0</td>\n",
              "      <td>normal</td>\n",
              "    </tr>\n",
              "    <tr>\n",
              "      <th>1</th>\n",
              "      <td>0</td>\n",
              "      <td>tcp</td>\n",
              "      <td>http</td>\n",
              "      <td>SF</td>\n",
              "      <td>239</td>\n",
              "      <td>486</td>\n",
              "      <td>0</td>\n",
              "      <td>0</td>\n",
              "      <td>0</td>\n",
              "      <td>0</td>\n",
              "      <td>0</td>\n",
              "      <td>1</td>\n",
              "      <td>0</td>\n",
              "      <td>0</td>\n",
              "      <td>0</td>\n",
              "      <td>0</td>\n",
              "      <td>0</td>\n",
              "      <td>0</td>\n",
              "      <td>0</td>\n",
              "      <td>0</td>\n",
              "      <td>0</td>\n",
              "      <td>0</td>\n",
              "      <td>8</td>\n",
              "      <td>8</td>\n",
              "      <td>0.0</td>\n",
              "      <td>0.0</td>\n",
              "      <td>0.0</td>\n",
              "      <td>0.0</td>\n",
              "      <td>1.0</td>\n",
              "      <td>0.0</td>\n",
              "      <td>0.0</td>\n",
              "      <td>19</td>\n",
              "      <td>19</td>\n",
              "      <td>1.0</td>\n",
              "      <td>0.0</td>\n",
              "      <td>0.05</td>\n",
              "      <td>0.0</td>\n",
              "      <td>0.0</td>\n",
              "      <td>0.0</td>\n",
              "      <td>0.0</td>\n",
              "      <td>0.0</td>\n",
              "      <td>normal</td>\n",
              "    </tr>\n",
              "    <tr>\n",
              "      <th>2</th>\n",
              "      <td>0</td>\n",
              "      <td>tcp</td>\n",
              "      <td>http</td>\n",
              "      <td>SF</td>\n",
              "      <td>235</td>\n",
              "      <td>1337</td>\n",
              "      <td>0</td>\n",
              "      <td>0</td>\n",
              "      <td>0</td>\n",
              "      <td>0</td>\n",
              "      <td>0</td>\n",
              "      <td>1</td>\n",
              "      <td>0</td>\n",
              "      <td>0</td>\n",
              "      <td>0</td>\n",
              "      <td>0</td>\n",
              "      <td>0</td>\n",
              "      <td>0</td>\n",
              "      <td>0</td>\n",
              "      <td>0</td>\n",
              "      <td>0</td>\n",
              "      <td>0</td>\n",
              "      <td>8</td>\n",
              "      <td>8</td>\n",
              "      <td>0.0</td>\n",
              "      <td>0.0</td>\n",
              "      <td>0.0</td>\n",
              "      <td>0.0</td>\n",
              "      <td>1.0</td>\n",
              "      <td>0.0</td>\n",
              "      <td>0.0</td>\n",
              "      <td>29</td>\n",
              "      <td>29</td>\n",
              "      <td>1.0</td>\n",
              "      <td>0.0</td>\n",
              "      <td>0.03</td>\n",
              "      <td>0.0</td>\n",
              "      <td>0.0</td>\n",
              "      <td>0.0</td>\n",
              "      <td>0.0</td>\n",
              "      <td>0.0</td>\n",
              "      <td>normal</td>\n",
              "    </tr>\n",
              "    <tr>\n",
              "      <th>3</th>\n",
              "      <td>0</td>\n",
              "      <td>tcp</td>\n",
              "      <td>http</td>\n",
              "      <td>SF</td>\n",
              "      <td>219</td>\n",
              "      <td>1337</td>\n",
              "      <td>0</td>\n",
              "      <td>0</td>\n",
              "      <td>0</td>\n",
              "      <td>0</td>\n",
              "      <td>0</td>\n",
              "      <td>1</td>\n",
              "      <td>0</td>\n",
              "      <td>0</td>\n",
              "      <td>0</td>\n",
              "      <td>0</td>\n",
              "      <td>0</td>\n",
              "      <td>0</td>\n",
              "      <td>0</td>\n",
              "      <td>0</td>\n",
              "      <td>0</td>\n",
              "      <td>0</td>\n",
              "      <td>6</td>\n",
              "      <td>6</td>\n",
              "      <td>0.0</td>\n",
              "      <td>0.0</td>\n",
              "      <td>0.0</td>\n",
              "      <td>0.0</td>\n",
              "      <td>1.0</td>\n",
              "      <td>0.0</td>\n",
              "      <td>0.0</td>\n",
              "      <td>39</td>\n",
              "      <td>39</td>\n",
              "      <td>1.0</td>\n",
              "      <td>0.0</td>\n",
              "      <td>0.03</td>\n",
              "      <td>0.0</td>\n",
              "      <td>0.0</td>\n",
              "      <td>0.0</td>\n",
              "      <td>0.0</td>\n",
              "      <td>0.0</td>\n",
              "      <td>normal</td>\n",
              "    </tr>\n",
              "    <tr>\n",
              "      <th>4</th>\n",
              "      <td>0</td>\n",
              "      <td>tcp</td>\n",
              "      <td>http</td>\n",
              "      <td>SF</td>\n",
              "      <td>217</td>\n",
              "      <td>2032</td>\n",
              "      <td>0</td>\n",
              "      <td>0</td>\n",
              "      <td>0</td>\n",
              "      <td>0</td>\n",
              "      <td>0</td>\n",
              "      <td>1</td>\n",
              "      <td>0</td>\n",
              "      <td>0</td>\n",
              "      <td>0</td>\n",
              "      <td>0</td>\n",
              "      <td>0</td>\n",
              "      <td>0</td>\n",
              "      <td>0</td>\n",
              "      <td>0</td>\n",
              "      <td>0</td>\n",
              "      <td>0</td>\n",
              "      <td>6</td>\n",
              "      <td>6</td>\n",
              "      <td>0.0</td>\n",
              "      <td>0.0</td>\n",
              "      <td>0.0</td>\n",
              "      <td>0.0</td>\n",
              "      <td>1.0</td>\n",
              "      <td>0.0</td>\n",
              "      <td>0.0</td>\n",
              "      <td>49</td>\n",
              "      <td>49</td>\n",
              "      <td>1.0</td>\n",
              "      <td>0.0</td>\n",
              "      <td>0.02</td>\n",
              "      <td>0.0</td>\n",
              "      <td>0.0</td>\n",
              "      <td>0.0</td>\n",
              "      <td>0.0</td>\n",
              "      <td>0.0</td>\n",
              "      <td>normal</td>\n",
              "    </tr>\n",
              "  </tbody>\n",
              "</table>\n",
              "</div>"
            ],
            "text/plain": [
              "   duration protocol_type  ... dst_host_srv_rerror_rate   label\n",
              "0         0           tcp  ...                      0.0  normal\n",
              "1         0           tcp  ...                      0.0  normal\n",
              "2         0           tcp  ...                      0.0  normal\n",
              "3         0           tcp  ...                      0.0  normal\n",
              "4         0           tcp  ...                      0.0  normal\n",
              "\n",
              "[5 rows x 42 columns]"
            ]
          },
          "metadata": {},
          "execution_count": 4
        }
      ]
    },
    {
      "cell_type": "code",
      "metadata": {
        "id": "94cc2952"
      },
      "source": [
        "from sklearn import datasets\n",
        "import numpy as np\n",
        "import pandas as pd\n"
      ],
      "id": "94cc2952",
      "execution_count": 5,
      "outputs": []
    },
    {
      "cell_type": "code",
      "metadata": {
        "colab": {
          "base_uri": "https://localhost:8080/"
        },
        "id": "TTP_ex9lnVsn",
        "outputId": "768e1714-6d22-4b86-a629-c49d1d989361"
      },
      "source": [
        "y = dataset['label']\n",
        "y\n",
        "#print('Class labels:', np.unique(y))"
      ],
      "id": "TTP_ex9lnVsn",
      "execution_count": 6,
      "outputs": [
        {
          "output_type": "execute_result",
          "data": {
            "text/plain": [
              "0         normal\n",
              "1         normal\n",
              "2         normal\n",
              "3         normal\n",
              "4         normal\n",
              "           ...  \n",
              "494015    normal\n",
              "494016    normal\n",
              "494017    normal\n",
              "494018    normal\n",
              "494019    normal\n",
              "Name: label, Length: 494020, dtype: object"
            ]
          },
          "metadata": {},
          "execution_count": 6
        }
      ]
    },
    {
      "cell_type": "code",
      "metadata": {
        "colab": {
          "base_uri": "https://localhost:8080/"
        },
        "id": "TWO68NBIoKMP",
        "outputId": "9272f4a1-0199-4ccc-c2b3-09f72eab2349"
      },
      "source": [
        "print('Class labels:', np.unique(y))"
      ],
      "id": "TWO68NBIoKMP",
      "execution_count": 7,
      "outputs": [
        {
          "output_type": "stream",
          "name": "stdout",
          "text": [
            "Class labels: ['back' 'buffer_overflow' 'ftp_write' 'guess_passwd' 'imap' 'ipsweep'\n",
            " 'land' 'loadmodule' 'multihop' 'neptune' 'nmap' 'normal' 'perl' 'phf'\n",
            " 'pod' 'portsweep' 'rootkit' 'satan' 'smurf' 'spy' 'teardrop'\n",
            " 'warezclient' 'warezmaster']\n"
          ]
        }
      ]
    },
    {
      "cell_type": "code",
      "metadata": {
        "id": "ed01d966"
      },
      "source": [
        "from sklearn import preprocessing\n",
        "le = preprocessing.LabelEncoder()\n",
        "le.fit(y)\n",
        "list(le.classes_)\n",
        "y = le.transform(y)"
      ],
      "id": "ed01d966",
      "execution_count": 8,
      "outputs": []
    },
    {
      "cell_type": "code",
      "metadata": {
        "id": "54ba0e14"
      },
      "source": [
        "dataset[\"protocol_type\"] = le.fit_transform(dataset[\"protocol_type\"].astype(str))\n",
        "dataset[\"service\"] = le.fit_transform(dataset[\"service\"].astype(str))\n",
        "dataset[\"flag\"] = le.fit_transform(dataset[\"flag\"].astype(str))"
      ],
      "id": "54ba0e14",
      "execution_count": 9,
      "outputs": []
    },
    {
      "cell_type": "code",
      "metadata": {
        "colab": {
          "base_uri": "https://localhost:8080/"
        },
        "id": "a0636644",
        "outputId": "f64475d4-2f4a-4b88-c7d0-0a89b11e524d"
      },
      "source": [
        "X = dataset.loc[:, dataset.columns != 'label']\n",
        "print('X: ', X)"
      ],
      "id": "a0636644",
      "execution_count": 10,
      "outputs": [
        {
          "output_type": "stream",
          "name": "stdout",
          "text": [
            "X:          duration  protocol_type  ...  dst_host_rerror_rate  dst_host_srv_rerror_rate\n",
            "0              0              1  ...                   0.0                       0.0\n",
            "1              0              1  ...                   0.0                       0.0\n",
            "2              0              1  ...                   0.0                       0.0\n",
            "3              0              1  ...                   0.0                       0.0\n",
            "4              0              1  ...                   0.0                       0.0\n",
            "...          ...            ...  ...                   ...                       ...\n",
            "494015         0              1  ...                   0.0                       0.0\n",
            "494016         0              1  ...                   0.0                       0.0\n",
            "494017         0              1  ...                   0.0                       0.0\n",
            "494018         0              1  ...                   0.0                       0.0\n",
            "494019         0              1  ...                   0.0                       0.0\n",
            "\n",
            "[494020 rows x 41 columns]\n"
          ]
        }
      ]
    },
    {
      "cell_type": "code",
      "metadata": {
        "id": "ca935428"
      },
      "source": [
        "from sklearn.model_selection import train_test_split\n",
        "\n",
        "X_train, X_test, y_train, y_test = train_test_split(X, y, test_size=0.3, random_state=1, stratify=y)"
      ],
      "id": "ca935428",
      "execution_count": 11,
      "outputs": []
    },
    {
      "cell_type": "code",
      "metadata": {
        "colab": {
          "base_uri": "https://localhost:8080/"
        },
        "id": "648bfa46",
        "outputId": "f790f502-62e2-4918-cb72-99857eac832a"
      },
      "source": [
        "print('Labels count in y:', np.bincount(y))\n",
        "print('Labels count in y_train:', np.bincount(y_train))\n",
        "print('Labels count in y_test:', np.bincount(y_test))"
      ],
      "id": "648bfa46",
      "execution_count": 12,
      "outputs": [
        {
          "output_type": "stream",
          "name": "stdout",
          "text": [
            "Labels count in y: [  2203     30      8     53     12   1247     21      9      7 107201\n",
            "    231  97277      3      4    264   1040     10   1589 280790      2\n",
            "    979   1020     20]\n",
            "Labels count in y_train: [  1542     21      6     37      8    873     15      6      5  75041\n",
            "    162  68094      2      3    185    728      7   1112 196553      1\n",
            "    685    714     14]\n",
            "Labels count in y_test: [  661     9     2    16     4   374     6     3     2 32160    69 29183\n",
            "     1     1    79   312     3   477 84237     1   294   306     6]\n"
          ]
        }
      ]
    },
    {
      "cell_type": "code",
      "metadata": {
        "colab": {
          "base_uri": "https://localhost:8080/"
        },
        "id": "eabd1113",
        "outputId": "1185b7b4-4703-49b6-879d-c707aa8f0ae9"
      },
      "source": [
        "from sklearn.preprocessing import StandardScaler\n",
        "sc_x = StandardScaler()\n",
        "sc_x.fit(X_train)\n",
        "X_train = sc_x.fit_transform(X_train) \n",
        "X_test = sc_x.transform(X_test)\n",
        "  \n",
        "print (X_train[0:10, :])"
      ],
      "id": "eabd1113",
      "execution_count": 13,
      "outputs": [
        {
          "output_type": "stream",
          "name": "stdout",
          "text": [
            "[[-6.84776365e-02  9.26091836e-01 -1.03290986e-01  5.14416680e-01\n",
            "  -2.82651874e-03  6.14432132e-02 -6.58618254e-03 -4.77197986e-02\n",
            "  -2.77692887e-03 -4.41932907e-02 -9.49675250e-03  2.39851220e+00\n",
            "  -5.44900739e-03 -1.03443406e-02 -4.29139606e-03 -5.38932422e-03\n",
            "  -1.22369718e-02 -9.67991548e-03 -2.75984318e-02  0.00000000e+00\n",
            "   0.00000000e+00 -3.72042900e-02 -1.49749617e+00 -1.13627853e+00\n",
            "  -4.64026282e-01 -4.63501958e-01 -2.48326789e-01 -2.48970905e-01\n",
            "   5.36870951e-01 -2.55176812e-01 -2.03123136e-01  3.48255496e-01\n",
            "   6.25692592e-01  5.99401414e-01 -2.83335999e-01 -1.25100413e+00\n",
            "  -1.58703688e-01 -4.64405334e-01 -4.63202400e-01 -2.52257048e-01\n",
            "  -2.49664707e-01]\n",
            " [-6.84776365e-02  9.26091836e-01  1.59641499e+00 -1.26154237e+00\n",
            "  -3.08994916e-03 -2.61996176e-02 -6.58618254e-03 -4.77197986e-02\n",
            "  -2.77692887e-03 -4.41932907e-02 -9.49675250e-03 -4.16925126e-01\n",
            "  -5.44900739e-03 -1.03443406e-02 -4.29139606e-03 -5.38932422e-03\n",
            "  -1.22369718e-02 -9.67991548e-03 -2.75984318e-02  0.00000000e+00\n",
            "   0.00000000e+00 -3.72042900e-02 -3.10779450e-01 -1.15657598e+00\n",
            "   2.16287970e+00  2.16109830e+00 -2.48326789e-01 -2.48970905e-01\n",
            "  -1.96244889e+00  4.73951400e-01 -2.03123136e-01  3.48255496e-01\n",
            "  -1.70319224e+00 -1.76187792e+00  2.66880554e-01 -1.25100413e+00\n",
            "  -1.58703688e-01  2.16313027e+00  2.16209301e+00 -2.52257048e-01\n",
            "  -2.49664707e-01]\n",
            " [-6.84776365e-02 -8.11556409e-01 -6.94493066e-01  5.14416680e-01\n",
            "  -2.21580064e-03 -2.61996176e-02 -6.58618254e-03 -4.77197986e-02\n",
            "  -2.77692887e-03 -4.41932907e-02 -9.49675250e-03 -4.16925126e-01\n",
            "  -5.44900739e-03 -1.03443406e-02 -4.29139606e-03 -5.38932422e-03\n",
            "  -1.22369718e-02 -9.67991548e-03 -2.75984318e-02  0.00000000e+00\n",
            "   0.00000000e+00 -3.72042900e-02  8.38412626e-01  8.85347270e-01\n",
            "  -4.64026282e-01 -4.63501958e-01 -2.48326789e-01 -2.48970905e-01\n",
            "   5.36870951e-01 -2.55176812e-01 -2.03123136e-01  3.48255496e-01\n",
            "   6.25692592e-01  5.99401414e-01 -2.83335999e-01  8.27019200e-01\n",
            "  -1.58703688e-01 -4.64405334e-01 -4.63202400e-01 -2.52257048e-01\n",
            "  -2.49664707e-01]\n",
            " [-6.84776365e-02  9.26091836e-01  1.59641499e+00 -1.26154237e+00\n",
            "  -3.08994916e-03 -2.61996176e-02 -6.58618254e-03 -4.77197986e-02\n",
            "  -2.77692887e-03 -4.41932907e-02 -9.49675250e-03 -4.16925126e-01\n",
            "  -5.44900739e-03 -1.03443406e-02 -4.29139606e-03 -5.38932422e-03\n",
            "  -1.22369718e-02 -9.67991548e-03 -2.75984318e-02  0.00000000e+00\n",
            "   0.00000000e+00 -3.72042900e-02 -2.49801911e-01 -1.15251649e+00\n",
            "   2.16287970e+00  2.16109830e+00 -2.48326789e-01 -2.48970905e-01\n",
            "  -1.96244889e+00  3.52430031e-01 -2.03123136e-01  3.48255496e-01\n",
            "  -1.69376356e+00 -1.73753483e+00  1.75177795e-01 -1.25100413e+00\n",
            "  -1.58703688e-01  2.16313027e+00  2.16209301e+00 -2.52257048e-01\n",
            "  -2.49664707e-01]\n",
            " [-6.84776365e-02 -8.11556409e-01 -6.94493066e-01  5.14416680e-01\n",
            "  -2.21580064e-03 -2.61996176e-02 -6.58618254e-03 -4.77197986e-02\n",
            "  -2.77692887e-03 -4.41932907e-02 -9.49675250e-03 -4.16925126e-01\n",
            "  -5.44900739e-03 -1.03443406e-02 -4.29139606e-03 -5.38932422e-03\n",
            "  -1.22369718e-02 -9.67991548e-03 -2.75984318e-02  0.00000000e+00\n",
            "   0.00000000e+00 -3.72042900e-02  8.38412626e-01  8.85347270e-01\n",
            "  -4.64026282e-01 -4.63501958e-01 -2.48326789e-01 -2.48970905e-01\n",
            "   5.36870951e-01 -2.55176812e-01 -2.03123136e-01  3.48255496e-01\n",
            "   6.25692592e-01  5.99401414e-01 -2.83335999e-01  8.27019200e-01\n",
            "  -1.58703688e-01 -4.64405334e-01 -4.63202400e-01 -2.52257048e-01\n",
            "  -2.49664707e-01]\n",
            " [-6.84776365e-02  9.26091836e-01  1.59641499e+00 -1.26154237e+00\n",
            "  -3.08994916e-03 -2.61996176e-02 -6.58618254e-03 -4.77197986e-02\n",
            "  -2.77692887e-03 -4.41932907e-02 -9.49675250e-03 -4.16925126e-01\n",
            "  -5.44900739e-03 -1.03443406e-02 -4.29139606e-03 -5.38932422e-03\n",
            "  -1.22369718e-02 -9.67991548e-03 -2.75984318e-02  0.00000000e+00\n",
            "   0.00000000e+00 -3.72042900e-02 -2.35730172e-01 -1.12004057e+00\n",
            "   2.16287970e+00  2.16109830e+00 -2.48326789e-01 -2.48970905e-01\n",
            "  -1.88515034e+00  3.52430031e-01 -2.03123136e-01  3.48255496e-01\n",
            "  -1.61833409e+00 -1.66450557e+00  1.75177795e-01 -1.25100413e+00\n",
            "  -1.58703688e-01  2.16313027e+00  2.16209301e+00 -2.52257048e-01\n",
            "  -2.49664707e-01]\n",
            " [-6.84776365e-02 -8.11556409e-01 -6.94493066e-01  5.14416680e-01\n",
            "  -2.21580064e-03 -2.61996176e-02 -6.58618254e-03 -4.77197986e-02\n",
            "  -2.77692887e-03 -4.41932907e-02 -9.49675250e-03 -4.16925126e-01\n",
            "  -5.44900739e-03 -1.03443406e-02 -4.29139606e-03 -5.38932422e-03\n",
            "  -1.22369718e-02 -9.67991548e-03 -2.75984318e-02  0.00000000e+00\n",
            "   0.00000000e+00 -3.72042900e-02  8.38412626e-01  8.85347270e-01\n",
            "  -4.64026282e-01 -4.63501958e-01 -2.48326789e-01 -2.48970905e-01\n",
            "   5.36870951e-01 -2.55176812e-01 -2.03123136e-01  3.48255496e-01\n",
            "   6.25692592e-01  5.99401414e-01 -2.83335999e-01  8.27019200e-01\n",
            "  -1.58703688e-01 -4.64405334e-01 -4.63202400e-01 -2.52257048e-01\n",
            "  -2.49664707e-01]\n",
            " [-6.84776365e-02  9.26091836e-01 -1.77191246e-01 -1.26154237e+00\n",
            "  -3.08994916e-03 -2.61996176e-02 -6.58618254e-03 -4.77197986e-02\n",
            "  -2.77692887e-03 -4.41932907e-02 -9.49675250e-03 -4.16925126e-01\n",
            "  -5.44900739e-03 -1.03443406e-02 -4.29139606e-03 -5.38932422e-03\n",
            "  -1.22369718e-02 -9.67991548e-03 -2.75984318e-02  0.00000000e+00\n",
            "   0.00000000e+00 -3.72042900e-02 -5.68761345e-01 -1.11598108e+00\n",
            "   2.16287970e+00  2.16109830e+00 -2.48326789e-01 -2.48970905e-01\n",
            "  -1.80785179e+00  5.95472768e-01 -2.03123136e-01  3.48255496e-01\n",
            "  -1.60890541e+00 -1.66450557e+00  4.50286072e-01 -1.25100413e+00\n",
            "  -1.58703688e-01  2.16313027e+00  2.16209301e+00 -2.52257048e-01\n",
            "  -2.49664707e-01]\n",
            " [-6.84776365e-02 -8.11556409e-01 -6.94493066e-01  5.14416680e-01\n",
            "  -2.21580064e-03 -2.61996176e-02 -6.58618254e-03 -4.77197986e-02\n",
            "  -2.77692887e-03 -4.41932907e-02 -9.49675250e-03 -4.16925126e-01\n",
            "  -5.44900739e-03 -1.03443406e-02 -4.29139606e-03 -5.38932422e-03\n",
            "  -1.22369718e-02 -9.67991548e-03 -2.75984318e-02  0.00000000e+00\n",
            "   0.00000000e+00 -3.72042900e-02  8.33722046e-01  8.81287780e-01\n",
            "  -4.64026282e-01 -4.63501958e-01 -2.48326789e-01 -2.48970905e-01\n",
            "   5.36870951e-01 -2.55176812e-01 -2.03123136e-01  3.48255496e-01\n",
            "   6.25692592e-01  5.99401414e-01 -2.83335999e-01  8.27019200e-01\n",
            "  -1.58703688e-01 -4.64405334e-01 -4.63202400e-01 -2.52257048e-01\n",
            "  -2.49664707e-01]\n",
            " [-6.84776365e-02 -8.11556409e-01 -6.94493066e-01  5.14416680e-01\n",
            "  -2.21580064e-03 -2.61996176e-02 -6.58618254e-03 -4.77197986e-02\n",
            "  -2.77692887e-03 -4.41932907e-02 -9.49675250e-03 -4.16925126e-01\n",
            "  -5.44900739e-03 -1.03443406e-02 -4.29139606e-03 -5.38932422e-03\n",
            "  -1.22369718e-02 -9.67991548e-03 -2.75984318e-02  0.00000000e+00\n",
            "   0.00000000e+00 -3.72042900e-02  8.38412626e-01  8.85347270e-01\n",
            "  -4.64026282e-01 -4.63501958e-01 -2.48326789e-01 -2.48970905e-01\n",
            "   5.36870951e-01 -2.55176812e-01 -2.03123136e-01  3.48255496e-01\n",
            "   6.25692592e-01  5.99401414e-01 -2.83335999e-01  8.27019200e-01\n",
            "  -1.58703688e-01 -4.64405334e-01 -4.63202400e-01 -2.52257048e-01\n",
            "  -2.49664707e-01]]\n"
          ]
        }
      ]
    },
    {
      "cell_type": "markdown",
      "metadata": {
        "id": "fbede6ee"
      },
      "source": [
        "\n",
        "\n",
        "```\n",
        "# This is formatted as code\n",
        "```\n",
        "\n",
        "#Naive bayes Algorithm"
      ],
      "id": "fbede6ee"
    },
    {
      "cell_type": "code",
      "metadata": {
        "colab": {
          "base_uri": "https://localhost:8080/"
        },
        "id": "h5yuzU9VrnAc",
        "outputId": "7d3c61f9-874a-473c-acd6-3db414c4db03"
      },
      "source": [
        "from sklearn.naive_bayes import GaussianNB\n",
        "gnb = GaussianNB()\n",
        "gnb.fit(X_train, y_train)"
      ],
      "id": "h5yuzU9VrnAc",
      "execution_count": 14,
      "outputs": [
        {
          "output_type": "execute_result",
          "data": {
            "text/plain": [
              "GaussianNB(priors=None, var_smoothing=1e-09)"
            ]
          },
          "metadata": {},
          "execution_count": 14
        }
      ]
    },
    {
      "cell_type": "code",
      "metadata": {
        "id": "00XyMg0vrm1O"
      },
      "source": [
        "y_pred = gnb.predict(X_test)"
      ],
      "id": "00XyMg0vrm1O",
      "execution_count": 15,
      "outputs": []
    },
    {
      "cell_type": "code",
      "metadata": {
        "colab": {
          "base_uri": "https://localhost:8080/"
        },
        "id": "6jWUNYCKrmVr",
        "outputId": "38047a2f-7485-4c7e-96eb-89a5fb8e452d"
      },
      "source": [
        "from sklearn.metrics import confusion_matrix\n",
        "cm = confusion_matrix(y_test, y_pred)\n",
        "  \n",
        "print (\"Confusion Matrix : \\n\", cm)"
      ],
      "id": "6jWUNYCKrmVr",
      "execution_count": 16,
      "outputs": [
        {
          "output_type": "stream",
          "name": "stdout",
          "text": [
            "Confusion Matrix : \n",
            " [[  657     0     0     0     0     0     0     0     0     0     0     3\n",
            "      0     0     0     0     0     0     0     0     0     1     0]\n",
            " [    0     8     0     0     0     0     0     0     0     0     0     1\n",
            "      0     0     0     0     0     0     0     0     0     0     0]\n",
            " [    0     1     0     0     0     0     0     0     0     0     0     1\n",
            "      0     0     0     0     0     0     0     0     0     0     0]\n",
            " [    0     0     0    16     0     0     0     0     0     0     0     0\n",
            "      0     0     0     0     0     0     0     0     0     0     0]\n",
            " [    0     0     0     0     3     0     0     0     1     0     0     0\n",
            "      0     0     0     0     0     0     0     0     0     0     0]\n",
            " [    0     0     0     0     0   373     0     0     0     0     0     1\n",
            "      0     0     0     0     0     0     0     0     0     0     0]\n",
            " [    0     0     0     0     0     0     6     0     0     0     0     0\n",
            "      0     0     0     0     0     0     0     0     0     0     0]\n",
            " [    0     0     1     0     0     0     0     1     1     0     0     0\n",
            "      0     0     0     0     0     0     0     0     0     0     0]\n",
            " [    0     0     0     0     0     0     0     0     0     0     0     1\n",
            "      0     0     0     0     0     0     0     0     0     0     1]\n",
            " [    0     0     0     0     0     0     0     0     0 32069    23     0\n",
            "      0     0     0     7     0    61     0     0     0     0     0]\n",
            " [    0     0     0     0     0    29     0     0     0     0    39     1\n",
            "      0     0     0     0     0     0     0     0     0     0     0]\n",
            " [    0   873    20     0     0  1623     1    49    14     0  1202 17119\n",
            "      0     0     1     8  1763   300     1     0     0  6055   154]\n",
            " [    0     0     0     0     0     0     0     0     1     0     0     0\n",
            "      0     0     0     0     0     0     0     0     0     0     0]\n",
            " [    0     0     0     0     0     0     0     0     0     0     0     1\n",
            "      0     0     0     0     0     0     0     0     0     0     0]\n",
            " [    0     0     0     0     0     0     0     0     0     0     3     0\n",
            "      0     0    76     0     0     0     0     0     0     0     0]\n",
            " [    0     0     0     0     0     1     0     0     0     0     0     0\n",
            "      0     0     0   281     0    30     0     0     0     0     0]\n",
            " [    0     0     0     0     0     0     0     0     0     0     1     1\n",
            "      0     0     0     0     0     0     0     0     0     0     1]\n",
            " [    0     0     1     0     0     0     0     0     0     0     3     2\n",
            "      0     0     0     1     0   448     0     0    22     0     0]\n",
            " [    0     0     0     0     0     0     0     0     0     0     0    58\n",
            "      0     0    28     0     0     0 84151     0     0     0     0]\n",
            " [    0     0     0     0     0     0     0     0     0     0     0     1\n",
            "      0     0     0     0     0     0     0     0     0     0     0]\n",
            " [    0     0     0     0     0     0     0     0     0     0     0     0\n",
            "      0     0     0     0     0     0     0     0   294     0     0]\n",
            " [    0    65     7     0     0     0     0    51     0     0     0     1\n",
            "      0     0     0     0     3     0     0     0     0   142    37]\n",
            " [    0     0     0     0     0     0     0     0     0     0     0     1\n",
            "      0     0     0     0     0     0     0     0     0     0     5]]\n"
          ]
        }
      ]
    },
    {
      "cell_type": "code",
      "metadata": {
        "colab": {
          "base_uri": "https://localhost:8080/"
        },
        "id": "0HX76EaYrmMQ",
        "outputId": "d290f0df-675f-434f-c1d0-41935dc3bb77"
      },
      "source": [
        "from sklearn.metrics import f1_score\n",
        "f1score = f1_score(y_test,y_pred, average='micro')\n",
        "print(f1score)"
      ],
      "id": "0HX76EaYrmMQ",
      "execution_count": 17,
      "outputs": [
        {
          "output_type": "stream",
          "name": "stdout",
          "text": [
            "0.9155364830033872\n"
          ]
        }
      ]
    },
    {
      "cell_type": "code",
      "metadata": {
        "colab": {
          "base_uri": "https://localhost:8080/"
        },
        "id": "0hQJktykrl_A",
        "outputId": "4d14ef16-eca1-45a6-e498-305d5c6978fa"
      },
      "source": [
        "from sklearn import metrics\n",
        "print(\"Gaussian Naive Bayes model accuracy(in %):\", metrics.accuracy_score(y_test, y_pred)*100)"
      ],
      "id": "0hQJktykrl_A",
      "execution_count": 18,
      "outputs": [
        {
          "output_type": "stream",
          "name": "stdout",
          "text": [
            "Gaussian Naive Bayes model accuracy(in %): 91.55364830033872\n"
          ]
        }
      ]
    },
    {
      "cell_type": "markdown",
      "metadata": {
        "id": "OYi6_hKrw18n"
      },
      "source": [
        "##HANDLING CLASS IMABALANCE"
      ],
      "id": "OYi6_hKrw18n"
    },
    {
      "cell_type": "code",
      "metadata": {
        "id": "v7To2ycyytyA"
      },
      "source": [
        "import pandas as pd\n",
        "import numpy as np\n",
        "from collections import Counter\n",
        "from sklearn.datasets import make_classification\n",
        "from imblearn.under_sampling import RandomUnderSampler\n",
        "import imblearn\n",
        "from imblearn.under_sampling import RandomUnderSampler\n",
        "\n",
        "\n"
      ],
      "id": "v7To2ycyytyA",
      "execution_count": 19,
      "outputs": []
    },
    {
      "cell_type": "code",
      "metadata": {
        "colab": {
          "base_uri": "https://localhost:8080/",
          "height": 224
        },
        "id": "RDEVf-ZfyvzG",
        "outputId": "b9672872-0806-4ef7-9759-6537a80d168e"
      },
      "source": [
        "dataset.head()"
      ],
      "id": "RDEVf-ZfyvzG",
      "execution_count": 20,
      "outputs": [
        {
          "output_type": "execute_result",
          "data": {
            "text/html": [
              "<div>\n",
              "<style scoped>\n",
              "    .dataframe tbody tr th:only-of-type {\n",
              "        vertical-align: middle;\n",
              "    }\n",
              "\n",
              "    .dataframe tbody tr th {\n",
              "        vertical-align: top;\n",
              "    }\n",
              "\n",
              "    .dataframe thead th {\n",
              "        text-align: right;\n",
              "    }\n",
              "</style>\n",
              "<table border=\"1\" class=\"dataframe\">\n",
              "  <thead>\n",
              "    <tr style=\"text-align: right;\">\n",
              "      <th></th>\n",
              "      <th>duration</th>\n",
              "      <th>protocol_type</th>\n",
              "      <th>service</th>\n",
              "      <th>flag</th>\n",
              "      <th>src_bytes</th>\n",
              "      <th>dst_bytes</th>\n",
              "      <th>land</th>\n",
              "      <th>wrong_fragment</th>\n",
              "      <th>urgent</th>\n",
              "      <th>hot</th>\n",
              "      <th>num_failed_logins</th>\n",
              "      <th>logged_in</th>\n",
              "      <th>lnum_compromised</th>\n",
              "      <th>lroot_shell</th>\n",
              "      <th>lsu_attempted</th>\n",
              "      <th>lnum_root</th>\n",
              "      <th>lnum_file_creations</th>\n",
              "      <th>lnum_shells</th>\n",
              "      <th>lnum_access_files</th>\n",
              "      <th>lnum_outbound_cmds</th>\n",
              "      <th>is_host_login</th>\n",
              "      <th>is_guest_login</th>\n",
              "      <th>count</th>\n",
              "      <th>srv_count</th>\n",
              "      <th>serror_rate</th>\n",
              "      <th>srv_serror_rate</th>\n",
              "      <th>rerror_rate</th>\n",
              "      <th>srv_rerror_rate</th>\n",
              "      <th>same_srv_rate</th>\n",
              "      <th>diff_srv_rate</th>\n",
              "      <th>srv_diff_host_rate</th>\n",
              "      <th>dst_host_count</th>\n",
              "      <th>dst_host_srv_count</th>\n",
              "      <th>dst_host_same_srv_rate</th>\n",
              "      <th>dst_host_diff_srv_rate</th>\n",
              "      <th>dst_host_same_src_port_rate</th>\n",
              "      <th>dst_host_srv_diff_host_rate</th>\n",
              "      <th>dst_host_serror_rate</th>\n",
              "      <th>dst_host_srv_serror_rate</th>\n",
              "      <th>dst_host_rerror_rate</th>\n",
              "      <th>dst_host_srv_rerror_rate</th>\n",
              "      <th>label</th>\n",
              "    </tr>\n",
              "  </thead>\n",
              "  <tbody>\n",
              "    <tr>\n",
              "      <th>0</th>\n",
              "      <td>0</td>\n",
              "      <td>1</td>\n",
              "      <td>22</td>\n",
              "      <td>9</td>\n",
              "      <td>181</td>\n",
              "      <td>5450</td>\n",
              "      <td>0</td>\n",
              "      <td>0</td>\n",
              "      <td>0</td>\n",
              "      <td>0</td>\n",
              "      <td>0</td>\n",
              "      <td>1</td>\n",
              "      <td>0</td>\n",
              "      <td>0</td>\n",
              "      <td>0</td>\n",
              "      <td>0</td>\n",
              "      <td>0</td>\n",
              "      <td>0</td>\n",
              "      <td>0</td>\n",
              "      <td>0</td>\n",
              "      <td>0</td>\n",
              "      <td>0</td>\n",
              "      <td>8</td>\n",
              "      <td>8</td>\n",
              "      <td>0.0</td>\n",
              "      <td>0.0</td>\n",
              "      <td>0.0</td>\n",
              "      <td>0.0</td>\n",
              "      <td>1.0</td>\n",
              "      <td>0.0</td>\n",
              "      <td>0.0</td>\n",
              "      <td>9</td>\n",
              "      <td>9</td>\n",
              "      <td>1.0</td>\n",
              "      <td>0.0</td>\n",
              "      <td>0.11</td>\n",
              "      <td>0.0</td>\n",
              "      <td>0.0</td>\n",
              "      <td>0.0</td>\n",
              "      <td>0.0</td>\n",
              "      <td>0.0</td>\n",
              "      <td>normal</td>\n",
              "    </tr>\n",
              "    <tr>\n",
              "      <th>1</th>\n",
              "      <td>0</td>\n",
              "      <td>1</td>\n",
              "      <td>22</td>\n",
              "      <td>9</td>\n",
              "      <td>239</td>\n",
              "      <td>486</td>\n",
              "      <td>0</td>\n",
              "      <td>0</td>\n",
              "      <td>0</td>\n",
              "      <td>0</td>\n",
              "      <td>0</td>\n",
              "      <td>1</td>\n",
              "      <td>0</td>\n",
              "      <td>0</td>\n",
              "      <td>0</td>\n",
              "      <td>0</td>\n",
              "      <td>0</td>\n",
              "      <td>0</td>\n",
              "      <td>0</td>\n",
              "      <td>0</td>\n",
              "      <td>0</td>\n",
              "      <td>0</td>\n",
              "      <td>8</td>\n",
              "      <td>8</td>\n",
              "      <td>0.0</td>\n",
              "      <td>0.0</td>\n",
              "      <td>0.0</td>\n",
              "      <td>0.0</td>\n",
              "      <td>1.0</td>\n",
              "      <td>0.0</td>\n",
              "      <td>0.0</td>\n",
              "      <td>19</td>\n",
              "      <td>19</td>\n",
              "      <td>1.0</td>\n",
              "      <td>0.0</td>\n",
              "      <td>0.05</td>\n",
              "      <td>0.0</td>\n",
              "      <td>0.0</td>\n",
              "      <td>0.0</td>\n",
              "      <td>0.0</td>\n",
              "      <td>0.0</td>\n",
              "      <td>normal</td>\n",
              "    </tr>\n",
              "    <tr>\n",
              "      <th>2</th>\n",
              "      <td>0</td>\n",
              "      <td>1</td>\n",
              "      <td>22</td>\n",
              "      <td>9</td>\n",
              "      <td>235</td>\n",
              "      <td>1337</td>\n",
              "      <td>0</td>\n",
              "      <td>0</td>\n",
              "      <td>0</td>\n",
              "      <td>0</td>\n",
              "      <td>0</td>\n",
              "      <td>1</td>\n",
              "      <td>0</td>\n",
              "      <td>0</td>\n",
              "      <td>0</td>\n",
              "      <td>0</td>\n",
              "      <td>0</td>\n",
              "      <td>0</td>\n",
              "      <td>0</td>\n",
              "      <td>0</td>\n",
              "      <td>0</td>\n",
              "      <td>0</td>\n",
              "      <td>8</td>\n",
              "      <td>8</td>\n",
              "      <td>0.0</td>\n",
              "      <td>0.0</td>\n",
              "      <td>0.0</td>\n",
              "      <td>0.0</td>\n",
              "      <td>1.0</td>\n",
              "      <td>0.0</td>\n",
              "      <td>0.0</td>\n",
              "      <td>29</td>\n",
              "      <td>29</td>\n",
              "      <td>1.0</td>\n",
              "      <td>0.0</td>\n",
              "      <td>0.03</td>\n",
              "      <td>0.0</td>\n",
              "      <td>0.0</td>\n",
              "      <td>0.0</td>\n",
              "      <td>0.0</td>\n",
              "      <td>0.0</td>\n",
              "      <td>normal</td>\n",
              "    </tr>\n",
              "    <tr>\n",
              "      <th>3</th>\n",
              "      <td>0</td>\n",
              "      <td>1</td>\n",
              "      <td>22</td>\n",
              "      <td>9</td>\n",
              "      <td>219</td>\n",
              "      <td>1337</td>\n",
              "      <td>0</td>\n",
              "      <td>0</td>\n",
              "      <td>0</td>\n",
              "      <td>0</td>\n",
              "      <td>0</td>\n",
              "      <td>1</td>\n",
              "      <td>0</td>\n",
              "      <td>0</td>\n",
              "      <td>0</td>\n",
              "      <td>0</td>\n",
              "      <td>0</td>\n",
              "      <td>0</td>\n",
              "      <td>0</td>\n",
              "      <td>0</td>\n",
              "      <td>0</td>\n",
              "      <td>0</td>\n",
              "      <td>6</td>\n",
              "      <td>6</td>\n",
              "      <td>0.0</td>\n",
              "      <td>0.0</td>\n",
              "      <td>0.0</td>\n",
              "      <td>0.0</td>\n",
              "      <td>1.0</td>\n",
              "      <td>0.0</td>\n",
              "      <td>0.0</td>\n",
              "      <td>39</td>\n",
              "      <td>39</td>\n",
              "      <td>1.0</td>\n",
              "      <td>0.0</td>\n",
              "      <td>0.03</td>\n",
              "      <td>0.0</td>\n",
              "      <td>0.0</td>\n",
              "      <td>0.0</td>\n",
              "      <td>0.0</td>\n",
              "      <td>0.0</td>\n",
              "      <td>normal</td>\n",
              "    </tr>\n",
              "    <tr>\n",
              "      <th>4</th>\n",
              "      <td>0</td>\n",
              "      <td>1</td>\n",
              "      <td>22</td>\n",
              "      <td>9</td>\n",
              "      <td>217</td>\n",
              "      <td>2032</td>\n",
              "      <td>0</td>\n",
              "      <td>0</td>\n",
              "      <td>0</td>\n",
              "      <td>0</td>\n",
              "      <td>0</td>\n",
              "      <td>1</td>\n",
              "      <td>0</td>\n",
              "      <td>0</td>\n",
              "      <td>0</td>\n",
              "      <td>0</td>\n",
              "      <td>0</td>\n",
              "      <td>0</td>\n",
              "      <td>0</td>\n",
              "      <td>0</td>\n",
              "      <td>0</td>\n",
              "      <td>0</td>\n",
              "      <td>6</td>\n",
              "      <td>6</td>\n",
              "      <td>0.0</td>\n",
              "      <td>0.0</td>\n",
              "      <td>0.0</td>\n",
              "      <td>0.0</td>\n",
              "      <td>1.0</td>\n",
              "      <td>0.0</td>\n",
              "      <td>0.0</td>\n",
              "      <td>49</td>\n",
              "      <td>49</td>\n",
              "      <td>1.0</td>\n",
              "      <td>0.0</td>\n",
              "      <td>0.02</td>\n",
              "      <td>0.0</td>\n",
              "      <td>0.0</td>\n",
              "      <td>0.0</td>\n",
              "      <td>0.0</td>\n",
              "      <td>0.0</td>\n",
              "      <td>normal</td>\n",
              "    </tr>\n",
              "  </tbody>\n",
              "</table>\n",
              "</div>"
            ],
            "text/plain": [
              "   duration  protocol_type  ...  dst_host_srv_rerror_rate   label\n",
              "0         0              1  ...                       0.0  normal\n",
              "1         0              1  ...                       0.0  normal\n",
              "2         0              1  ...                       0.0  normal\n",
              "3         0              1  ...                       0.0  normal\n",
              "4         0              1  ...                       0.0  normal\n",
              "\n",
              "[5 rows x 42 columns]"
            ]
          },
          "metadata": {},
          "execution_count": 20
        }
      ]
    },
    {
      "cell_type": "markdown",
      "metadata": {
        "id": "1wvfXKMhgscy"
      },
      "source": [
        "#Undersample"
      ],
      "id": "1wvfXKMhgscy"
    },
    {
      "cell_type": "code",
      "metadata": {
        "colab": {
          "base_uri": "https://localhost:8080/"
        },
        "id": "0r6PQLpKI9C8",
        "outputId": "ac557afa-9e70-4a5b-c322-aca543cd2e79"
      },
      "source": [
        "print(Counter(y))"
      ],
      "id": "0r6PQLpKI9C8",
      "execution_count": 21,
      "outputs": [
        {
          "output_type": "stream",
          "name": "stdout",
          "text": [
            "Counter({18: 280790, 9: 107201, 11: 97277, 0: 2203, 17: 1589, 5: 1247, 15: 1040, 21: 1020, 20: 979, 14: 264, 10: 231, 3: 53, 1: 30, 6: 21, 22: 20, 4: 12, 16: 10, 7: 9, 2: 8, 8: 7, 13: 4, 12: 3, 19: 2})\n"
          ]
        }
      ]
    },
    {
      "cell_type": "code",
      "metadata": {
        "id": "50TTf3OzzT2M"
      },
      "source": [
        "# define undersample strategy\n",
        "undersample = RandomUnderSampler(sampling_strategy='majority')"
      ],
      "id": "50TTf3OzzT2M",
      "execution_count": 22,
      "outputs": []
    },
    {
      "cell_type": "code",
      "metadata": {
        "colab": {
          "base_uri": "https://localhost:8080/"
        },
        "id": "8-sWuzYSzS4C",
        "outputId": "ce007ca6-4c6d-4774-f70e-c461b995024b"
      },
      "source": [
        "# fit and apply the transform\n",
        "X_over, y_over = undersample.fit_resample(X, y)\n"
      ],
      "id": "8-sWuzYSzS4C",
      "execution_count": 23,
      "outputs": [
        {
          "output_type": "stream",
          "name": "stderr",
          "text": [
            "/usr/local/lib/python3.7/dist-packages/sklearn/utils/deprecation.py:87: FutureWarning: Function safe_indexing is deprecated; safe_indexing is deprecated in version 0.22 and will be removed in version 0.24.\n",
            "  warnings.warn(msg, category=FutureWarning)\n"
          ]
        }
      ]
    },
    {
      "cell_type": "code",
      "metadata": {
        "colab": {
          "base_uri": "https://localhost:8080/"
        },
        "id": "L06tyhNDSX_p",
        "outputId": "9ead7964-da1a-453d-85b5-e6d928124fef"
      },
      "source": [
        "print('Labels count in y_train:', np.bincount(y_over))"
      ],
      "id": "L06tyhNDSX_p",
      "execution_count": 24,
      "outputs": [
        {
          "output_type": "stream",
          "name": "stdout",
          "text": [
            "Labels count in y_train: [  2203     30      8     53     12   1247     21      9      7 107201\n",
            "    231  97277      3      4    264   1040     10   1589      2      2\n",
            "    979   1020     20]\n"
          ]
        }
      ]
    },
    {
      "cell_type": "code",
      "metadata": {
        "colab": {
          "base_uri": "https://localhost:8080/"
        },
        "id": "sYEzcHOfSXnd",
        "outputId": "7b695d3b-9699-4f87-9301-a1e43f9084fa"
      },
      "source": [
        "from collections import Counter\n",
        "print(Counter(y_over))"
      ],
      "id": "sYEzcHOfSXnd",
      "execution_count": 25,
      "outputs": [
        {
          "output_type": "stream",
          "name": "stdout",
          "text": [
            "Counter({9: 107201, 11: 97277, 0: 2203, 17: 1589, 5: 1247, 15: 1040, 21: 1020, 20: 979, 14: 264, 10: 231, 3: 53, 1: 30, 6: 21, 22: 20, 4: 12, 16: 10, 7: 9, 2: 8, 8: 7, 13: 4, 12: 3, 18: 2, 19: 2})\n"
          ]
        }
      ]
    },
    {
      "cell_type": "code",
      "metadata": {
        "colab": {
          "base_uri": "https://localhost:8080/"
        },
        "id": "G7ztFFdASXOZ",
        "outputId": "2fb3b7cc-2904-4fbf-af81-3df5852571bd"
      },
      "source": [
        "print(Counter(y))\n",
        "\n",
        "#considering 18th calass (Max) and 19th class (Min)\n",
        "#the 18th class is undersampled to 2"
      ],
      "id": "G7ztFFdASXOZ",
      "execution_count": 26,
      "outputs": [
        {
          "output_type": "stream",
          "name": "stdout",
          "text": [
            "Counter({18: 280790, 9: 107201, 11: 97277, 0: 2203, 17: 1589, 5: 1247, 15: 1040, 21: 1020, 20: 979, 14: 264, 10: 231, 3: 53, 1: 30, 6: 21, 22: 20, 4: 12, 16: 10, 7: 9, 2: 8, 8: 7, 13: 4, 12: 3, 19: 2})\n"
          ]
        }
      ]
    },
    {
      "cell_type": "code",
      "metadata": {
        "colab": {
          "base_uri": "https://localhost:8080/"
        },
        "id": "lQMQsHZ6SWvq",
        "outputId": "7582f1f4-174a-4ff6-bbaa-d0a7abaa5be9"
      },
      "source": [
        "from imblearn.over_sampling import RandomOverSampler\n",
        "oversample = RandomOverSampler(sampling_strategy='minority')\n",
        "X_over1, y_over1 = oversample.fit_resample(X, y)\n",
        "print(Counter(y_over1))"
      ],
      "id": "lQMQsHZ6SWvq",
      "execution_count": 27,
      "outputs": [
        {
          "output_type": "stream",
          "name": "stderr",
          "text": [
            "/usr/local/lib/python3.7/dist-packages/sklearn/utils/deprecation.py:87: FutureWarning: Function safe_indexing is deprecated; safe_indexing is deprecated in version 0.22 and will be removed in version 0.24.\n",
            "  warnings.warn(msg, category=FutureWarning)\n"
          ]
        },
        {
          "output_type": "stream",
          "name": "stdout",
          "text": [
            "Counter({18: 280790, 19: 280790, 9: 107201, 11: 97277, 0: 2203, 17: 1589, 5: 1247, 15: 1040, 21: 1020, 20: 979, 14: 264, 10: 231, 3: 53, 1: 30, 6: 21, 22: 20, 4: 12, 16: 10, 7: 9, 2: 8, 8: 7, 13: 4, 12: 3})\n"
          ]
        }
      ]
    },
    {
      "cell_type": "code",
      "metadata": {
        "id": "u69XW-kRUgok"
      },
      "source": [
        "from sklearn.model_selection import train_test_split\n",
        "\n",
        "X_trainUnder, X_testUnder, y_trainUnder, y_testUnder = train_test_split(X, y, test_size=0.3, random_state=1, stratify=y)"
      ],
      "id": "u69XW-kRUgok",
      "execution_count": 28,
      "outputs": []
    },
    {
      "cell_type": "code",
      "metadata": {
        "id": "BYr1gPl4SlWo"
      },
      "source": [
        "from sklearn.preprocessing import StandardScaler\n",
        "sc_x = StandardScaler()\n",
        "sc_x.fit(X_trainUnder)\n",
        "X_trainUnder = sc_x.fit_transform(X_trainUnder) \n",
        "X_testUnder = sc_x.transform(X_testUnder)"
      ],
      "id": "BYr1gPl4SlWo",
      "execution_count": 29,
      "outputs": []
    },
    {
      "cell_type": "code",
      "metadata": {
        "colab": {
          "base_uri": "https://localhost:8080/"
        },
        "id": "1CuK4jQqSlGc",
        "outputId": "8296e361-e2a8-4df2-915e-432fac45d8fe"
      },
      "source": [
        "from sklearn.naive_bayes import GaussianNB\n",
        "gnb = GaussianNB()\n",
        "gnb.fit(X_trainUnder, y_trainUnder)"
      ],
      "id": "1CuK4jQqSlGc",
      "execution_count": 30,
      "outputs": [
        {
          "output_type": "execute_result",
          "data": {
            "text/plain": [
              "GaussianNB(priors=None, var_smoothing=1e-09)"
            ]
          },
          "metadata": {},
          "execution_count": 30
        }
      ]
    },
    {
      "cell_type": "code",
      "metadata": {
        "id": "Hkvjd6iTSk4x"
      },
      "source": [
        "y_predUnder = gnb.predict(X_testUnder)"
      ],
      "id": "Hkvjd6iTSk4x",
      "execution_count": 31,
      "outputs": []
    },
    {
      "cell_type": "code",
      "metadata": {
        "colab": {
          "base_uri": "https://localhost:8080/"
        },
        "id": "ZjwvASXBSkmE",
        "outputId": "981dfdea-f1b6-4611-fc69-d5d2dd8cdef5"
      },
      "source": [
        "from sklearn.metrics import confusion_matrix\n",
        "cm = confusion_matrix(y_testUnder, y_predUnder)\n",
        "  \n",
        "print (\"Confusion Matrix : \\n\", cm)"
      ],
      "id": "ZjwvASXBSkmE",
      "execution_count": 32,
      "outputs": [
        {
          "output_type": "stream",
          "name": "stdout",
          "text": [
            "Confusion Matrix : \n",
            " [[  657     0     0     0     0     0     0     0     0     0     0     3\n",
            "      0     0     0     0     0     0     0     0     0     1     0]\n",
            " [    0     8     0     0     0     0     0     0     0     0     0     1\n",
            "      0     0     0     0     0     0     0     0     0     0     0]\n",
            " [    0     1     0     0     0     0     0     0     0     0     0     1\n",
            "      0     0     0     0     0     0     0     0     0     0     0]\n",
            " [    0     0     0    16     0     0     0     0     0     0     0     0\n",
            "      0     0     0     0     0     0     0     0     0     0     0]\n",
            " [    0     0     0     0     3     0     0     0     1     0     0     0\n",
            "      0     0     0     0     0     0     0     0     0     0     0]\n",
            " [    0     0     0     0     0   373     0     0     0     0     0     1\n",
            "      0     0     0     0     0     0     0     0     0     0     0]\n",
            " [    0     0     0     0     0     0     6     0     0     0     0     0\n",
            "      0     0     0     0     0     0     0     0     0     0     0]\n",
            " [    0     0     1     0     0     0     0     1     1     0     0     0\n",
            "      0     0     0     0     0     0     0     0     0     0     0]\n",
            " [    0     0     0     0     0     0     0     0     0     0     0     1\n",
            "      0     0     0     0     0     0     0     0     0     0     1]\n",
            " [    0     0     0     0     0     0     0     0     0 32069    23     0\n",
            "      0     0     0     7     0    61     0     0     0     0     0]\n",
            " [    0     0     0     0     0    29     0     0     0     0    39     1\n",
            "      0     0     0     0     0     0     0     0     0     0     0]\n",
            " [    0   873    20     0     0  1623     1    49    14     0  1202 17119\n",
            "      0     0     1     8  1763   300     1     0     0  6055   154]\n",
            " [    0     0     0     0     0     0     0     0     1     0     0     0\n",
            "      0     0     0     0     0     0     0     0     0     0     0]\n",
            " [    0     0     0     0     0     0     0     0     0     0     0     1\n",
            "      0     0     0     0     0     0     0     0     0     0     0]\n",
            " [    0     0     0     0     0     0     0     0     0     0     3     0\n",
            "      0     0    76     0     0     0     0     0     0     0     0]\n",
            " [    0     0     0     0     0     1     0     0     0     0     0     0\n",
            "      0     0     0   281     0    30     0     0     0     0     0]\n",
            " [    0     0     0     0     0     0     0     0     0     0     1     1\n",
            "      0     0     0     0     0     0     0     0     0     0     1]\n",
            " [    0     0     1     0     0     0     0     0     0     0     3     2\n",
            "      0     0     0     1     0   448     0     0    22     0     0]\n",
            " [    0     0     0     0     0     0     0     0     0     0     0    58\n",
            "      0     0    28     0     0     0 84151     0     0     0     0]\n",
            " [    0     0     0     0     0     0     0     0     0     0     0     1\n",
            "      0     0     0     0     0     0     0     0     0     0     0]\n",
            " [    0     0     0     0     0     0     0     0     0     0     0     0\n",
            "      0     0     0     0     0     0     0     0   294     0     0]\n",
            " [    0    65     7     0     0     0     0    51     0     0     0     1\n",
            "      0     0     0     0     3     0     0     0     0   142    37]\n",
            " [    0     0     0     0     0     0     0     0     0     0     0     1\n",
            "      0     0     0     0     0     0     0     0     0     0     5]]\n"
          ]
        }
      ]
    },
    {
      "cell_type": "code",
      "metadata": {
        "colab": {
          "base_uri": "https://localhost:8080/"
        },
        "id": "1q1Es5mlTFef",
        "outputId": "8a6dbe98-8423-4daa-c1e4-174178952394"
      },
      "source": [
        "from sklearn.metrics import f1_score\n",
        "f1score = f1_score(y_testUnder,y_predUnder, average='micro')\n",
        "print(f1score)"
      ],
      "id": "1q1Es5mlTFef",
      "execution_count": 33,
      "outputs": [
        {
          "output_type": "stream",
          "name": "stdout",
          "text": [
            "0.9155364830033872\n"
          ]
        }
      ]
    },
    {
      "cell_type": "code",
      "metadata": {
        "colab": {
          "base_uri": "https://localhost:8080/"
        },
        "id": "Vjebb14xTQju",
        "outputId": "0357041b-a60e-4a3e-ef17-1d4e9c464268"
      },
      "source": [
        "from sklearn.metrics import accuracy_score\n",
        "print (\"Gaussian Naive Bayes model accuracy(in %):\", accuracy_score(y_testUnder, y_predUnder))"
      ],
      "id": "Vjebb14xTQju",
      "execution_count": 34,
      "outputs": [
        {
          "output_type": "stream",
          "name": "stdout",
          "text": [
            "Gaussian Naive Bayes model accuracy(in %): 0.9155364830033872\n"
          ]
        }
      ]
    },
    {
      "cell_type": "markdown",
      "metadata": {
        "id": "JOjiMqaRaAF4"
      },
      "source": [
        "# Oversample"
      ],
      "id": "JOjiMqaRaAF4"
    },
    {
      "cell_type": "code",
      "metadata": {
        "id": "usiMF_BoaLo7"
      },
      "source": [
        "#import the required pacakges\n",
        "from collections import Counter\n",
        "from sklearn.datasets import make_classification\n",
        "from imblearn.under_sampling import RandomUnderSampler"
      ],
      "id": "usiMF_BoaLo7",
      "execution_count": 35,
      "outputs": []
    },
    {
      "cell_type": "code",
      "metadata": {
        "id": "thx0TcDwa4oc"
      },
      "source": [
        "# define oversampling strategy\n",
        "\n",
        "over = RandomOverSampler(sampling_strategy=0.1)\n"
      ],
      "id": "thx0TcDwa4oc",
      "execution_count": 36,
      "outputs": []
    },
    {
      "cell_type": "code",
      "metadata": {
        "id": "C_wqMl1pdhxT"
      },
      "source": [
        "over = RandomOverSampler(sampling_strategy='minority')"
      ],
      "id": "C_wqMl1pdhxT",
      "execution_count": 37,
      "outputs": []
    },
    {
      "cell_type": "code",
      "metadata": {
        "colab": {
          "base_uri": "https://localhost:8080/"
        },
        "id": "ww0GwUclbnRR",
        "outputId": "fd8651aa-2be0-40fb-c0c3-c032693db7e6"
      },
      "source": [
        "# fit and apply the transform\n",
        "\n",
        "X, y = over.fit_resample(X, y)\n"
      ],
      "id": "ww0GwUclbnRR",
      "execution_count": 38,
      "outputs": [
        {
          "output_type": "stream",
          "name": "stderr",
          "text": [
            "/usr/local/lib/python3.7/dist-packages/sklearn/utils/deprecation.py:87: FutureWarning: Function safe_indexing is deprecated; safe_indexing is deprecated in version 0.22 and will be removed in version 0.24.\n",
            "  warnings.warn(msg, category=FutureWarning)\n"
          ]
        }
      ]
    },
    {
      "cell_type": "code",
      "metadata": {
        "colab": {
          "base_uri": "https://localhost:8080/"
        },
        "id": "5BrZcQTga4HT",
        "outputId": "6cd3a738-b65c-4173-acdc-ec10e873392a"
      },
      "source": [
        "print('Labels count in y_train:', np.bincount(y_over))"
      ],
      "id": "5BrZcQTga4HT",
      "execution_count": 39,
      "outputs": [
        {
          "output_type": "stream",
          "name": "stdout",
          "text": [
            "Labels count in y_train: [  2203     30      8     53     12   1247     21      9      7 107201\n",
            "    231  97277      3      4    264   1040     10   1589      2      2\n",
            "    979   1020     20]\n"
          ]
        }
      ]
    },
    {
      "cell_type": "code",
      "metadata": {
        "colab": {
          "base_uri": "https://localhost:8080/"
        },
        "id": "KMOGDMa9bMAU",
        "outputId": "1da768bf-becd-4473-90d9-953422b05623"
      },
      "source": [
        "from collections import Counter\n",
        "print(Counter(y_over))"
      ],
      "id": "KMOGDMa9bMAU",
      "execution_count": 40,
      "outputs": [
        {
          "output_type": "stream",
          "name": "stdout",
          "text": [
            "Counter({9: 107201, 11: 97277, 0: 2203, 17: 1589, 5: 1247, 15: 1040, 21: 1020, 20: 979, 14: 264, 10: 231, 3: 53, 1: 30, 6: 21, 22: 20, 4: 12, 16: 10, 7: 9, 2: 8, 8: 7, 13: 4, 12: 3, 18: 2, 19: 2})\n"
          ]
        }
      ]
    },
    {
      "cell_type": "code",
      "metadata": {
        "colab": {
          "base_uri": "https://localhost:8080/"
        },
        "id": "ZEimJrSHensr",
        "outputId": "ea593800-ff89-4fdf-c82c-958b206b9443"
      },
      "source": [
        "print(Counter(y))"
      ],
      "id": "ZEimJrSHensr",
      "execution_count": 41,
      "outputs": [
        {
          "output_type": "stream",
          "name": "stdout",
          "text": [
            "Counter({18: 280790, 19: 280790, 9: 107201, 11: 97277, 0: 2203, 17: 1589, 5: 1247, 15: 1040, 21: 1020, 20: 979, 14: 264, 10: 231, 3: 53, 1: 30, 6: 21, 22: 20, 4: 12, 16: 10, 7: 9, 2: 8, 8: 7, 13: 4, 12: 3})\n"
          ]
        }
      ]
    },
    {
      "cell_type": "code",
      "metadata": {
        "colab": {
          "base_uri": "https://localhost:8080/"
        },
        "id": "Djfoogkneu1N",
        "outputId": "ef2c06e2-2c76-4435-f046-ac8b10054006"
      },
      "source": [
        "from imblearn.over_sampling import RandomOverSampler\n",
        "oversample = RandomOverSampler(sampling_strategy='minority')\n",
        "X_over1, y_over1 = oversample.fit_resample(X, y)\n",
        "print(Counter(y_over1))"
      ],
      "id": "Djfoogkneu1N",
      "execution_count": 42,
      "outputs": [
        {
          "output_type": "stream",
          "name": "stderr",
          "text": [
            "/usr/local/lib/python3.7/dist-packages/sklearn/utils/deprecation.py:87: FutureWarning: Function safe_indexing is deprecated; safe_indexing is deprecated in version 0.22 and will be removed in version 0.24.\n",
            "  warnings.warn(msg, category=FutureWarning)\n"
          ]
        },
        {
          "output_type": "stream",
          "name": "stdout",
          "text": [
            "Counter({12: 280790, 18: 280790, 19: 280790, 9: 107201, 11: 97277, 0: 2203, 17: 1589, 5: 1247, 15: 1040, 21: 1020, 20: 979, 14: 264, 10: 231, 3: 53, 1: 30, 6: 21, 22: 20, 4: 12, 16: 10, 7: 9, 2: 8, 8: 7, 13: 4})\n"
          ]
        }
      ]
    },
    {
      "cell_type": "code",
      "metadata": {
        "id": "3_d-1HeeVhiv"
      },
      "source": [
        "from sklearn.model_selection import train_test_split\n",
        "\n",
        "X_trainOver, X_testOver, y_trainOver, y_testOver = train_test_split(X, y, test_size=0.3, random_state=1, stratify=y)"
      ],
      "id": "3_d-1HeeVhiv",
      "execution_count": 43,
      "outputs": []
    },
    {
      "cell_type": "code",
      "metadata": {
        "id": "KizjMJDeeujL"
      },
      "source": [
        "from sklearn.preprocessing import StandardScaler\n",
        "sc_x = StandardScaler()\n",
        "sc_x.fit(X_trainOver)\n",
        "X_trainOver = sc_x.fit_transform(X_trainOver) \n",
        "X_testOver = sc_x.transform(X_testOver)"
      ],
      "id": "KizjMJDeeujL",
      "execution_count": 44,
      "outputs": []
    },
    {
      "cell_type": "code",
      "metadata": {
        "colab": {
          "base_uri": "https://localhost:8080/"
        },
        "id": "vI2R9U5zeuKa",
        "outputId": "42e64e3a-6e64-4bcf-84d3-42f8f3a51a23"
      },
      "source": [
        "from sklearn.naive_bayes import GaussianNB\n",
        "gnb = GaussianNB()\n",
        "gnb.fit(X_trainOver, y_trainOver)"
      ],
      "id": "vI2R9U5zeuKa",
      "execution_count": 45,
      "outputs": [
        {
          "output_type": "execute_result",
          "data": {
            "text/plain": [
              "GaussianNB(priors=None, var_smoothing=1e-09)"
            ]
          },
          "metadata": {},
          "execution_count": 45
        }
      ]
    },
    {
      "cell_type": "code",
      "metadata": {
        "id": "IpfM_k_WfBKO"
      },
      "source": [
        "y_predOver = gnb.predict(X_testOver)"
      ],
      "id": "IpfM_k_WfBKO",
      "execution_count": 46,
      "outputs": []
    },
    {
      "cell_type": "code",
      "metadata": {
        "id": "RzXq36EofANz",
        "colab": {
          "base_uri": "https://localhost:8080/"
        },
        "outputId": "44413cad-4f80-4aaf-ecc4-ece7649bbac2"
      },
      "source": [
        "from sklearn.metrics import confusion_matrix\n",
        "cm = confusion_matrix(y_testOver, y_predOver)\n",
        "  \n",
        "print (\"Confusion Matrix : \\n\", cm)"
      ],
      "id": "RzXq36EofANz",
      "execution_count": 47,
      "outputs": [
        {
          "output_type": "stream",
          "name": "stdout",
          "text": [
            "Confusion Matrix : \n",
            " [[  653     0     0     0     0     0     0     0     0     0     0     6\n",
            "      0     0     0     0     0     0     0     0     0     2     0]\n",
            " [    0     5     0     0     0     0     0     1     3     0     0     0\n",
            "      0     0     0     0     0     0     0     0     0     0     0]\n",
            " [    0     0     3     0     0     0     0     0     0     0     0     0\n",
            "      0     0     0     0     0     0     0     0     0     0     0]\n",
            " [    0     0     0    16     0     0     0     0     0     0     0     0\n",
            "      0     0     0     0     0     0     0     0     0     0     0]\n",
            " [    0     0     0     0     3     0     0     0     0     0     0     1\n",
            "      0     0     0     0     0     0     0     0     0     0     0]\n",
            " [    0     0     0     0     0   373     0     0     0     0     0     1\n",
            "      0     0     0     0     0     0     0     0     0     0     0]\n",
            " [    0     0     0     0     0     0     6     0     0     0     0     0\n",
            "      0     0     0     0     0     0     0     0     0     0     0]\n",
            " [    0     0     0     0     0     0     0     2     0     0     0     1\n",
            "      0     0     0     0     0     0     0     0     0     0     0]\n",
            " [    0     0     0     0     0     0     0     0     1     0     0     1\n",
            "      0     0     0     0     0     0     0     0     0     0     0]\n",
            " [    0     0     0     0     0     0     0     0     0 32033    89     0\n",
            "      0     0     0     6     0    32     0     0     0     0     0]\n",
            " [    0     0     0     0     0    30     0     0     0     0    39     0\n",
            "      0     0     0     0     0     0     0     0     0     0     0]\n",
            " [    0  1073   405     0     0  1640     1    47    25     0  1408 17156\n",
            "      0     0     0     7  1652    99     1     0     0  5504   165]\n",
            " [    0     0     0     0     0     0     0     0     1     0     0     0\n",
            "      0     0     0     0     0     0     0     0     0     0     0]\n",
            " [    0     0     0     0     0     0     0     0     0     0     0     1\n",
            "      0     0     0     0     0     0     0     0     0     0     0]\n",
            " [    0     0     0     0     0     0     0     0     0     0     3     0\n",
            "      0     0    76     0     0     0     0     0     0     0     0]\n",
            " [    0     0     0     0     0     2     0     0     0     0     0     0\n",
            "      0     0     0   280     0    30     0     0     0     0     0]\n",
            " [    0     0     0     0     0     0     0     0     0     0     1     1\n",
            "      0     0     0     0     0     0     0     0     0     0     1]\n",
            " [    0     0     0     0     0     0     0     1     0     0    11     2\n",
            "      0     0     0     1     0   457     0     0     5     0     0]\n",
            " [    0     0     0     0     0     0     0     0     0     0     0    58\n",
            "      0     0    28     0     0     0 84151     0     0     0     0]\n",
            " [    0     0     0     0     0     0     0     0     0     0     0     0\n",
            "      0     0     0     0     0     0     0 84237     0     0     0]\n",
            " [    0     0     0     0     0     0     0     0     0     0     0     0\n",
            "      0     0     0     0     0     0     0     0   294     0     0]\n",
            " [    0    55    56     0     0     0     0    11     0     0     0     1\n",
            "      0     0     0     0     7     0     0     0     0   131    45]\n",
            " [    0     0     0     0     0     0     0     0     0     0     0     1\n",
            "      0     0     0     0     0     0     0     0     0     0     5]]\n"
          ]
        }
      ]
    },
    {
      "cell_type": "code",
      "metadata": {
        "id": "q210Qom8fABL",
        "colab": {
          "base_uri": "https://localhost:8080/"
        },
        "outputId": "2d6ed71b-6f6c-462a-fa1c-97ff1c49fcc3"
      },
      "source": [
        "from sklearn.metrics import f1_score\n",
        "f1score = f1_score(y_testOver,y_predOver, average='micro')\n",
        "print(f1score)"
      ],
      "id": "q210Qom8fABL",
      "execution_count": 48,
      "outputs": [
        {
          "output_type": "stream",
          "name": "stdout",
          "text": [
            "0.9461287283333979\n"
          ]
        }
      ]
    },
    {
      "cell_type": "code",
      "metadata": {
        "id": "vCqVtS3Je_q1",
        "colab": {
          "base_uri": "https://localhost:8080/"
        },
        "outputId": "019b6755-3515-450c-c0ec-00ee097c1bfb"
      },
      "source": [
        "from sklearn.metrics import accuracy_score\n",
        "print (\"Gaussian Naive Bayes model accuracy(in %):\", accuracy_score(y_testOver, y_predOver))"
      ],
      "id": "vCqVtS3Je_q1",
      "execution_count": 49,
      "outputs": [
        {
          "output_type": "stream",
          "name": "stdout",
          "text": [
            "Gaussian Naive Bayes model accuracy(in %): 0.9461287283333979\n"
          ]
        }
      ]
    },
    {
      "cell_type": "code",
      "metadata": {
        "id": "PWrIQvw5fVQe"
      },
      "source": [
        ""
      ],
      "id": "PWrIQvw5fVQe",
      "execution_count": 49,
      "outputs": []
    }
  ]
}